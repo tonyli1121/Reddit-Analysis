{
 "cells": [
  {
   "cell_type": "markdown",
   "id": "f5a4371e",
   "metadata": {},
   "source": [
    "# CSCD25 Project Part 2\n",
    "\n",
    "This file is intended to process the full dataset. We will choose a few subreddits and use data from 2019-2021 to construct datset for a more comprehensive graph in finding path.\n",
    "\n",
    "https://tonyli1121.github.io/Reddit-Analysis/\n",
    "\n",
    "**This file contains:**\n",
    "\n",
    "```\n",
    "- load and process full dataset\n",
    "- analysis on research question 3 and 4\n",
    "```"
   ]
  },
  {
   "cell_type": "markdown",
   "id": "942bf4aa",
   "metadata": {},
   "source": [
    "## Choosing subreddits\n",
    "\n",
    "Choose subreddits with least freq from main_dataset (2% random sample of all data). We use the \"least\" frequency because:\n",
    "\n",
    "    (1) smaller datset size\n",
    "    (2) still 'one' subreddit, maintains the component\n",
    "    (3) even it's the least, when using the full set it is still a large amount"
   ]
  },
  {
   "cell_type": "code",
   "execution_count": 1,
   "id": "09256ba9",
   "metadata": {},
   "outputs": [],
   "source": [
    "import pandas as pd"
   ]
  },
  {
   "cell_type": "code",
   "execution_count": 2,
   "id": "fbaa7248",
   "metadata": {},
   "outputs": [],
   "source": [
    "main_comments = pd.read_csv('main_comments.csv.gz')"
   ]
  },
  {
   "cell_type": "code",
   "execution_count": 3,
   "id": "b605648e",
   "metadata": {},
   "outputs": [],
   "source": [
    "grouped_comments = main_comments.groupby('subreddit')"
   ]
  },
  {
   "cell_type": "code",
   "execution_count": 4,
   "id": "437a174f",
   "metadata": {},
   "outputs": [
    {
     "data": {
      "text/plain": [
       "subreddit         subreddit       \n",
       "PS5               PS5                  90611\n",
       "pokemontrades     pokemontrades       101988\n",
       "EscapefromTarkov  EscapefromTarkov    102499\n",
       "Whatcouldgowrong  Whatcouldgowrong    103317\n",
       "LivestreamFail    LivestreamFail      106799\n",
       "Name: subreddit, dtype: int64"
      ]
     },
     "execution_count": 4,
     "metadata": {},
     "output_type": "execute_result"
    }
   ],
   "source": [
    "grouped_comments['subreddit'].value_counts().sort_values().head(5)"
   ]
  },
  {
   "cell_type": "code",
   "execution_count": 5,
   "id": "d03e9ffe",
   "metadata": {},
   "outputs": [
    {
     "data": {
      "text/plain": [
       "subreddit       subreddit     \n",
       "teenagers       teenagers          879026\n",
       "wallstreetbets  wallstreetbets     916366\n",
       "memes           memes             1368062\n",
       "politics        politics          1392243\n",
       "AskReddit       AskReddit         4041365\n",
       "Name: subreddit, dtype: int64"
      ]
     },
     "execution_count": 5,
     "metadata": {},
     "output_type": "execute_result"
    }
   ],
   "source": [
    "grouped_comments['subreddit'].value_counts().sort_values().tail(5)"
   ]
  },
  {
   "cell_type": "markdown",
   "id": "9ef80e79",
   "metadata": {},
   "source": [
    "## Loading comment"
   ]
  },
  {
   "cell_type": "markdown",
   "id": "b0b9e3bd",
   "metadata": {},
   "source": [
    "we just load subreddits ['ps5', 'pokemontrades', 'EscapefromTarkov'] in case kernal dies\n",
    "\n",
    "we will also try to run with ['memes','politics','AskReddit']"
   ]
  },
  {
   "cell_type": "code",
   "execution_count": 6,
   "id": "1170bb76",
   "metadata": {},
   "outputs": [
    {
     "name": "stderr",
     "output_type": "stream",
     "text": [
      "100%|███████████████████████████████████████| 911/911 [4:14:14<00:00, 16.75s/it]\n"
     ]
    }
   ],
   "source": [
    "import datetime\n",
    "from datetime import date, timedelta\n",
    "from tqdm import tqdm\n",
    "\n",
    "start_date = datetime.date(2019, 1, 1)\n",
    "\n",
    "end_date = datetime.date(2021, 6, 30)\n",
    "\n",
    "delta = datetime.timedelta(days=1)\n",
    "\n",
    "PS5 = pd.DataFrame()\n",
    "pokemontrades = pd.DataFrame()\n",
    "EscapefromTarkov = pd.DataFrame()\n",
    "memes = pd.DataFrame()\n",
    "politics = pd.DataFrame()\n",
    "AskReddit = pd.DataFrame()\n",
    "\n",
    "for i in tqdm(range((end_date - start_date).days)):  \n",
    "    url_name = 'http://csslab.cs.toronto.edu/cscd25/full/comments_' + str(start_date + i*delta) +'.csv.gz'\n",
    "    \n",
    "    df = pd.read_csv(url_name)    \n",
    "    df = df[df.author != '[deleted]'] #[deleted]\n",
    "    df = df[df.author != 'AutoModerator'] #[auto moderator]\n",
    "    \n",
    "    PS5 = PS5.append(df.loc[df.subreddit == 'PS5'])\n",
    "    pokemontrades = pokemontrades.append(df.loc[df.subreddit == 'pokemontrades'])\n",
    "    EscapefromTarkov = EscapefromTarkov.append(df.loc[df.subreddit == 'EscapefromTarkov'])\n",
    "    #memes = memes.append(df.loc[df.subreddit == 'memes'])\n",
    "    #politics = politics.append(df.loc[df.subreddit == 'politics'])\n",
    "    #AskReddit = AskReddit.append(df.loc[df.subreddit == 'AskReddit'])\n",
    "    "
   ]
  },
  {
   "cell_type": "code",
   "execution_count": 7,
   "id": "5b6c0c5b",
   "metadata": {},
   "outputs": [],
   "source": [
    "'''memes.to_csv('full/h1.csv')\n",
    "politics.to_csv('full/h2.csv')\n",
    "AskReddit.to_csv('full/h3.csv')'''\n",
    "\n",
    "PS5.to_csv('full/l1.csv')\n",
    "pokemontrades.to_csv('full/l2.csv')\n",
    "EscapefromTarkov.to_csv('full/l3.csv')"
   ]
  },
  {
   "cell_type": "markdown",
   "id": "e2be4283",
   "metadata": {},
   "source": [
    "## Loading submissions"
   ]
  },
  {
   "cell_type": "code",
   "execution_count": 8,
   "id": "3ea3aaf6",
   "metadata": {},
   "outputs": [],
   "source": [
    "import datetime\n",
    "from datetime import date, timedelta\n",
    "from tqdm import tqdm\n",
    "\n",
    "url_name = 'http://csslab.cs.toronto.edu/cscd25/full/submissions_2019-01-01.csv.gz'\n",
    "    \n",
    "df = pd.read_csv(url_name)\n",
    "df = df.loc[df.subreddit.isin(['PS5','pokemontrades','EscapefromTarkov'])]\n",
    "df = df[['id','author']]\n",
    "df = df[df.author != '[deleted]'] #[deleted]\n",
    "df = df[df.author != 'AutoModerator'] #[auto moderator]\n",
    "df.columns = ['link_id', 'link_author']\n",
    "  \n",
    "PS5 = PS5.merge(df, how='left', on='link_id')\n",
    "pokemontrades = pokemontrades.merge(df, how='left', on='link_id')\n",
    "EscapefromTarkov = EscapefromTarkov.merge(df, how='left', on='link_id')\n",
    "\n",
    "start_date = datetime.date(2019, 1, 2)\n",
    "\n",
    "end_date = datetime.date(2021, 6, 30)\n",
    "\n",
    "delta = datetime.timedelta(days=1)"
   ]
  },
  {
   "cell_type": "code",
   "execution_count": 9,
   "id": "34ac7703",
   "metadata": {},
   "outputs": [
    {
     "name": "stderr",
     "output_type": "stream",
     "text": [
      "100%|███████████████████████████████████████| 910/910 [4:16:32<00:00, 16.91s/it]\n"
     ]
    }
   ],
   "source": [
    "for i in tqdm(range((end_date - start_date).days)):  \n",
    "    url_name = 'http://csslab.cs.toronto.edu/cscd25/full/submissions_' + str(start_date + i*delta) +'.csv.gz'\n",
    "    \n",
    "    df = pd.read_csv(url_name)\n",
    "    df = df.loc[df.subreddit.isin(['PS5','pokemontrades','EscapefromTarkov'])]\n",
    "    df = df[['id','author']]\n",
    "    df = df[df.author != '[deleted]'] #[deleted]\n",
    "    df = df[df.author != 'AutoModerator'] #[auto moderator]\n",
    "    df.columns = ['link_id', 'link_author']\n",
    "    \n",
    "    PS5 = PS5.merge(df, how='left', on='link_id')\n",
    "    PS5['link_author'] = PS5['link_author_y'].fillna(PS5['link_author_x'])\n",
    "    PS5 = PS5.drop(['link_author_x','link_author_y'], axis=1)\n",
    "    \n",
    "    pokemontrades = pokemontrades.merge(df, how='left', on='link_id')\n",
    "    pokemontrades['link_author'] = pokemontrades['link_author_y'].fillna(pokemontrades['link_author_x'])\n",
    "    pokemontrades = pokemontrades.drop(['link_author_x','link_author_y'], axis=1)\n",
    "    \n",
    "    EscapefromTarkov = EscapefromTarkov.merge(df, how='left', on='link_id')\n",
    "    EscapefromTarkov['link_author'] = EscapefromTarkov['link_author_y'].fillna(EscapefromTarkov['link_author_x'])\n",
    "    EscapefromTarkov = EscapefromTarkov.drop(['link_author_x','link_author_y'], axis=1)\n",
    "    '''\n",
    "    memes = memes.merge(df, how='left', on='link_id')\n",
    "    memes['link_author'] = memes['link_author_y'].fillna(memes['link_author_x'])\n",
    "    memes = memes.drop(['link_author_x','link_author_y'], axis=1)\n",
    "    \n",
    "    politics = politics.merge(df, how='left', on='link_id')\n",
    "    politics['link_author'] = politics['link_author_y'].fillna(politics['link_author_x'])\n",
    "    politics = politics.drop(['link_author_x','link_author_y'], axis=1)\n",
    "    \n",
    "    AskReddit = AskReddit.merge(df, how='left', on='link_id')\n",
    "    AskReddit['link_author'] = AskReddit['link_author_y'].fillna(AskReddit['link_author_x'])\n",
    "    AskReddit = AskReddit.drop(['link_author_x','link_author_y'], axis=1)'''\n",
    "\n",
    "PS5 = PS5.dropna()\n",
    "pokemontrades = pokemontrades.dropna()\n",
    "EscapefromTarkov = EscapefromTarkov.dropna()"
   ]
  },
  {
   "cell_type": "code",
   "execution_count": 10,
   "id": "dd6276c9",
   "metadata": {},
   "outputs": [],
   "source": [
    "PS5.to_csv('full/l1.csv')\n",
    "pokemontrades.to_csv('full/l2.csv')\n",
    "EscapefromTarkov.to_csv('full/l3.csv')"
   ]
  },
  {
   "cell_type": "markdown",
   "id": "6ab76ffc",
   "metadata": {},
   "source": [
    "## Looking at full dataset"
   ]
  },
  {
   "cell_type": "code",
   "execution_count": 1,
   "id": "2a007f44",
   "metadata": {},
   "outputs": [],
   "source": [
    "import pandas as pd\n",
    "\n",
    "PS5 = pd.read_csv('full/l1.csv',index_col=0)\n",
    "#pokemontrades = pd.read_csv('full/l2.csv', index_col = 0)\n",
    "#EscapefromTarkov = pd.read_csv('full/l3.csv', index_col = 0)"
   ]
  },
  {
   "cell_type": "code",
   "execution_count": 2,
   "id": "8a133ac2",
   "metadata": {},
   "outputs": [
    {
     "data": {
      "text/html": [
       "<div>\n",
       "<style scoped>\n",
       "    .dataframe tbody tr th:only-of-type {\n",
       "        vertical-align: middle;\n",
       "    }\n",
       "\n",
       "    .dataframe tbody tr th {\n",
       "        vertical-align: top;\n",
       "    }\n",
       "\n",
       "    .dataframe thead th {\n",
       "        text-align: right;\n",
       "    }\n",
       "</style>\n",
       "<table border=\"1\" class=\"dataframe\">\n",
       "  <thead>\n",
       "    <tr style=\"text-align: right;\">\n",
       "      <th></th>\n",
       "      <th>id</th>\n",
       "      <th>score</th>\n",
       "      <th>link_id</th>\n",
       "      <th>author</th>\n",
       "      <th>subreddit</th>\n",
       "      <th>created_utc</th>\n",
       "      <th>link_author</th>\n",
       "    </tr>\n",
       "  </thead>\n",
       "  <tbody>\n",
       "    <tr>\n",
       "      <th>16</th>\n",
       "      <td>t1_ed160ry</td>\n",
       "      <td>12</td>\n",
       "      <td>t3_abkzn8</td>\n",
       "      <td>streakman0811</td>\n",
       "      <td>PS5</td>\n",
       "      <td>1546373679</td>\n",
       "      <td>thuper_thayan</td>\n",
       "    </tr>\n",
       "    <tr>\n",
       "      <th>17</th>\n",
       "      <td>t1_ed167ca</td>\n",
       "      <td>3</td>\n",
       "      <td>t3_abkzn8</td>\n",
       "      <td>HoustonRocket</td>\n",
       "      <td>PS5</td>\n",
       "      <td>1546373802</td>\n",
       "      <td>thuper_thayan</td>\n",
       "    </tr>\n",
       "    <tr>\n",
       "      <th>18</th>\n",
       "      <td>t1_ed168w8</td>\n",
       "      <td>1</td>\n",
       "      <td>t3_abkzn8</td>\n",
       "      <td>thuper_thayan</td>\n",
       "      <td>PS5</td>\n",
       "      <td>1546373831</td>\n",
       "      <td>thuper_thayan</td>\n",
       "    </tr>\n",
       "    <tr>\n",
       "      <th>19</th>\n",
       "      <td>t1_ed17v69</td>\n",
       "      <td>1</td>\n",
       "      <td>t3_abkzn8</td>\n",
       "      <td>tmcd35</td>\n",
       "      <td>PS5</td>\n",
       "      <td>1546374894</td>\n",
       "      <td>thuper_thayan</td>\n",
       "    </tr>\n",
       "    <tr>\n",
       "      <th>20</th>\n",
       "      <td>t1_ed1a85l</td>\n",
       "      <td>3</td>\n",
       "      <td>t3_abkzn8</td>\n",
       "      <td>Magicihan</td>\n",
       "      <td>PS5</td>\n",
       "      <td>1546376498</td>\n",
       "      <td>thuper_thayan</td>\n",
       "    </tr>\n",
       "  </tbody>\n",
       "</table>\n",
       "</div>"
      ],
      "text/plain": [
       "            id  score    link_id         author subreddit  created_utc  \\\n",
       "16  t1_ed160ry     12  t3_abkzn8  streakman0811       PS5   1546373679   \n",
       "17  t1_ed167ca      3  t3_abkzn8  HoustonRocket       PS5   1546373802   \n",
       "18  t1_ed168w8      1  t3_abkzn8  thuper_thayan       PS5   1546373831   \n",
       "19  t1_ed17v69      1  t3_abkzn8         tmcd35       PS5   1546374894   \n",
       "20  t1_ed1a85l      3  t3_abkzn8      Magicihan       PS5   1546376498   \n",
       "\n",
       "      link_author  \n",
       "16  thuper_thayan  \n",
       "17  thuper_thayan  \n",
       "18  thuper_thayan  \n",
       "19  thuper_thayan  \n",
       "20  thuper_thayan  "
      ]
     },
     "execution_count": 2,
     "metadata": {},
     "output_type": "execute_result"
    }
   ],
   "source": [
    "PS5.head()"
   ]
  },
  {
   "cell_type": "code",
   "execution_count": 3,
   "id": "8ba05925",
   "metadata": {},
   "outputs": [
    {
     "data": {
      "text/plain": [
       "(3580232, 7)"
      ]
     },
     "execution_count": 3,
     "metadata": {},
     "output_type": "execute_result"
    }
   ],
   "source": [
    "PS5.shape"
   ]
  },
  {
   "cell_type": "markdown",
   "id": "2521c32c",
   "metadata": {},
   "source": [
    "## Finding path"
   ]
  },
  {
   "cell_type": "code",
   "execution_count": 4,
   "id": "6320f16c",
   "metadata": {},
   "outputs": [],
   "source": [
    "import networkx as nx\n",
    "import tqdm\n",
    "\n",
    "result = pd.DataFrame(index = ['PS5 - full','pokemontrades - full','EscapefromTarkov - full'], \n",
    "                                columns = ['Number of Authors',\n",
    "                                           'Nonzero',\n",
    "                                           '% Existence', \n",
    "                                           'average', \n",
    "                                           'median'])\n",
    "\n"
   ]
  },
  {
   "cell_type": "code",
   "execution_count": 28,
   "id": "8864700e",
   "metadata": {},
   "outputs": [
    {
     "name": "stdout",
     "output_type": "stream",
     "text": [
      "-- START ANALYZING\n"
     ]
    },
    {
     "name": "stderr",
     "output_type": "stream",
     "text": [
      "100%|████████████████████████████████████| 10839/10839 [01:18<00:00, 137.47it/s]\n"
     ]
    },
    {
     "name": "stdout",
     "output_type": "stream",
     "text": [
      "-- START ANALYZING\n"
     ]
    },
    {
     "name": "stderr",
     "output_type": "stream",
     "text": [
      "100%|█████████████████████████████████████| 34425/34425 [52:47<00:00, 10.87it/s]\n"
     ]
    }
   ],
   "source": [
    "samplesize = [10000, 50000]\n",
    "\n",
    "for size in samplesize:\n",
    "    tmp = PS5.sample(size,random_state = 1121)\n",
    "    G = nx.from_pandas_edgelist(tmp, 'author','link_author')\n",
    "\n",
    "    countPath = 0\n",
    "    avgs = []\n",
    "    max_len = 0\n",
    "\n",
    "    subreddit = 'PS5 - ' + str(size)\n",
    "\n",
    "    authors_list = tmp.author.append(tmp.link_author).unique().tolist()\n",
    "    print('-- START ANALYZING')\n",
    "\n",
    "    for i in tqdm.tqdm(authors_list):\n",
    "        author_pathlen_dict = nx.single_source_dijkstra_path_length(G,i, cutoff=10)\n",
    "        countPath += len(author_pathlen_dict)\n",
    "        if len(author_pathlen_dict)== 1:\n",
    "            tmp = 0\n",
    "        else:\n",
    "            tmp = sum(author_pathlen_dict.values()) / (len(author_pathlen_dict)-1)\n",
    "        avgs.append(tmp)\n",
    "        max_len = max(max_len, max(author_pathlen_dict.values()))\n",
    "\n",
    "    result.at[subreddit, 'Number of Authors'] = len(authors_list)\n",
    "    result.at[subreddit,'Nonzero'] = countPath\n",
    "    result.at[subreddit,'% Existence'] = countPath/len(authors_list)**2\n",
    "    result.at[subreddit,'average'] = sum(avgs)/len(authors_list)\n",
    "    result.at[subreddit,'median'] = avgs[len(avgs)//2]"
   ]
  },
  {
   "cell_type": "code",
   "execution_count": 6,
   "id": "ccdbf1be",
   "metadata": {},
   "outputs": [
    {
     "data": {
      "text/html": [
       "<div>\n",
       "<style scoped>\n",
       "    .dataframe tbody tr th:only-of-type {\n",
       "        vertical-align: middle;\n",
       "    }\n",
       "\n",
       "    .dataframe tbody tr th {\n",
       "        vertical-align: top;\n",
       "    }\n",
       "\n",
       "    .dataframe thead th {\n",
       "        text-align: right;\n",
       "    }\n",
       "</style>\n",
       "<table border=\"1\" class=\"dataframe\">\n",
       "  <thead>\n",
       "    <tr style=\"text-align: right;\">\n",
       "      <th></th>\n",
       "      <th>Number of Authors</th>\n",
       "      <th>Nonzero</th>\n",
       "      <th>% Existence</th>\n",
       "      <th>average</th>\n",
       "      <th>median</th>\n",
       "    </tr>\n",
       "  </thead>\n",
       "  <tbody>\n",
       "    <tr>\n",
       "      <th>PS5 - full</th>\n",
       "      <td>NaN</td>\n",
       "      <td>NaN</td>\n",
       "      <td>NaN</td>\n",
       "      <td>NaN</td>\n",
       "      <td>NaN</td>\n",
       "    </tr>\n",
       "    <tr>\n",
       "      <th>pokemontrades - full</th>\n",
       "      <td>NaN</td>\n",
       "      <td>NaN</td>\n",
       "      <td>NaN</td>\n",
       "      <td>NaN</td>\n",
       "      <td>NaN</td>\n",
       "    </tr>\n",
       "    <tr>\n",
       "      <th>EscapefromTarkov - full</th>\n",
       "      <td>NaN</td>\n",
       "      <td>NaN</td>\n",
       "      <td>NaN</td>\n",
       "      <td>NaN</td>\n",
       "      <td>NaN</td>\n",
       "    </tr>\n",
       "    <tr>\n",
       "      <th>PS5 - 10000</th>\n",
       "      <td>10839.0</td>\n",
       "      <td>35685561.0</td>\n",
       "      <td>0.303748</td>\n",
       "      <td>3.564574</td>\n",
       "      <td>6.663295</td>\n",
       "    </tr>\n",
       "    <tr>\n",
       "      <th>PS5 - 50000</th>\n",
       "      <td>34425.0</td>\n",
       "      <td>830961037.0</td>\n",
       "      <td>0.701185</td>\n",
       "      <td>4.055531</td>\n",
       "      <td>5.304330</td>\n",
       "    </tr>\n",
       "  </tbody>\n",
       "</table>\n",
       "</div>"
      ],
      "text/plain": [
       "                         Number of Authors      Nonzero  % Existence  \\\n",
       "PS5 - full                             NaN          NaN          NaN   \n",
       "pokemontrades - full                   NaN          NaN          NaN   \n",
       "EscapefromTarkov - full                NaN          NaN          NaN   \n",
       "PS5 - 10000                        10839.0   35685561.0     0.303748   \n",
       "PS5 - 50000                        34425.0  830961037.0     0.701185   \n",
       "\n",
       "                          average    median  \n",
       "PS5 - full                    NaN       NaN  \n",
       "pokemontrades - full          NaN       NaN  \n",
       "EscapefromTarkov - full       NaN       NaN  \n",
       "PS5 - 10000              3.564574  6.663295  \n",
       "PS5 - 50000              4.055531  5.304330  "
      ]
     },
     "execution_count": 6,
     "metadata": {},
     "output_type": "execute_result"
    }
   ],
   "source": [
    "result"
   ]
  },
  {
   "cell_type": "code",
   "execution_count": 31,
   "id": "19a81849",
   "metadata": {},
   "outputs": [],
   "source": [
    "#result.to_csv('result_full_trial.csv')"
   ]
  },
  {
   "cell_type": "markdown",
   "id": "eb315c41",
   "metadata": {},
   "source": [
    "#### USE SNAP\n",
    "\n",
    "adding nodes: https://stackoverflow.com/questions/51780621/converting-pandas-dataframe-to-snap-py"
   ]
  },
  {
   "cell_type": "code",
   "execution_count": 5,
   "id": "f2af18c7",
   "metadata": {},
   "outputs": [],
   "source": [
    "import snap\n",
    "result = pd.read_csv('result_full_trial.csv', index_col=0)"
   ]
  },
  {
   "cell_type": "code",
   "execution_count": 7,
   "id": "71d0a7cc",
   "metadata": {},
   "outputs": [
    {
     "name": "stderr",
     "output_type": "stream",
     "text": [
      "100%|█████████████████████████████████| 10839/10839 [00:00<00:00, 864758.07it/s]\n"
     ]
    },
    {
     "name": "stdout",
     "output_type": "stream",
     "text": [
      "-- START ANALYZING\n"
     ]
    },
    {
     "name": "stderr",
     "output_type": "stream",
     "text": [
      "100%|████████████████████████████████████| 10839/10839 [01:14<00:00, 145.18it/s]\n",
      "100%|█████████████████████████████████| 34425/34425 [00:00<00:00, 810240.54it/s]\n"
     ]
    },
    {
     "name": "stdout",
     "output_type": "stream",
     "text": [
      "-- START ANALYZING\n"
     ]
    },
    {
     "name": "stderr",
     "output_type": "stream",
     "text": [
      "100%|█████████████████████████████████████| 34425/34425 [29:19<00:00, 19.56it/s]\n"
     ]
    }
   ],
   "source": [
    "samplesize = [10000, 50000]\n",
    "\n",
    "for size in samplesize:\n",
    "    tmp = PS5.sample(size,random_state = 1121)\n",
    "    \n",
    "    # encode into int to pass in snap graph\n",
    "    author_list = tmp.author.append(tmp.link_author).unique().tolist()\n",
    "    encode_int = pd.DataFrame({'author': author_list, 'author_id':range(len(author_list))})\n",
    "    tmp = tmp.merge(encode_int, on = 'author')\n",
    "    encode_int.columns = ['link_author','link_author_id']\n",
    "    tmp = tmp.merge(encode_int, on = 'link_author')\n",
    "    \n",
    "    # construct graph in snap\n",
    "    G1 = snap.TUNGraph.New()\n",
    "    # Add nodes:\n",
    "    nodes = tmp.author_id.append(tmp.link_author_id).unique().tolist()\n",
    "    for node in tqdm.tqdm(nodes):\n",
    "        G1.AddNode(int(node))\n",
    "    # Add edges:\n",
    "    for index, row in tmp.iterrows():\n",
    "        G1.AddEdge(int(row['link_author_id']), int(row['author_id']))\n",
    "    \n",
    "    countPath = 0\n",
    "    avgs = []\n",
    "    max_len = 0\n",
    "\n",
    "    subreddit = '(snap) PS5 - ' + str(size)\n",
    "\n",
    "    print('-- START ANALYZING')\n",
    "\n",
    "    for i in tqdm.tqdm(nodes):\n",
    "        shortestPath, NIdToDistH = G1.GetShortPathAll(i, MaxDist = 10)\n",
    "        countPath += len(NIdToDistH)\n",
    "        if len(NIdToDistH)== 1:\n",
    "            tmp = 0\n",
    "        else:\n",
    "            sum_length = 0\n",
    "            for item in NIdToDistH:\n",
    "                sum_length += NIdToDistH[item]\n",
    "            tmp =  sum_length / (len(NIdToDistH)-1)\n",
    "        avgs.append(tmp)\n",
    "\n",
    "    result.at[subreddit, 'Number of Authors'] = len(nodes)\n",
    "    result.at[subreddit,'Nonzero'] = countPath\n",
    "    result.at[subreddit,'% Existence'] = countPath/len(nodes)**2\n",
    "    result.at[subreddit,'average'] = sum(avgs)/len(nodes)\n",
    "    result.at[subreddit,'median'] = avgs[len(avgs)//2]"
   ]
  },
  {
   "cell_type": "code",
   "execution_count": 7,
   "id": "a8b12495",
   "metadata": {},
   "outputs": [
    {
     "data": {
      "text/html": [
       "<div>\n",
       "<style scoped>\n",
       "    .dataframe tbody tr th:only-of-type {\n",
       "        vertical-align: middle;\n",
       "    }\n",
       "\n",
       "    .dataframe tbody tr th {\n",
       "        vertical-align: top;\n",
       "    }\n",
       "\n",
       "    .dataframe thead th {\n",
       "        text-align: right;\n",
       "    }\n",
       "</style>\n",
       "<table border=\"1\" class=\"dataframe\">\n",
       "  <thead>\n",
       "    <tr style=\"text-align: right;\">\n",
       "      <th></th>\n",
       "      <th>Number of Authors</th>\n",
       "      <th>Nonzero</th>\n",
       "      <th>% Existence</th>\n",
       "      <th>average</th>\n",
       "      <th>median</th>\n",
       "    </tr>\n",
       "  </thead>\n",
       "  <tbody>\n",
       "    <tr>\n",
       "      <th>PS5 - full</th>\n",
       "      <td>NaN</td>\n",
       "      <td>NaN</td>\n",
       "      <td>NaN</td>\n",
       "      <td>NaN</td>\n",
       "      <td>NaN</td>\n",
       "    </tr>\n",
       "    <tr>\n",
       "      <th>pokemontrades - full</th>\n",
       "      <td>NaN</td>\n",
       "      <td>NaN</td>\n",
       "      <td>NaN</td>\n",
       "      <td>NaN</td>\n",
       "      <td>NaN</td>\n",
       "    </tr>\n",
       "    <tr>\n",
       "      <th>EscapefromTarkov - full</th>\n",
       "      <td>NaN</td>\n",
       "      <td>NaN</td>\n",
       "      <td>NaN</td>\n",
       "      <td>NaN</td>\n",
       "      <td>NaN</td>\n",
       "    </tr>\n",
       "    <tr>\n",
       "      <th>PS5 - 10000</th>\n",
       "      <td>10839.0</td>\n",
       "      <td>35685561.0</td>\n",
       "      <td>0.303748</td>\n",
       "      <td>3.564574</td>\n",
       "      <td>6.663295</td>\n",
       "    </tr>\n",
       "    <tr>\n",
       "      <th>PS5 - 50000</th>\n",
       "      <td>34425.0</td>\n",
       "      <td>830961037.0</td>\n",
       "      <td>0.701185</td>\n",
       "      <td>4.055531</td>\n",
       "      <td>5.304330</td>\n",
       "    </tr>\n",
       "  </tbody>\n",
       "</table>\n",
       "</div>"
      ],
      "text/plain": [
       "                         Number of Authors      Nonzero  % Existence  \\\n",
       "PS5 - full                             NaN          NaN          NaN   \n",
       "pokemontrades - full                   NaN          NaN          NaN   \n",
       "EscapefromTarkov - full                NaN          NaN          NaN   \n",
       "PS5 - 10000                        10839.0   35685561.0     0.303748   \n",
       "PS5 - 50000                        34425.0  830961037.0     0.701185   \n",
       "\n",
       "                          average    median  \n",
       "PS5 - full                    NaN       NaN  \n",
       "pokemontrades - full          NaN       NaN  \n",
       "EscapefromTarkov - full       NaN       NaN  \n",
       "PS5 - 10000              3.564574  6.663295  \n",
       "PS5 - 50000              4.055531  5.304330  "
      ]
     },
     "execution_count": 7,
     "metadata": {},
     "output_type": "execute_result"
    }
   ],
   "source": [
    "result"
   ]
  },
  {
   "cell_type": "code",
   "execution_count": 16,
   "id": "aec7d846",
   "metadata": {},
   "outputs": [
    {
     "name": "stderr",
     "output_type": "stream",
     "text": [
      "3580232it [02:23, 24939.54it/s]\n"
     ]
    }
   ],
   "source": [
    "# encode into int to pass in snap graph\n",
    "author_list = PS5.author.append(PS5.link_author).unique().tolist()\n",
    "encode_int = pd.DataFrame({'author': author_list, 'author_id':range(len(author_list))})\n",
    "PS5 = PS5.merge(encode_int, on = 'author')\n",
    "encode_int.columns = ['link_author','link_author_id']\n",
    "PS5 = PS5.merge(encode_int, on = 'link_author')\n",
    "    \n",
    "# construct graph in snap\n",
    "G1 = snap.TUNGraph.New()\n",
    "# Add nodes:\n",
    "nodes = PS5.author_id.append(PS5.link_author_id).unique().tolist()\n",
    "for node in nodes:\n",
    "    G1.AddNode(int(node))\n",
    "# Add edges:\n",
    "for index, row in tqdm.tqdm(PS5.iterrows()):\n",
    "    G1.AddEdge(int(row['link_author_id']), int(row['author_id']))"
   ]
  },
  {
   "cell_type": "code",
   "execution_count": 34,
   "id": "409b9e5d",
   "metadata": {},
   "outputs": [
    {
     "name": "stdout",
     "output_type": "stream",
     "text": [
      "-- START ANALYZING\n"
     ]
    },
    {
     "name": "stderr",
     "output_type": "stream",
     "text": [
      "100%|████████████████████████████████| 322476/322476 [57:27:42<00:00,  1.56it/s]\n"
     ]
    }
   ],
   "source": [
    "countPath = 0\n",
    "avgs = []\n",
    "max_len = 0\n",
    "\n",
    "subreddit = 'PS5 - full'\n",
    "print('-- START ANALYZING')\n",
    "\n",
    "for i in tqdm.tqdm(nodes):\n",
    "    shortestPath, NIdToDistH = G1.GetShortPathAll(i)\n",
    "    countPath += len(NIdToDistH)\n",
    "    if len(NIdToDistH)== 1:\n",
    "        tmp = 0\n",
    "    else:\n",
    "        sum_length = 0\n",
    "        for item in NIdToDistH:\n",
    "            sum_length += NIdToDistH[item]\n",
    "        tmp =  sum_length / (len(NIdToDistH)-1)\n",
    "    avgs.append(tmp)\n",
    "    max_len = max(max_len, tmp)\n",
    "\n",
    "result.at[subreddit, 'Number of Authors'] = len(nodes)\n",
    "result.at[subreddit,'Nonzero'] = countPath\n",
    "result.at[subreddit,'% Existence'] = countPath/len(nodes)**2\n",
    "result.at[subreddit,'average'] = sum(avgs)/len(nodes)\n",
    "result.at[subreddit,'median'] = avgs[len(avgs)//2]"
   ]
  },
  {
   "cell_type": "code",
   "execution_count": 10,
   "id": "3e07f5da",
   "metadata": {},
   "outputs": [
    {
     "data": {
      "text/html": [
       "<div>\n",
       "<style scoped>\n",
       "    .dataframe tbody tr th:only-of-type {\n",
       "        vertical-align: middle;\n",
       "    }\n",
       "\n",
       "    .dataframe tbody tr th {\n",
       "        vertical-align: top;\n",
       "    }\n",
       "\n",
       "    .dataframe thead th {\n",
       "        text-align: right;\n",
       "    }\n",
       "</style>\n",
       "<table border=\"1\" class=\"dataframe\">\n",
       "  <thead>\n",
       "    <tr style=\"text-align: right;\">\n",
       "      <th></th>\n",
       "      <th>Number of Authors</th>\n",
       "      <th>Nonzero</th>\n",
       "      <th>% Existence</th>\n",
       "      <th>average</th>\n",
       "      <th>median</th>\n",
       "    </tr>\n",
       "  </thead>\n",
       "  <tbody>\n",
       "    <tr>\n",
       "      <th>PS5 - full</th>\n",
       "      <td>322476.0</td>\n",
       "      <td>1.036653e+11</td>\n",
       "      <td>0.996870</td>\n",
       "      <td>3.451716</td>\n",
       "      <td>3.491083</td>\n",
       "    </tr>\n",
       "    <tr>\n",
       "      <th>pokemontrades - full</th>\n",
       "      <td>NaN</td>\n",
       "      <td>NaN</td>\n",
       "      <td>NaN</td>\n",
       "      <td>NaN</td>\n",
       "      <td>NaN</td>\n",
       "    </tr>\n",
       "    <tr>\n",
       "      <th>EscapefromTarkov - full</th>\n",
       "      <td>NaN</td>\n",
       "      <td>NaN</td>\n",
       "      <td>NaN</td>\n",
       "      <td>NaN</td>\n",
       "      <td>NaN</td>\n",
       "    </tr>\n",
       "    <tr>\n",
       "      <th>PS5 - 10000</th>\n",
       "      <td>10839.0</td>\n",
       "      <td>3.568556e+07</td>\n",
       "      <td>0.303748</td>\n",
       "      <td>3.564574</td>\n",
       "      <td>6.663295</td>\n",
       "    </tr>\n",
       "    <tr>\n",
       "      <th>PS5 - 50000</th>\n",
       "      <td>34425.0</td>\n",
       "      <td>8.309610e+08</td>\n",
       "      <td>0.701185</td>\n",
       "      <td>4.055531</td>\n",
       "      <td>5.304330</td>\n",
       "    </tr>\n",
       "    <tr>\n",
       "      <th>(snap) PS5 - 10000</th>\n",
       "      <td>10839.0</td>\n",
       "      <td>3.568556e+07</td>\n",
       "      <td>0.303748</td>\n",
       "      <td>3.564574</td>\n",
       "      <td>9.478597</td>\n",
       "    </tr>\n",
       "    <tr>\n",
       "      <th>(snap) PS5 - 50000</th>\n",
       "      <td>34425.0</td>\n",
       "      <td>8.309610e+08</td>\n",
       "      <td>0.701185</td>\n",
       "      <td>4.055531</td>\n",
       "      <td>5.393706</td>\n",
       "    </tr>\n",
       "  </tbody>\n",
       "</table>\n",
       "</div>"
      ],
      "text/plain": [
       "                         Number of Authors       Nonzero  % Existence  \\\n",
       "PS5 - full                        322476.0  1.036653e+11     0.996870   \n",
       "pokemontrades - full                   NaN           NaN          NaN   \n",
       "EscapefromTarkov - full                NaN           NaN          NaN   \n",
       "PS5 - 10000                        10839.0  3.568556e+07     0.303748   \n",
       "PS5 - 50000                        34425.0  8.309610e+08     0.701185   \n",
       "(snap) PS5 - 10000                 10839.0  3.568556e+07     0.303748   \n",
       "(snap) PS5 - 50000                 34425.0  8.309610e+08     0.701185   \n",
       "\n",
       "                          average    median  \n",
       "PS5 - full               3.451716  3.491083  \n",
       "pokemontrades - full          NaN       NaN  \n",
       "EscapefromTarkov - full       NaN       NaN  \n",
       "PS5 - 10000              3.564574  6.663295  \n",
       "PS5 - 50000              4.055531  5.304330  \n",
       "(snap) PS5 - 10000       3.564574  9.478597  \n",
       "(snap) PS5 - 50000       4.055531  5.393706  "
      ]
     },
     "execution_count": 10,
     "metadata": {},
     "output_type": "execute_result"
    }
   ],
   "source": [
    "result"
   ]
  },
  {
   "cell_type": "code",
   "execution_count": 36,
   "id": "882630d8",
   "metadata": {},
   "outputs": [
    {
     "name": "stdout",
     "output_type": "stream",
     "text": [
      "6.550287293847253\n"
     ]
    }
   ],
   "source": [
    "print(max_len) # max avg path length"
   ]
  },
  {
   "cell_type": "code",
   "execution_count": 9,
   "id": "86e0ff31",
   "metadata": {},
   "outputs": [],
   "source": [
    "result = pd.read_csv('result_full_snap.csv', index_col=0)\n",
    "#a = pd.DataFrame(data = {'author':nodes, 'avg per author': avgs})\n",
    "a = pd.read_csv('full/PS5_author_avg.csv', index_col = 0)"
   ]
  },
  {
   "cell_type": "code",
   "execution_count": 11,
   "id": "8e1b4beb",
   "metadata": {},
   "outputs": [
    {
     "data": {
      "text/html": [
       "<div>\n",
       "<style scoped>\n",
       "    .dataframe tbody tr th:only-of-type {\n",
       "        vertical-align: middle;\n",
       "    }\n",
       "\n",
       "    .dataframe tbody tr th {\n",
       "        vertical-align: top;\n",
       "    }\n",
       "\n",
       "    .dataframe thead th {\n",
       "        text-align: right;\n",
       "    }\n",
       "</style>\n",
       "<table border=\"1\" class=\"dataframe\">\n",
       "  <thead>\n",
       "    <tr style=\"text-align: right;\">\n",
       "      <th></th>\n",
       "      <th>author</th>\n",
       "      <th>avg per author</th>\n",
       "    </tr>\n",
       "  </thead>\n",
       "  <tbody>\n",
       "    <tr>\n",
       "      <th>0</th>\n",
       "      <td>0</td>\n",
       "      <td>2.586837</td>\n",
       "    </tr>\n",
       "    <tr>\n",
       "      <th>1</th>\n",
       "      <td>1</td>\n",
       "      <td>3.076364</td>\n",
       "    </tr>\n",
       "    <tr>\n",
       "      <th>2</th>\n",
       "      <td>2</td>\n",
       "      <td>3.493714</td>\n",
       "    </tr>\n",
       "    <tr>\n",
       "      <th>3</th>\n",
       "      <td>3</td>\n",
       "      <td>3.100134</td>\n",
       "    </tr>\n",
       "    <tr>\n",
       "      <th>4</th>\n",
       "      <td>4</td>\n",
       "      <td>2.695310</td>\n",
       "    </tr>\n",
       "    <tr>\n",
       "      <th>...</th>\n",
       "      <td>...</td>\n",
       "      <td>...</td>\n",
       "    </tr>\n",
       "    <tr>\n",
       "      <th>322471</th>\n",
       "      <td>322047</td>\n",
       "      <td>1.000000</td>\n",
       "    </tr>\n",
       "    <tr>\n",
       "      <th>322472</th>\n",
       "      <td>322160</td>\n",
       "      <td>4.335972</td>\n",
       "    </tr>\n",
       "    <tr>\n",
       "      <th>322473</th>\n",
       "      <td>322158</td>\n",
       "      <td>1.000000</td>\n",
       "    </tr>\n",
       "    <tr>\n",
       "      <th>322474</th>\n",
       "      <td>322245</td>\n",
       "      <td>1.000000</td>\n",
       "    </tr>\n",
       "    <tr>\n",
       "      <th>322475</th>\n",
       "      <td>322369</td>\n",
       "      <td>1.000000</td>\n",
       "    </tr>\n",
       "  </tbody>\n",
       "</table>\n",
       "<p>322476 rows × 2 columns</p>\n",
       "</div>"
      ],
      "text/plain": [
       "        author  avg per author\n",
       "0            0        2.586837\n",
       "1            1        3.076364\n",
       "2            2        3.493714\n",
       "3            3        3.100134\n",
       "4            4        2.695310\n",
       "...        ...             ...\n",
       "322471  322047        1.000000\n",
       "322472  322160        4.335972\n",
       "322473  322158        1.000000\n",
       "322474  322245        1.000000\n",
       "322475  322369        1.000000\n",
       "\n",
       "[322476 rows x 2 columns]"
      ]
     },
     "execution_count": 11,
     "metadata": {},
     "output_type": "execute_result"
    }
   ],
   "source": [
    "a"
   ]
  },
  {
   "cell_type": "code",
   "execution_count": 17,
   "id": "a7e839e0",
   "metadata": {},
   "outputs": [],
   "source": [
    "G1.DelDegKNodes(1,1)\n",
    "G1.DelDegKNodes(0,0)"
   ]
  },
  {
   "cell_type": "code",
   "execution_count": 18,
   "id": "b9ed73d0",
   "metadata": {},
   "outputs": [
    {
     "name": "stdout",
     "output_type": "stream",
     "text": [
      "148422\n"
     ]
    }
   ],
   "source": [
    "sorted_nodes = {}\n",
    "for NI in G1.Nodes():\n",
    "    sorted_nodes[NI.GetId()] = NI.GetOutDeg()\n",
    "\n",
    "sorted_nodes = {k: v for k, v in sorted(sorted_nodes.items(), key=lambda item: -item[1])}.keys()\n",
    "print(len(sorted_nodes))\n",
    "# sorted nodes are in descending order of degree"
   ]
  },
  {
   "cell_type": "code",
   "execution_count": 22,
   "id": "6dcdb995",
   "metadata": {},
   "outputs": [
    {
     "name": "stdout",
     "output_type": "stream",
     "text": [
      "-- START ANALYZING\n"
     ]
    },
    {
     "name": "stderr",
     "output_type": "stream",
     "text": [
      "100%|████████████████████████████████| 148422/148422 [14:53:54<00:00,  2.77it/s]\n"
     ]
    }
   ],
   "source": [
    "\n",
    "countPath = 0\n",
    "avgs = []\n",
    "max_len = 0\n",
    "\n",
    "subreddit = 'PS5 - filtered'\n",
    "print('-- START ANALYZING')\n",
    "\n",
    "nodes = sorted_nodes\n",
    "\n",
    "for i in tqdm.tqdm(nodes):\n",
    "    shortestPath, NIdToDistH = G1.GetShortPathAll(i)\n",
    "    countPath += len(NIdToDistH)\n",
    "    if len(NIdToDistH)== 1:\n",
    "        tmp = 0\n",
    "    else:\n",
    "        sum_length = 0\n",
    "        for item in NIdToDistH:\n",
    "            sum_length += NIdToDistH[item]\n",
    "        tmp =  sum_length / (len(NIdToDistH)-1)\n",
    "    avgs.append(tmp)\n",
    "    max_len = max(max_len, tmp)\n",
    "\n",
    "result.at[subreddit, 'Number of Authors'] = len(nodes)\n",
    "result.at[subreddit,'Nonzero'] = countPath\n",
    "result.at[subreddit,'% Existence'] = countPath/len(nodes)**2\n",
    "result.at[subreddit,'average'] = sum(avgs)/len(nodes)\n",
    "result.at[subreddit,'median'] = avgs[len(avgs)//2]"
   ]
  },
  {
   "cell_type": "code",
   "execution_count": 23,
   "id": "6149bd38",
   "metadata": {},
   "outputs": [
    {
     "data": {
      "text/html": [
       "<div>\n",
       "<style scoped>\n",
       "    .dataframe tbody tr th:only-of-type {\n",
       "        vertical-align: middle;\n",
       "    }\n",
       "\n",
       "    .dataframe tbody tr th {\n",
       "        vertical-align: top;\n",
       "    }\n",
       "\n",
       "    .dataframe thead th {\n",
       "        text-align: right;\n",
       "    }\n",
       "</style>\n",
       "<table border=\"1\" class=\"dataframe\">\n",
       "  <thead>\n",
       "    <tr style=\"text-align: right;\">\n",
       "      <th></th>\n",
       "      <th>Number of Authors</th>\n",
       "      <th>Nonzero</th>\n",
       "      <th>% Existence</th>\n",
       "      <th>average</th>\n",
       "      <th>median</th>\n",
       "    </tr>\n",
       "  </thead>\n",
       "  <tbody>\n",
       "    <tr>\n",
       "      <th>PS5 - full</th>\n",
       "      <td>322476.0</td>\n",
       "      <td>1.036653e+11</td>\n",
       "      <td>0.996870</td>\n",
       "      <td>3.451716</td>\n",
       "      <td>3.491083</td>\n",
       "    </tr>\n",
       "    <tr>\n",
       "      <th>pokemontrades - full</th>\n",
       "      <td>NaN</td>\n",
       "      <td>NaN</td>\n",
       "      <td>NaN</td>\n",
       "      <td>NaN</td>\n",
       "      <td>NaN</td>\n",
       "    </tr>\n",
       "    <tr>\n",
       "      <th>EscapefromTarkov - full</th>\n",
       "      <td>NaN</td>\n",
       "      <td>NaN</td>\n",
       "      <td>NaN</td>\n",
       "      <td>NaN</td>\n",
       "      <td>NaN</td>\n",
       "    </tr>\n",
       "    <tr>\n",
       "      <th>PS5 - 10000</th>\n",
       "      <td>10839.0</td>\n",
       "      <td>3.568556e+07</td>\n",
       "      <td>0.303748</td>\n",
       "      <td>3.564574</td>\n",
       "      <td>6.663295</td>\n",
       "    </tr>\n",
       "    <tr>\n",
       "      <th>PS5 - 50000</th>\n",
       "      <td>34425.0</td>\n",
       "      <td>8.309610e+08</td>\n",
       "      <td>0.701185</td>\n",
       "      <td>4.055531</td>\n",
       "      <td>5.304330</td>\n",
       "    </tr>\n",
       "    <tr>\n",
       "      <th>(snap) PS5 - 10000</th>\n",
       "      <td>10839.0</td>\n",
       "      <td>3.568556e+07</td>\n",
       "      <td>0.303748</td>\n",
       "      <td>3.564574</td>\n",
       "      <td>9.478597</td>\n",
       "    </tr>\n",
       "    <tr>\n",
       "      <th>(snap) PS5 - 50000</th>\n",
       "      <td>34425.0</td>\n",
       "      <td>8.309610e+08</td>\n",
       "      <td>0.701185</td>\n",
       "      <td>4.055531</td>\n",
       "      <td>5.393706</td>\n",
       "    </tr>\n",
       "    <tr>\n",
       "      <th>PS5 - filtered</th>\n",
       "      <td>148422.0</td>\n",
       "      <td>2.201781e+10</td>\n",
       "      <td>0.999488</td>\n",
       "      <td>3.002370</td>\n",
       "      <td>2.635032</td>\n",
       "    </tr>\n",
       "  </tbody>\n",
       "</table>\n",
       "</div>"
      ],
      "text/plain": [
       "                         Number of Authors       Nonzero  % Existence  \\\n",
       "PS5 - full                        322476.0  1.036653e+11     0.996870   \n",
       "pokemontrades - full                   NaN           NaN          NaN   \n",
       "EscapefromTarkov - full                NaN           NaN          NaN   \n",
       "PS5 - 10000                        10839.0  3.568556e+07     0.303748   \n",
       "PS5 - 50000                        34425.0  8.309610e+08     0.701185   \n",
       "(snap) PS5 - 10000                 10839.0  3.568556e+07     0.303748   \n",
       "(snap) PS5 - 50000                 34425.0  8.309610e+08     0.701185   \n",
       "PS5 - filtered                    148422.0  2.201781e+10     0.999488   \n",
       "\n",
       "                          average    median  \n",
       "PS5 - full               3.451716  3.491083  \n",
       "pokemontrades - full          NaN       NaN  \n",
       "EscapefromTarkov - full       NaN       NaN  \n",
       "PS5 - 10000              3.564574  6.663295  \n",
       "PS5 - 50000              4.055531  5.304330  \n",
       "(snap) PS5 - 10000       3.564574  9.478597  \n",
       "(snap) PS5 - 50000       4.055531  5.393706  \n",
       "PS5 - filtered           3.002370  2.635032  "
      ]
     },
     "metadata": {},
     "output_type": "display_data"
    },
    {
     "data": {
      "text/html": [
       "<div>\n",
       "<style scoped>\n",
       "    .dataframe tbody tr th:only-of-type {\n",
       "        vertical-align: middle;\n",
       "    }\n",
       "\n",
       "    .dataframe tbody tr th {\n",
       "        vertical-align: top;\n",
       "    }\n",
       "\n",
       "    .dataframe thead th {\n",
       "        text-align: right;\n",
       "    }\n",
       "</style>\n",
       "<table border=\"1\" class=\"dataframe\">\n",
       "  <thead>\n",
       "    <tr style=\"text-align: right;\">\n",
       "      <th></th>\n",
       "      <th>author</th>\n",
       "      <th>avg per author</th>\n",
       "    </tr>\n",
       "  </thead>\n",
       "  <tbody>\n",
       "    <tr>\n",
       "      <th>0</th>\n",
       "      <td>3011</td>\n",
       "      <td>1.747026</td>\n",
       "    </tr>\n",
       "    <tr>\n",
       "      <th>1</th>\n",
       "      <td>15519</td>\n",
       "      <td>1.925099</td>\n",
       "    </tr>\n",
       "    <tr>\n",
       "      <th>2</th>\n",
       "      <td>13745</td>\n",
       "      <td>1.942487</td>\n",
       "    </tr>\n",
       "    <tr>\n",
       "      <th>3</th>\n",
       "      <td>17731</td>\n",
       "      <td>2.042539</td>\n",
       "    </tr>\n",
       "    <tr>\n",
       "      <th>4</th>\n",
       "      <td>248285</td>\n",
       "      <td>2.080218</td>\n",
       "    </tr>\n",
       "  </tbody>\n",
       "</table>\n",
       "</div>"
      ],
      "text/plain": [
       "   author  avg per author\n",
       "0    3011        1.747026\n",
       "1   15519        1.925099\n",
       "2   13745        1.942487\n",
       "3   17731        2.042539\n",
       "4  248285        2.080218"
      ]
     },
     "metadata": {},
     "output_type": "display_data"
    },
    {
     "name": "stdout",
     "output_type": "stream",
     "text": [
      "5.341353119966573\n"
     ]
    }
   ],
   "source": [
    "display(result)\n",
    "a = pd.DataFrame(data = {'author':nodes, 'avg per author': avgs})\n",
    "display(a.head())\n",
    "\n",
    "print(max_len)"
   ]
  },
  {
   "cell_type": "code",
   "execution_count": 25,
   "id": "3b722cf8",
   "metadata": {},
   "outputs": [],
   "source": [
    "result.to_csv('full/result_full_filtered_snap.csv')\n",
    "a.to_csv('full/PS5_filtered_author_avg.csv')\n",
    "#a = pd.read_csv('full/PS5_filtered_author_avg.csv', index_col = 0)\n"
   ]
  },
  {
   "cell_type": "markdown",
   "id": "8280a054",
   "metadata": {},
   "source": [
    "# Analyze Active Users"
   ]
  },
  {
   "cell_type": "code",
   "execution_count": null,
   "id": "d2dc43ad",
   "metadata": {},
   "outputs": [],
   "source": [
    "# choose i% of data to compare\n",
    "# method 1: completely random\n",
    "# method 2: randomly choose subgraph after filtering top25% active users"
   ]
  },
  {
   "cell_type": "code",
   "execution_count": 115,
   "id": "5ffd58da",
   "metadata": {},
   "outputs": [],
   "source": [
    "importance_of_active = pd.DataFrame()"
   ]
  },
  {
   "cell_type": "code",
   "execution_count": 117,
   "id": "c6af69a0",
   "metadata": {},
   "outputs": [
    {
     "name": "stderr",
     "output_type": "stream",
     "text": [
      "100%|████████████████████████████████████| 14842/14842 [01:01<00:00, 242.57it/s]\n",
      "100%|█████████████████████████████████████| 22263/22263 [05:18<00:00, 70.01it/s]\n",
      "100%|█████████████████████████████████████| 29684/29684 [12:18<00:00, 40.22it/s]\n",
      "100%|█████████████████████████████████████| 37105/37105 [16:42<00:00, 36.99it/s]\n",
      "100%|█████████████████████████████████████| 44526/44526 [37:44<00:00, 19.66it/s]\n"
     ]
    }
   ],
   "source": [
    "sampleSize = [i/100 for i in range(10,31,5)]\n",
    "\n",
    "for size in sampleSize:\n",
    "    nodes_amount = int(len(nodes) * size)\n",
    "    random_nodes = random.sample(nodes, nodes_amount)\n",
    "    random_without_most_nodes = random.sample(nodes[int(len(nodes) * 0.25):], nodes_amount)\n",
    "\n",
    "    G_random = G1.GetSubGraph(random_nodes)\n",
    "    G_remove_most = G1.GetSubGraph(random_without_most_nodes)\n",
    "\n",
    "    # ======= METHOD 1: RANDOM CHOOSE NODES ============\n",
    "    countPath = 0\n",
    "    avgs = 0\n",
    "    max_len = 0\n",
    "\n",
    "    index = str(size)\n",
    "\n",
    "    for i in tqdm.tqdm(random_nodes):\n",
    "        shortestPath, NIdToDistH = G_random.GetShortPathAll(i)\n",
    "        countPath += len(NIdToDistH)\n",
    "        if len(NIdToDistH)== 1:\n",
    "            tmp = 0\n",
    "        else:\n",
    "            sum_length = 0\n",
    "            for item in NIdToDistH:\n",
    "                sum_length += NIdToDistH[item]\n",
    "            tmp =  sum_length / (len(NIdToDistH)-1)\n",
    "        avgs = avgs+tmp\n",
    "\n",
    "    importance_of_active.at[index,'random %'] = countPath/len(random_nodes)**2\n",
    "    importance_of_active.at[index,'random avg'] = avgs/len(random_nodes)\n",
    "\n",
    "\n",
    "    # ======= ANALYZE AFTER REMOVE MOST ACTIVE USERS ======\n",
    "    countPath = 0\n",
    "    avgs = 0\n",
    "    max_len = 0\n",
    "\n",
    "    index = str(size)\n",
    "\n",
    "    for i in random_without_most_nodes:\n",
    "        shortestPath, NIdToDistH = G_remove_most.GetShortPathAll(i)\n",
    "        countPath += len(NIdToDistH)\n",
    "        if len(NIdToDistH)== 1:\n",
    "            tmp = 0\n",
    "        else:\n",
    "            sum_length = 0\n",
    "            for item in NIdToDistH:\n",
    "                sum_length += NIdToDistH[item]\n",
    "            tmp =  sum_length / (len(NIdToDistH)-1)\n",
    "        avgs = avgs+tmp\n",
    "\n",
    "    importance_of_active.at[index,'remove most %'] = countPath/len(random_without_most_nodes)**2\n",
    "    importance_of_active.at[index,'remove most avg'] = avgs/len(random_without_most_nodes)"
   ]
  },
  {
   "cell_type": "code",
   "execution_count": 118,
   "id": "80ab566d",
   "metadata": {},
   "outputs": [
    {
     "data": {
      "text/html": [
       "<div>\n",
       "<style scoped>\n",
       "    .dataframe tbody tr th:only-of-type {\n",
       "        vertical-align: middle;\n",
       "    }\n",
       "\n",
       "    .dataframe tbody tr th {\n",
       "        vertical-align: top;\n",
       "    }\n",
       "\n",
       "    .dataframe thead th {\n",
       "        text-align: right;\n",
       "    }\n",
       "</style>\n",
       "<table border=\"1\" class=\"dataframe\">\n",
       "  <thead>\n",
       "    <tr style=\"text-align: right;\">\n",
       "      <th></th>\n",
       "      <th>random %</th>\n",
       "      <th>random avg</th>\n",
       "      <th>remove most %</th>\n",
       "      <th>remove most avg</th>\n",
       "    </tr>\n",
       "  </thead>\n",
       "  <tbody>\n",
       "    <tr>\n",
       "      <th>0.1</th>\n",
       "      <td>0.167853</td>\n",
       "      <td>1.751088</td>\n",
       "      <td>0.000070</td>\n",
       "      <td>0.029511</td>\n",
       "    </tr>\n",
       "    <tr>\n",
       "      <th>0.15</th>\n",
       "      <td>0.353323</td>\n",
       "      <td>2.134793</td>\n",
       "      <td>0.000047</td>\n",
       "      <td>0.042747</td>\n",
       "    </tr>\n",
       "    <tr>\n",
       "      <th>0.2</th>\n",
       "      <td>0.443139</td>\n",
       "      <td>2.234280</td>\n",
       "      <td>0.000036</td>\n",
       "      <td>0.058325</td>\n",
       "    </tr>\n",
       "    <tr>\n",
       "      <th>0.25</th>\n",
       "      <td>0.384608</td>\n",
       "      <td>2.458569</td>\n",
       "      <td>0.000030</td>\n",
       "      <td>0.073589</td>\n",
       "    </tr>\n",
       "    <tr>\n",
       "      <th>0.3</th>\n",
       "      <td>0.573286</td>\n",
       "      <td>2.737417</td>\n",
       "      <td>0.000026</td>\n",
       "      <td>0.094055</td>\n",
       "    </tr>\n",
       "  </tbody>\n",
       "</table>\n",
       "</div>"
      ],
      "text/plain": [
       "      random %  random avg  remove most %  remove most avg\n",
       "0.1   0.167853    1.751088       0.000070         0.029511\n",
       "0.15  0.353323    2.134793       0.000047         0.042747\n",
       "0.2   0.443139    2.234280       0.000036         0.058325\n",
       "0.25  0.384608    2.458569       0.000030         0.073589\n",
       "0.3   0.573286    2.737417       0.000026         0.094055"
      ]
     },
     "execution_count": 118,
     "metadata": {},
     "output_type": "execute_result"
    }
   ],
   "source": [
    "importance_of_active"
   ]
  },
  {
   "cell_type": "code",
   "execution_count": 119,
   "id": "3492bb3b",
   "metadata": {},
   "outputs": [],
   "source": [
    "importance_of_active.to_csv('full/importance_of_active.csv')"
   ]
  },
  {
   "cell_type": "code",
   "execution_count": 120,
   "id": "ee855ed5",
   "metadata": {},
   "outputs": [
    {
     "name": "stderr",
     "output_type": "stream",
     "text": [
      "100%|████████████████████████████████████| 14842/14842 [00:21<00:00, 704.38it/s]\n",
      "100%|██████████████████████████████████| 14842/14842 [00:00<00:00, 48431.35it/s]\n",
      "100%|██████████████████████████████████| 14842/14842 [00:00<00:00, 58584.20it/s]\n",
      "100%|████████████████████████████████████| 22263/22263 [01:23<00:00, 266.90it/s]\n",
      "100%|███████████████████████████████████| 22263/22263 [00:07<00:00, 3151.66it/s]\n",
      "100%|██████████████████████████████████| 22263/22263 [00:00<00:00, 48202.58it/s]\n",
      "100%|████████████████████████████████████| 29684/29684 [03:34<00:00, 138.11it/s]\n",
      "100%|████████████████████████████████████| 29684/29684 [00:49<00:00, 604.47it/s]\n",
      "100%|██████████████████████████████████| 29684/29684 [00:00<00:00, 32313.26it/s]\n",
      "100%|█████████████████████████████████████| 37105/37105 [07:21<00:00, 84.07it/s]\n",
      "100%|████████████████████████████████████| 37105/37105 [02:03<00:00, 301.44it/s]\n",
      "100%|███████████████████████████████████| 37105/37105 [00:05<00:00, 7193.80it/s]\n",
      "100%|█████████████████████████████████████| 44526/44526 [13:37<00:00, 54.47it/s]\n",
      "100%|████████████████████████████████████| 44526/44526 [04:19<00:00, 171.61it/s]\n",
      "100%|███████████████████████████████████| 44526/44526 [00:20<00:00, 2120.65it/s]\n"
     ]
    }
   ],
   "source": [
    "sampleSize = [i/100 for i in range(10,31,5)]\n",
    "\n",
    "for size in sampleSize:\n",
    "    nodes_amount = int(len(nodes) * size)\n",
    "    random_without_1_nodes = random.sample(nodes[int(len(nodes) * 0.01):], nodes_amount)\n",
    "    random_without_5_nodes = random.sample(nodes[int(len(nodes) * 0.05):], nodes_amount)\n",
    "    random_without_10_nodes = random.sample(nodes[int(len(nodes) * 0.10):], nodes_amount)\n",
    "\n",
    "    G_remove_1 = G1.GetSubGraph(random_without_1_nodes)\n",
    "    G_remove_5 = G1.GetSubGraph(random_without_5_nodes)\n",
    "    G_remove_10 = G1.GetSubGraph(random_without_10_nodes)\n",
    "\n",
    "    # ======= remove 1% most active ============\n",
    "    countPath = 0\n",
    "    avgs = 0\n",
    "    max_len = 0\n",
    "\n",
    "    index = str(size)\n",
    "\n",
    "    for i in tqdm.tqdm(random_without_1_nodes):\n",
    "        shortestPath, NIdToDistH = G_remove_1.GetShortPathAll(i)\n",
    "        countPath += len(NIdToDistH)\n",
    "        if len(NIdToDistH)== 1:\n",
    "            tmp = 0\n",
    "        else:\n",
    "            sum_length = 0\n",
    "            for item in NIdToDistH:\n",
    "                sum_length += NIdToDistH[item]\n",
    "            tmp =  sum_length / (len(NIdToDistH)-1)\n",
    "        avgs = avgs+tmp\n",
    "\n",
    "    importance_of_active.at[index,'remove 1 %'] = countPath/len(random_without_1_nodes)**2\n",
    "    importance_of_active.at[index,'remove 1 avg'] = avgs/len(random_without_1_nodes)\n",
    "\n",
    "\n",
    "    # ======= ANALYZE AFTER REMOVE MOST ACTIVE USERS ======\n",
    "    countPath = 0\n",
    "    avgs = 0\n",
    "    max_len = 0\n",
    "\n",
    "    for i in tqdm.tqdm(random_without_5_nodes):\n",
    "        shortestPath, NIdToDistH = G_remove_5.GetShortPathAll(i)\n",
    "        countPath += len(NIdToDistH)\n",
    "        if len(NIdToDistH)== 1:\n",
    "            tmp = 0\n",
    "        else:\n",
    "            sum_length = 0\n",
    "            for item in NIdToDistH:\n",
    "                sum_length += NIdToDistH[item]\n",
    "            tmp =  sum_length / (len(NIdToDistH)-1)\n",
    "        avgs = avgs+tmp\n",
    "\n",
    "    importance_of_active.at[index,'remove 5 %'] = countPath/len(random_without_5_nodes)**2\n",
    "    importance_of_active.at[index,'remove 5 avg'] = avgs/len(random_without_5_nodes)\n",
    "    \n",
    "    \n",
    "    # ======= REMOVE TOP 10 % active users =======\n",
    "    countPath = 0\n",
    "    avgs = 0\n",
    "    max_len = 0\n",
    "\n",
    "    for i in tqdm.tqdm(random_without_10_nodes):\n",
    "        shortestPath, NIdToDistH = G_remove_10.GetShortPathAll(i)\n",
    "        countPath += len(NIdToDistH)\n",
    "        if len(NIdToDistH)== 1:\n",
    "            tmp = 0\n",
    "        else:\n",
    "            sum_length = 0\n",
    "            for item in NIdToDistH:\n",
    "                sum_length += NIdToDistH[item]\n",
    "            tmp =  sum_length / (len(NIdToDistH)-1)\n",
    "        avgs = avgs+tmp\n",
    "\n",
    "    importance_of_active.at[index,'remove 10 %'] = countPath/len(random_without_10_nodes)**2\n",
    "    importance_of_active.at[index,'remove 10 avg'] = avgs/len(random_without_10_nodes)"
   ]
  },
  {
   "cell_type": "code",
   "execution_count": 121,
   "id": "9b172476",
   "metadata": {},
   "outputs": [
    {
     "data": {
      "text/html": [
       "<div>\n",
       "<style scoped>\n",
       "    .dataframe tbody tr th:only-of-type {\n",
       "        vertical-align: middle;\n",
       "    }\n",
       "\n",
       "    .dataframe tbody tr th {\n",
       "        vertical-align: top;\n",
       "    }\n",
       "\n",
       "    .dataframe thead th {\n",
       "        text-align: right;\n",
       "    }\n",
       "</style>\n",
       "<table border=\"1\" class=\"dataframe\">\n",
       "  <thead>\n",
       "    <tr style=\"text-align: right;\">\n",
       "      <th></th>\n",
       "      <th>random %</th>\n",
       "      <th>random avg</th>\n",
       "      <th>remove most %</th>\n",
       "      <th>remove most avg</th>\n",
       "      <th>remove 1 %</th>\n",
       "      <th>remove 1 avg</th>\n",
       "      <th>remove 5 %</th>\n",
       "      <th>remove 5 avg</th>\n",
       "      <th>remove 10 %</th>\n",
       "      <th>remove 10 avg</th>\n",
       "    </tr>\n",
       "  </thead>\n",
       "  <tbody>\n",
       "    <tr>\n",
       "      <th>0.1</th>\n",
       "      <td>0.167853</td>\n",
       "      <td>1.751088</td>\n",
       "      <td>0.000070</td>\n",
       "      <td>0.029511</td>\n",
       "      <td>0.059149</td>\n",
       "      <td>1.558856</td>\n",
       "      <td>0.000200</td>\n",
       "      <td>0.403663</td>\n",
       "      <td>0.000083</td>\n",
       "      <td>0.132417</td>\n",
       "    </tr>\n",
       "    <tr>\n",
       "      <th>0.15</th>\n",
       "      <td>0.353323</td>\n",
       "      <td>2.134793</td>\n",
       "      <td>0.000047</td>\n",
       "      <td>0.042747</td>\n",
       "      <td>0.104973</td>\n",
       "      <td>1.890278</td>\n",
       "      <td>0.008770</td>\n",
       "      <td>1.812365</td>\n",
       "      <td>0.000068</td>\n",
       "      <td>0.214280</td>\n",
       "    </tr>\n",
       "    <tr>\n",
       "      <th>0.2</th>\n",
       "      <td>0.443139</td>\n",
       "      <td>2.234280</td>\n",
       "      <td>0.000036</td>\n",
       "      <td>0.058325</td>\n",
       "      <td>0.146350</td>\n",
       "      <td>2.101646</td>\n",
       "      <td>0.033657</td>\n",
       "      <td>2.499994</td>\n",
       "      <td>0.000088</td>\n",
       "      <td>0.366668</td>\n",
       "    </tr>\n",
       "    <tr>\n",
       "      <th>0.25</th>\n",
       "      <td>0.384608</td>\n",
       "      <td>2.458569</td>\n",
       "      <td>0.000030</td>\n",
       "      <td>0.073589</td>\n",
       "      <td>0.183109</td>\n",
       "      <td>2.261558</td>\n",
       "      <td>0.052181</td>\n",
       "      <td>2.506630</td>\n",
       "      <td>0.001770</td>\n",
       "      <td>1.362200</td>\n",
       "    </tr>\n",
       "    <tr>\n",
       "      <th>0.3</th>\n",
       "      <td>0.573286</td>\n",
       "      <td>2.737417</td>\n",
       "      <td>0.000026</td>\n",
       "      <td>0.094055</td>\n",
       "      <td>0.227715</td>\n",
       "      <td>2.447756</td>\n",
       "      <td>0.074577</td>\n",
       "      <td>2.631815</td>\n",
       "      <td>0.005715</td>\n",
       "      <td>1.877768</td>\n",
       "    </tr>\n",
       "  </tbody>\n",
       "</table>\n",
       "</div>"
      ],
      "text/plain": [
       "      random %  random avg  remove most %  remove most avg  remove 1 %  \\\n",
       "0.1   0.167853    1.751088       0.000070         0.029511    0.059149   \n",
       "0.15  0.353323    2.134793       0.000047         0.042747    0.104973   \n",
       "0.2   0.443139    2.234280       0.000036         0.058325    0.146350   \n",
       "0.25  0.384608    2.458569       0.000030         0.073589    0.183109   \n",
       "0.3   0.573286    2.737417       0.000026         0.094055    0.227715   \n",
       "\n",
       "      remove 1 avg  remove 5 %  remove 5 avg  remove 10 %  remove 10 avg  \n",
       "0.1       1.558856    0.000200      0.403663     0.000083       0.132417  \n",
       "0.15      1.890278    0.008770      1.812365     0.000068       0.214280  \n",
       "0.2       2.101646    0.033657      2.499994     0.000088       0.366668  \n",
       "0.25      2.261558    0.052181      2.506630     0.001770       1.362200  \n",
       "0.3       2.447756    0.074577      2.631815     0.005715       1.877768  "
      ]
     },
     "metadata": {},
     "output_type": "display_data"
    }
   ],
   "source": [
    "display(importance_of_active)"
   ]
  },
  {
   "cell_type": "code",
   "execution_count": null,
   "id": "5c1a589c",
   "metadata": {},
   "outputs": [],
   "source": [
    "sampleSize = [1]\n",
    "\n",
    "for size in sampleSize:\n",
    "    nodes_amount = int(len(nodes) * size)\n",
    "    random_without_1_nodes = random.sample(nodes[int(len(nodes) * 0.01):], nodes_amount)\n",
    "\n",
    "    G_remove_1 = G1.GetSubGraph(random_without_1_nodes)\n",
    "\n",
    "    # ======= remove 1% most active ============\n",
    "    countPath = 0\n",
    "    avgs = 0\n",
    "    max_len = 0\n",
    "\n",
    "    index = str(size)\n",
    "\n",
    "    for i in tqdm.tqdm(random_without_1_nodes):\n",
    "        shortestPath, NIdToDistH = G_remove_1.GetShortPathAll(i)\n",
    "        countPath += len(NIdToDistH)\n",
    "        if len(NIdToDistH)== 1:\n",
    "            tmp = 0\n",
    "        else:\n",
    "            sum_length = 0\n",
    "            for item in NIdToDistH:\n",
    "                sum_length += NIdToDistH[item]\n",
    "            tmp =  sum_length / (len(NIdToDistH)-1)\n",
    "        avgs = avgs+tmp\n",
    "\n",
    "    importance_of_active.at[index,'remove 1 %'] = countPath/len(random_without_1_nodes)**2\n",
    "    importance_of_active.at[index,'remove 1 avg'] = avgs/len(random_without_1_nodes)\n"
   ]
  },
  {
   "cell_type": "code",
   "execution_count": 136,
   "id": "f97e56d5",
   "metadata": {},
   "outputs": [
    {
     "name": "stderr",
     "output_type": "stream",
     "text": [
      "100%|█████████████████████████████████| 146938/146938 [6:53:35<00:00,  5.92it/s]\n"
     ]
    }
   ],
   "source": [
    "nodes = list(nodes)\n",
    "random_without_1_nodes = list(nodes[int(len(nodes) * 0.01):])\n",
    "\n",
    "G_remove_1 = G1.GetSubGraph(random_without_1_nodes)\n",
    "countPath = 0\n",
    "avgs = 0\n",
    "max_len = 0\n",
    "\n",
    "subreddit = 'PS5 - remove top 1%'\n",
    "\n",
    "nodes = sorted_nodes\n",
    "\n",
    "for i in tqdm.tqdm(random_without_1_nodes):\n",
    "    shortestPath, NIdToDistH = G_remove_1.GetShortPathAll(i)\n",
    "    countPath += len(NIdToDistH)\n",
    "    if len(NIdToDistH)== 1:\n",
    "        tmp = 0\n",
    "    else:\n",
    "        sum_length = 0\n",
    "        for item in NIdToDistH:\n",
    "            sum_length += NIdToDistH[item]\n",
    "        tmp =  sum_length / (len(NIdToDistH)-1)\n",
    "    avgs = avgs + tmp\n",
    "\n",
    "result.at[subreddit, 'Number of Authors'] = len(random_without_1_nodes)\n",
    "result.at[subreddit,'Nonzero'] = countPath\n",
    "result.at[subreddit,'% Existence'] = countPath/len(random_without_1_nodes)**2\n",
    "result.at[subreddit,'average'] = avgs/len(random_without_1_nodes)"
   ]
  },
  {
   "cell_type": "code",
   "execution_count": 132,
   "id": "de37bbd6",
   "metadata": {},
   "outputs": [],
   "source": [
    "importance_of_active.to_csv('full/importance_of_active.csv')"
   ]
  },
  {
   "cell_type": "code",
   "execution_count": 137,
   "id": "acce5920",
   "metadata": {},
   "outputs": [],
   "source": [
    "result.to_csv('full/result.csv')"
   ]
  },
  {
   "cell_type": "code",
   "execution_count": 138,
   "id": "24d21f6c",
   "metadata": {},
   "outputs": [
    {
     "data": {
      "text/html": [
       "<div>\n",
       "<style scoped>\n",
       "    .dataframe tbody tr th:only-of-type {\n",
       "        vertical-align: middle;\n",
       "    }\n",
       "\n",
       "    .dataframe tbody tr th {\n",
       "        vertical-align: top;\n",
       "    }\n",
       "\n",
       "    .dataframe thead th {\n",
       "        text-align: right;\n",
       "    }\n",
       "</style>\n",
       "<table border=\"1\" class=\"dataframe\">\n",
       "  <thead>\n",
       "    <tr style=\"text-align: right;\">\n",
       "      <th></th>\n",
       "      <th>Number of Authors</th>\n",
       "      <th>Nonzero</th>\n",
       "      <th>% Existence</th>\n",
       "      <th>average</th>\n",
       "      <th>median</th>\n",
       "    </tr>\n",
       "  </thead>\n",
       "  <tbody>\n",
       "    <tr>\n",
       "      <th>PS5 - full</th>\n",
       "      <td>322476.0</td>\n",
       "      <td>1.036653e+11</td>\n",
       "      <td>0.996870</td>\n",
       "      <td>3.451716</td>\n",
       "      <td>3.491083</td>\n",
       "    </tr>\n",
       "    <tr>\n",
       "      <th>pokemontrades - full</th>\n",
       "      <td>NaN</td>\n",
       "      <td>NaN</td>\n",
       "      <td>NaN</td>\n",
       "      <td>NaN</td>\n",
       "      <td>NaN</td>\n",
       "    </tr>\n",
       "    <tr>\n",
       "      <th>EscapefromTarkov - full</th>\n",
       "      <td>NaN</td>\n",
       "      <td>NaN</td>\n",
       "      <td>NaN</td>\n",
       "      <td>NaN</td>\n",
       "      <td>NaN</td>\n",
       "    </tr>\n",
       "    <tr>\n",
       "      <th>PS5 - 10000</th>\n",
       "      <td>10839.0</td>\n",
       "      <td>3.568556e+07</td>\n",
       "      <td>0.303748</td>\n",
       "      <td>3.564574</td>\n",
       "      <td>6.663295</td>\n",
       "    </tr>\n",
       "    <tr>\n",
       "      <th>PS5 - 50000</th>\n",
       "      <td>34425.0</td>\n",
       "      <td>8.309610e+08</td>\n",
       "      <td>0.701185</td>\n",
       "      <td>4.055531</td>\n",
       "      <td>5.304330</td>\n",
       "    </tr>\n",
       "    <tr>\n",
       "      <th>(snap) PS5 - 10000</th>\n",
       "      <td>10839.0</td>\n",
       "      <td>3.568556e+07</td>\n",
       "      <td>0.303748</td>\n",
       "      <td>3.564574</td>\n",
       "      <td>9.478597</td>\n",
       "    </tr>\n",
       "    <tr>\n",
       "      <th>(snap) PS5 - 50000</th>\n",
       "      <td>34425.0</td>\n",
       "      <td>8.309610e+08</td>\n",
       "      <td>0.701185</td>\n",
       "      <td>4.055531</td>\n",
       "      <td>5.393706</td>\n",
       "    </tr>\n",
       "    <tr>\n",
       "      <th>PS5 - filtered</th>\n",
       "      <td>148422.0</td>\n",
       "      <td>2.201781e+10</td>\n",
       "      <td>0.999488</td>\n",
       "      <td>3.002370</td>\n",
       "      <td>2.635032</td>\n",
       "    </tr>\n",
       "    <tr>\n",
       "      <th>PS5 - remove top 1%</th>\n",
       "      <td>146938.0</td>\n",
       "      <td>1.188278e+10</td>\n",
       "      <td>0.550364</td>\n",
       "      <td>3.220571</td>\n",
       "      <td>NaN</td>\n",
       "    </tr>\n",
       "  </tbody>\n",
       "</table>\n",
       "</div>"
      ],
      "text/plain": [
       "                         Number of Authors       Nonzero  % Existence  \\\n",
       "PS5 - full                        322476.0  1.036653e+11     0.996870   \n",
       "pokemontrades - full                   NaN           NaN          NaN   \n",
       "EscapefromTarkov - full                NaN           NaN          NaN   \n",
       "PS5 - 10000                        10839.0  3.568556e+07     0.303748   \n",
       "PS5 - 50000                        34425.0  8.309610e+08     0.701185   \n",
       "(snap) PS5 - 10000                 10839.0  3.568556e+07     0.303748   \n",
       "(snap) PS5 - 50000                 34425.0  8.309610e+08     0.701185   \n",
       "PS5 - filtered                    148422.0  2.201781e+10     0.999488   \n",
       "PS5 - remove top 1%               146938.0  1.188278e+10     0.550364   \n",
       "\n",
       "                          average    median  \n",
       "PS5 - full               3.451716  3.491083  \n",
       "pokemontrades - full          NaN       NaN  \n",
       "EscapefromTarkov - full       NaN       NaN  \n",
       "PS5 - 10000              3.564574  6.663295  \n",
       "PS5 - 50000              4.055531  5.304330  \n",
       "(snap) PS5 - 10000       3.564574  9.478597  \n",
       "(snap) PS5 - 50000       4.055531  5.393706  \n",
       "PS5 - filtered           3.002370  2.635032  \n",
       "PS5 - remove top 1%      3.220571       NaN  "
      ]
     },
     "execution_count": 138,
     "metadata": {},
     "output_type": "execute_result"
    }
   ],
   "source": [
    "result"
   ]
  },
  {
   "cell_type": "code",
   "execution_count": null,
   "id": "020fc4b8",
   "metadata": {},
   "outputs": [],
   "source": []
  }
 ],
 "metadata": {
  "kernelspec": {
   "display_name": "Python 3 (ipykernel)",
   "language": "python",
   "name": "python3"
  },
  "language_info": {
   "codemirror_mode": {
    "name": "ipython",
    "version": 3
   },
   "file_extension": ".py",
   "mimetype": "text/x-python",
   "name": "python",
   "nbconvert_exporter": "python",
   "pygments_lexer": "ipython3",
   "version": "3.8.10"
  }
 },
 "nbformat": 4,
 "nbformat_minor": 5
}
