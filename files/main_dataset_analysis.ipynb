{
 "cells": [
  {
   "cell_type": "markdown",
   "id": "f531f625",
   "metadata": {},
   "source": [
    "# CSCD25 Project Part 1\n",
    "This is a research project from CSCD25 (Advanced Data Analysis) supervised by Professor Anderson and TA Waller.\n",
    "\n",
    "https://tonyli1121.github.io/Reddit-Analysis/\n",
    "\n",
    "**This file contains:**\n",
    "\n",
    "```\n",
    "- processing main datasets\n",
    "- analysis on research question 1 and 2\n",
    "- plotting on all generated results\n",
    "```\n"
   ]
  },
  {
   "cell_type": "markdown",
   "id": "ffb9e2d5",
   "metadata": {},
   "source": [
    "## Abstract\n",
    "\n",
    "The Six degrees of seperation (also known as six handshakes rule) is an idea that all people are six or fewer social connections away from each other. As a result, a chain of \"friend of a friend\" statement can be made to connect any two people in a maximum of six steps. \n",
    "\n",
    "Several studies, such as Milgram's small-world experiment, have been conducted to measure this connectedness empirically, and nowadays the phrase \"six degrees of separation\" is now often used as a synonym for the idea of the \"small world\" phenomenon.\n",
    "\n",
    "    Some ground-breaking phenomenons discovered by researchers are \n",
    "\t1) There are 19 degrees of separation between any two web pages (by Hungarian physicist Albert-László Barabási in 2013). \n",
    "\t\n",
    "\t2) shortest path from one Wikipedia to another is 3 degrees, while the furthest is just 11 degrees. \n",
    "\t\n",
    "\t3) Facebook's data team released two papers in November 2011 which document that amongst all Facebook users at the time of\n",
    "\tresearch (721 million users with 69 billion friendship links) \n",
    "\tThere is an average distance of 4.74. And by February 2016, the distance is 4.57 on avg on 1.6 billion users \n",
    "\t(about 22% of the world population)\n",
    "\t\n",
    "\t4) On average, about 50% of people on Twitter are only four steps away from each other.\n",
    "\t...\n",
    "\n",
    "\tIt turns out that for social networking websites with large amount of users, the six handshakes rule stays valid. \n",
    "\t\n",
    "Reddit, known as one of the most famous social news and discussion website, also has a huge amount of users. According to an analysis on reddit's monthly visitors, as of June 2021, Reddit had almost 48 million monthly active users.\t(https://www.statista.com/statistics/443332/reddit-monthly-visitors/) \n",
    "\n",
    "Based on how Reddit works\n",
    "\n",
    "\tRegistered members submit posts to the site such as links, text posts, images, and videos, which are then \n",
    "    voted up or down and commented by other members\n",
    "\t\n",
    "I am particularly interested in the existence of the Six Degrees of Separation on Reddit and several research questions related to it."
   ]
  },
  {
   "cell_type": "markdown",
   "id": "0fb8a05c",
   "metadata": {},
   "source": [
    "\n",
    "---\n",
    "\n",
    "## Research Question:\n",
    "\n",
    "The goal of this research is to find if given two authors, if there exist a path to get to one from another by tracking user activities in small # of steps.\n",
    "\t\n",
    "A brief example would be as followed:\n",
    "```\n",
    "\n",
    "       user 1 asked \"A\" \n",
    "             /\\\n",
    "            /  \\\n",
    "    answered by user2,user3\n",
    "\t     /         \\\n",
    "\t    /           \\\n",
    "commented by user4   user5, user 6\n",
    "          /\t          \\       \\\n",
    "         /\t    \t    \\       \\\n",
    "    asked \"C\"       answered \"C\"   asked \"B\"\n",
    "\n",
    "Then we say there is a path from \n",
    "\tuser3 -> user1 (user3 commented user1's post \"A\")\n",
    "\tuser1 -> user5 (user5 commented a comment under user1's post)\n",
    "Hence, user3 is connected with user5 with a path length of 2\n",
    "```\n",
    "Here are a list of research questions:\n",
    "    \n",
    "1. Does there exist a \"friend of friend\" chain in reddit users (i.e., connected by commenting)? If so what is the chance of existence?\n",
    "\n",
    "2. Among all the paths, what is the average path length? Is it small (easy to get from one user to another)?\n",
    "    \n",
    "3. Can we form any relation between clusters and length of path?\n",
    "    (i.e., repeat the previous two problems, but only under same subreddit)\n",
    "    \n",
    "4. How do the \"active\" users affect the length of path?\n",
    "\n",
    "---\n",
    "\n",
    "## Hypothesis:\n",
    "\t\n",
    "1. There is a \"Small world\"/\"Six Handshake Rule\" relationshipt between users (all connected)\n",
    "2. The average path length is ~6 \n",
    "3. Yes, smaller cluster has smaller path length\n",
    "\t3.1 There also exists path between users under subreddits\n",
    "\t3.2 The path length under subreddits is slightly smaller than the general path length (i.e., ~4 or ~5)\n",
    "4. The \"active\" users are not crucial in constructing path, but they are the key factor to keep path length small.\n",
    "\t\n",
    "Verify the hypothesis/research goals by\n",
    "\t\n",
    "1 & 2. Check with main dataset\n",
    "    (a) avg distance for existing path\n",
    "    (b) possibility for path to exist given any two posts (success/total)\n",
    "\n",
    "3. Check with full dataset with certain subreddit\n",
    "   (a) possibility for path to exist given any two posts (success/total)\n",
    "   (b) avg distance for existing path\n",
    "    \n",
    "4. Compare result after removing top k% most active users.\n",
    "\n",
    "---"
   ]
  },
  {
   "cell_type": "markdown",
   "id": "fda4aa32",
   "metadata": {},
   "source": [
    "# Answer to research questions\n",
    "\n",
    "`Q1:` We see that the `chance for a path to exist` `increases` as we have `more nodes` in the graph. However, it is not sufficient to conclude that the network is connected as a large component as we don't have data supporting us. (we stopped at 60% of main_dataset as otherwise memory error). Hence the `conclusion` is that: **The 'user chain' in main_dataset is very likely to exist only if we filter out the isolated nodes**\n",
    "\n",
    "`Q2:` We only see that as `number of nodes increases`, the `avg path length increases`, but does not have an absolute idea on what the overall path length will be as the value is still increasing (it is likely that the value will be capped at some threshold). Hence, the `conclusion` is that: **we have small path length among the existed paths, but we still need to verify with more detailed dataset.** \n",
    "\n",
    "The `assumption` is that the `path length` will remain increasing but `capped at certain value`, which will require us to check in the `full dataset analysis` that uses the smallest subreddit for comprehensive understanding, and also using the entire full dataset for detailed analysis.\n",
    "\n",
    "`Q3:` Under subreddit PS5, the users are `strongly connected` (>99% chance for path to exist between arbitrary users). Different from our hypothesis (pathlen ~= 4, 5) the `average path length is ~3.0`. **Hence users are strongly connected with small path length under subreddits**\n",
    "\n",
    "`Q4:` According to the first bar chart, we see that as we `remove more active users`, the % of existence `decreases`. This means that the `active users` are `important in constructing network`. **The more activer users we exclude, the less likely a path will exist.** Pie plotting on the full analysis after filtering the top1% further supported this. As the `% Existence` decreased from `99% to 55%`. Hence, **the active users indeed act as an important role in connecting users together**. "
   ]
  },
  {
   "cell_type": "markdown",
   "id": "b233150e",
   "metadata": {},
   "source": [
    "# Insights from the datastory\n",
    "\n",
    "### 1. The `small world` exists in any society with large user base and some kind of connection between users\n",
    "As what we expected, there is a `large component` that contains all authors. In other words, the `community of Reddit` is a `small world` such that everyone can reach others in small number of steps.\n",
    "\n",
    "According to the theoratical findings in [Six Degrees of Separation in Online Society](https://www.researchgate.net/publication/255614427_Six_Degrees_of_Separation_in_Online_Society) that had been supported by multiple mathematic models and measurements, accompanied with the large user base of reddit ([user stats of reddit](https://www.statista.com/statistics/443332/reddit-monthly-visitors/)). We could conclude that the `small world` does `not only` exist in the world-famous online societies like Reddit/Facebook/..., `but also` is presented in any society that has a large amount of user base and some sort of connection that connects everyone (in Reddit: 'comment', in Twitter: 'follow', in Facebook: 'friends',...)\n",
    "\n",
    "### 2. The role of active users is `not` connecting individual users, `but` instead connecting components\n",
    "\n",
    "Initially we thought that by removing the active users, we will have the connection broken and path length decreased. However, after the analysis, we see that only the `connection` is affected by the active users. The idea behind is that although the `single large component` structure is broken, every new (sub)components are still large enough that follows the trend of average path length. The `Six degree of seperation` theory still holds under each component except that we can't reach nodes from one component from other components.\n",
    "```\n",
    "(component_A) <--> active user <--> (component_B) \n",
    ">>> every nodes in the graph is connected, form a large component\n",
    "\n",
    ">>> By removing activer users, we get \n",
    "(component_A) | (component_B)\n",
    ">>> The nodes under each component are still connected, hence pathlength remains almost same.\n",
    ">>> However, since we can't reach component_B from component_A, the % Existence decreases.\n",
    "```\n",
    "\n",
    "According to the idea above, the active users is in fact `not` acting as connection `between individual users`, but instead a `bridge` `between the components` (groups of users).\n",
    "\n",
    "**We argue that the `active users are mostly from submissions authors`**\n",
    "\n",
    "Think about changing the graph into a `directed` graph, that is (a -> b if a commented b). Then by our previous definition on active users, the `active users` are expected to come `from the submission authors` more than the comments authors. Why? Because we defined the active users by their degree, and the submission authors can receive hundreds of comments from one single post (`i.e., submissions authors deg += >100 for one action`) while the comment authors can only raise their degree by `1 for one action`. Hence, the active users will be mostly from the submissions authors.\n",
    "\n",
    "**Now we see why only `% Existence` changed**\n",
    "\n",
    "Consider the `active users as the submission authors`, if we remove them from the graph, the `component` structure is broken as for each submission authors, there are a lot of comment authors connected with it. Like the `root` of a tree, although there are still sub-trees, the large tree structure is broken.\n",
    "\n",
    "Recall how we visualized a path in the `research question`? When we remove the active user, we are removing the root, leaving a lot of subtrees connected internally but disconnected from each other. \n",
    "\n",
    "`Therefore`, as we remove the active user, we are removing the root, leaving a lot of subtrees connected internally but disconnected from each other. This is `why the path length did not change much`, we are `just changing level of tree by 1` when we remove the root. However, the `% Existence` changed by a lot because every `subtree is disconnected with each other` now."
   ]
  },
  {
   "cell_type": "markdown",
   "id": "56a945a7",
   "metadata": {},
   "source": [
    "## References \n",
    "\n",
    "[Wikipedia](https://en.wikipedia.org/wiki/Six_degrees_of_separation)\n",
    "\n",
    "[floyd vs dijkstra](https://www.geeksforgeeks.org/comparison-dijkstras-floyd-warshall-algorithms/)\n",
    "\n",
    "[snap.py](https://snap.stanford.edu/snappy/)\n",
    "\n",
    "[convert pandas to snap](https://stackoverflow.com/questions/51780621/converting-pandas-dataframe-to-snap-py)\n",
    "\n",
    "[networkx 1](https://stackoverflow.com/questions/14011600/sorting-a-networkx-graph-object-python), [networkx 2](https://stackoverflow.com/questions/50884035/networkx-calculating-and-storing-shortest-paths-on-a-graph-to-a-pandas-data-fra)\n",
    "\n",
    "[Generalists and Specialists: Using Community Embeddings to Quantify Activity Diversity in Online Platforms by Isaac Waller and Ashton Anderson](http://csslab.cs.toronto.edu/gs/actdiv-www2019.pdf)\n",
    "\n",
    "[Zhang, Lei & Tu, Wanqing. (2009). Six Degrees of Separation in Online Society. ](https://www.researchgate.net/publication/255614427_Six_Degrees_of_Separation_in_Online_Society)"
   ]
  },
  {
   "cell_type": "markdown",
   "id": "2a5ee7dd",
   "metadata": {},
   "source": [
    "---"
   ]
  },
  {
   "cell_type": "markdown",
   "id": "3c18d817",
   "metadata": {},
   "source": [
    "# Import and load data"
   ]
  },
  {
   "cell_type": "code",
   "execution_count": 1,
   "id": "3c72bd9b",
   "metadata": {},
   "outputs": [],
   "source": [
    "import pandas as pd\n",
    "import numpy as np\n",
    "import matplotlib.pyplot as plt\n",
    "import tqdm as tqdm\n",
    "# import plotly as px"
   ]
  },
  {
   "cell_type": "code",
   "execution_count": 2,
   "id": "951b8c8b",
   "metadata": {},
   "outputs": [],
   "source": [
    "comments = pd.read_csv(\"main_comments.csv.gz\")\n",
    "comments = comments[comments.author!='Io99IHkg-4QzX6xbKwbte0cuzp4=']\n",
    "comments = comments[comments.author!='EA1r-K5p_lVBLesLhCFRrKOPN-I=']"
   ]
  },
  {
   "cell_type": "code",
   "execution_count": 3,
   "id": "a2cf9009",
   "metadata": {},
   "outputs": [],
   "source": [
    "submissions = pd.read_csv(\"main_submissions.csv.gz\")\n",
    "submissions = submissions[submissions.author!='Io99IHkg-4QzX6xbKwbte0cuzp4=']\n",
    "submissions = submissions[submissions.author!='EA1r-K5p_lVBLesLhCFRrKOPN-I=']"
   ]
  },
  {
   "cell_type": "markdown",
   "id": "948fb53b",
   "metadata": {},
   "source": [
    "# Understanding the data\n",
    "print the size, unique values, isna(), etc. to have an eye on the data"
   ]
  },
  {
   "cell_type": "code",
   "execution_count": 4,
   "id": "f6179a01",
   "metadata": {},
   "outputs": [
    {
     "name": "stdout",
     "output_type": "stream",
     "text": [
      "====== COMMENTS DF =====\n",
      "shape is: \n",
      "(24350199, 6)\n",
      "columns are: \n",
      "['id', 'score', 'link_id', 'author', 'subreddit', 'created_utc']\n",
      "is there any null values?\n"
     ]
    },
    {
     "data": {
      "text/plain": [
       "id             False\n",
       "score          False\n",
       "link_id        False\n",
       "author         False\n",
       "subreddit      False\n",
       "created_utc    False\n",
       "dtype: bool"
      ]
     },
     "metadata": {},
     "output_type": "display_data"
    },
    {
     "data": {
      "text/html": [
       "<div>\n",
       "<style scoped>\n",
       "    .dataframe tbody tr th:only-of-type {\n",
       "        vertical-align: middle;\n",
       "    }\n",
       "\n",
       "    .dataframe tbody tr th {\n",
       "        vertical-align: top;\n",
       "    }\n",
       "\n",
       "    .dataframe thead th {\n",
       "        text-align: right;\n",
       "    }\n",
       "</style>\n",
       "<table border=\"1\" class=\"dataframe\">\n",
       "  <thead>\n",
       "    <tr style=\"text-align: right;\">\n",
       "      <th></th>\n",
       "      <th>id</th>\n",
       "      <th>score</th>\n",
       "      <th>link_id</th>\n",
       "      <th>author</th>\n",
       "      <th>subreddit</th>\n",
       "      <th>created_utc</th>\n",
       "    </tr>\n",
       "  </thead>\n",
       "  <tbody>\n",
       "    <tr>\n",
       "      <th>1</th>\n",
       "      <td>t1_gmd0xrl</td>\n",
       "      <td>1</td>\n",
       "      <td>t3_lehibh</td>\n",
       "      <td>1UBdU9GQvCnnXQHAcYaG1uL9V_U=</td>\n",
       "      <td>RedditSessions</td>\n",
       "      <td>1612683157</td>\n",
       "    </tr>\n",
       "    <tr>\n",
       "      <th>4</th>\n",
       "      <td>t1_fn060jg</td>\n",
       "      <td>26</td>\n",
       "      <td>t3_fyheuv</td>\n",
       "      <td>_aeNuqWD_AT5JIfooWYpKiZR8qg=</td>\n",
       "      <td>nfl</td>\n",
       "      <td>1586536065</td>\n",
       "    </tr>\n",
       "    <tr>\n",
       "      <th>5</th>\n",
       "      <td>t1_gdhhjoh</td>\n",
       "      <td>8</td>\n",
       "      <td>t3_k0dzys</td>\n",
       "      <td>-4m5WOf2aRCaVgj2G2xQlhd_ZWc=</td>\n",
       "      <td>soccer</td>\n",
       "      <td>1606252691</td>\n",
       "    </tr>\n",
       "    <tr>\n",
       "      <th>6</th>\n",
       "      <td>t1_ff0oda3</td>\n",
       "      <td>3</td>\n",
       "      <td>t3_er1075</td>\n",
       "      <td>JoEJzH4WITDq1N5zUMFRtrVI6mk=</td>\n",
       "      <td>nfl</td>\n",
       "      <td>1579470758</td>\n",
       "    </tr>\n",
       "    <tr>\n",
       "      <th>7</th>\n",
       "      <td>t1_gbprexo</td>\n",
       "      <td>5</td>\n",
       "      <td>t3_jq25ke</td>\n",
       "      <td>1iOmD2WgmAGg6ZxWvOE-oDzhwMo=</td>\n",
       "      <td>ukpolitics</td>\n",
       "      <td>1604927620</td>\n",
       "    </tr>\n",
       "  </tbody>\n",
       "</table>\n",
       "</div>"
      ],
      "text/plain": [
       "           id  score    link_id                        author       subreddit  \\\n",
       "1  t1_gmd0xrl      1  t3_lehibh  1UBdU9GQvCnnXQHAcYaG1uL9V_U=  RedditSessions   \n",
       "4  t1_fn060jg     26  t3_fyheuv  _aeNuqWD_AT5JIfooWYpKiZR8qg=             nfl   \n",
       "5  t1_gdhhjoh      8  t3_k0dzys  -4m5WOf2aRCaVgj2G2xQlhd_ZWc=          soccer   \n",
       "6  t1_ff0oda3      3  t3_er1075  JoEJzH4WITDq1N5zUMFRtrVI6mk=             nfl   \n",
       "7  t1_gbprexo      5  t3_jq25ke  1iOmD2WgmAGg6ZxWvOE-oDzhwMo=      ukpolitics   \n",
       "\n",
       "   created_utc  \n",
       "1   1612683157  \n",
       "4   1586536065  \n",
       "5   1606252691  \n",
       "6   1579470758  \n",
       "7   1604927620  "
      ]
     },
     "execution_count": 4,
     "metadata": {},
     "output_type": "execute_result"
    }
   ],
   "source": [
    "print('====== COMMENTS DF =====')\n",
    "\n",
    "print(\"shape is: \")\n",
    "print(comments.shape)\n",
    "print(\"columns are: \")\n",
    "print(comments.columns.tolist())\n",
    "print(\"is there any null values?\")\n",
    "display(comments.isna().any())\n",
    "\n",
    "comments.head()"
   ]
  },
  {
   "cell_type": "code",
   "execution_count": 5,
   "id": "f298cc76",
   "metadata": {},
   "outputs": [
    {
     "name": "stdout",
     "output_type": "stream",
     "text": [
      "mean of score is: 11.78006064755364\n",
      "median of score is: 2.0\n",
      "# of types of subreddit: 92\n"
     ]
    }
   ],
   "source": [
    "print(\"mean of score is: \"+str(comments.score.mean()))\n",
    "print(\"median of score is: \"+str(comments.score.median()))\n",
    "print(\"# of types of subreddit: \" + str(comments.subreddit.nunique()))"
   ]
  },
  {
   "cell_type": "code",
   "execution_count": 6,
   "id": "b8ef5b69",
   "metadata": {},
   "outputs": [
    {
     "name": "stdout",
     "output_type": "stream",
     "text": [
      "====== SUBMISSION DF =====\n",
      "shape is: \n",
      "(1659560, 7)\n",
      "columns are: \n",
      "['id', 'author', 'created_utc', 'domain', 'is_self', 'score', 'subreddit']\n",
      "is there any null values?\n"
     ]
    },
    {
     "data": {
      "text/plain": [
       "id             False\n",
       "author         False\n",
       "created_utc    False\n",
       "domain          True\n",
       "is_self        False\n",
       "score          False\n",
       "subreddit      False\n",
       "dtype: bool"
      ]
     },
     "metadata": {},
     "output_type": "display_data"
    },
    {
     "data": {
      "text/html": [
       "<div>\n",
       "<style scoped>\n",
       "    .dataframe tbody tr th:only-of-type {\n",
       "        vertical-align: middle;\n",
       "    }\n",
       "\n",
       "    .dataframe tbody tr th {\n",
       "        vertical-align: top;\n",
       "    }\n",
       "\n",
       "    .dataframe thead th {\n",
       "        text-align: right;\n",
       "    }\n",
       "</style>\n",
       "<table border=\"1\" class=\"dataframe\">\n",
       "  <thead>\n",
       "    <tr style=\"text-align: right;\">\n",
       "      <th></th>\n",
       "      <th>id</th>\n",
       "      <th>author</th>\n",
       "      <th>created_utc</th>\n",
       "      <th>domain</th>\n",
       "      <th>is_self</th>\n",
       "      <th>score</th>\n",
       "      <th>subreddit</th>\n",
       "    </tr>\n",
       "  </thead>\n",
       "  <tbody>\n",
       "    <tr>\n",
       "      <th>0</th>\n",
       "      <td>t3_kby7v8</td>\n",
       "      <td>ZkakZ8xfXNiL6wUXhJhRU3Ysa7c=</td>\n",
       "      <td>1607811261</td>\n",
       "      <td>self.AskReddit</td>\n",
       "      <td>True</td>\n",
       "      <td>3</td>\n",
       "      <td>AskReddit</td>\n",
       "    </tr>\n",
       "    <tr>\n",
       "      <th>1</th>\n",
       "      <td>t3_nwccst</td>\n",
       "      <td>pQ8j9hcuty1RBfCkUutL0cy9Zco=</td>\n",
       "      <td>1623290593</td>\n",
       "      <td>i.redd.it</td>\n",
       "      <td>False</td>\n",
       "      <td>11</td>\n",
       "      <td>pics</td>\n",
       "    </tr>\n",
       "    <tr>\n",
       "      <th>2</th>\n",
       "      <td>t3_ik55fe</td>\n",
       "      <td>GH3YzjQCtBT4DkTjcxWb2-vPoa0=</td>\n",
       "      <td>1598903369</td>\n",
       "      <td>self.Market76</td>\n",
       "      <td>True</td>\n",
       "      <td>0</td>\n",
       "      <td>Market76</td>\n",
       "    </tr>\n",
       "    <tr>\n",
       "      <th>3</th>\n",
       "      <td>t3_hkl0qs</td>\n",
       "      <td>57zAuZ7GS2EvQeCSXqU19wYZgjs=</td>\n",
       "      <td>1593790032</td>\n",
       "      <td>v.redd.it</td>\n",
       "      <td>False</td>\n",
       "      <td>1</td>\n",
       "      <td>funny</td>\n",
       "    </tr>\n",
       "    <tr>\n",
       "      <th>4</th>\n",
       "      <td>t3_jdrjpp</td>\n",
       "      <td>HY8UtHbd9PNUDFmaAkm4-10hgmA=</td>\n",
       "      <td>1603066751</td>\n",
       "      <td>i.redd.it</td>\n",
       "      <td>False</td>\n",
       "      <td>578</td>\n",
       "      <td>PrequelMemes</td>\n",
       "    </tr>\n",
       "  </tbody>\n",
       "</table>\n",
       "</div>"
      ],
      "text/plain": [
       "          id                        author  created_utc          domain  \\\n",
       "0  t3_kby7v8  ZkakZ8xfXNiL6wUXhJhRU3Ysa7c=   1607811261  self.AskReddit   \n",
       "1  t3_nwccst  pQ8j9hcuty1RBfCkUutL0cy9Zco=   1623290593       i.redd.it   \n",
       "2  t3_ik55fe  GH3YzjQCtBT4DkTjcxWb2-vPoa0=   1598903369   self.Market76   \n",
       "3  t3_hkl0qs  57zAuZ7GS2EvQeCSXqU19wYZgjs=   1593790032       v.redd.it   \n",
       "4  t3_jdrjpp  HY8UtHbd9PNUDFmaAkm4-10hgmA=   1603066751       i.redd.it   \n",
       "\n",
       "   is_self  score     subreddit  \n",
       "0     True      3     AskReddit  \n",
       "1    False     11          pics  \n",
       "2     True      0      Market76  \n",
       "3    False      1         funny  \n",
       "4    False    578  PrequelMemes  "
      ]
     },
     "execution_count": 6,
     "metadata": {},
     "output_type": "execute_result"
    }
   ],
   "source": [
    "print('====== SUBMISSION DF =====')\n",
    "\n",
    "print(\"shape is: \")\n",
    "print(submissions.shape)\n",
    "print(\"columns are: \")\n",
    "print(submissions.columns.tolist())\n",
    "print(\"is there any null values?\")\n",
    "display(submissions.isna().any())\n",
    "\n",
    "submissions.head()"
   ]
  },
  {
   "cell_type": "code",
   "execution_count": 7,
   "id": "e946ca9e",
   "metadata": {},
   "outputs": [
    {
     "data": {
      "text/html": [
       "<div>\n",
       "<style scoped>\n",
       "    .dataframe tbody tr th:only-of-type {\n",
       "        vertical-align: middle;\n",
       "    }\n",
       "\n",
       "    .dataframe tbody tr th {\n",
       "        vertical-align: top;\n",
       "    }\n",
       "\n",
       "    .dataframe thead th {\n",
       "        text-align: right;\n",
       "    }\n",
       "</style>\n",
       "<table border=\"1\" class=\"dataframe\">\n",
       "  <thead>\n",
       "    <tr style=\"text-align: right;\">\n",
       "      <th></th>\n",
       "      <th>id</th>\n",
       "      <th>author</th>\n",
       "      <th>created_utc</th>\n",
       "      <th>domain</th>\n",
       "      <th>is_self</th>\n",
       "      <th>score</th>\n",
       "      <th>subreddit</th>\n",
       "    </tr>\n",
       "  </thead>\n",
       "  <tbody>\n",
       "    <tr>\n",
       "      <th>1155142</th>\n",
       "      <td>t3_btrijg</td>\n",
       "      <td>nt8JT0NsJ1PAI84HsbdybrrZP8A=</td>\n",
       "      <td>1558991890</td>\n",
       "      <td>NaN</td>\n",
       "      <td>False</td>\n",
       "      <td>0</td>\n",
       "      <td>classicwow</td>\n",
       "    </tr>\n",
       "    <tr>\n",
       "      <th>1155388</th>\n",
       "      <td>t3_btc71n</td>\n",
       "      <td>vskL7TEkWuwuzG5OfoWNF7TrV08=</td>\n",
       "      <td>1558899632</td>\n",
       "      <td>NaN</td>\n",
       "      <td>False</td>\n",
       "      <td>1</td>\n",
       "      <td>AskReddit</td>\n",
       "    </tr>\n",
       "    <tr>\n",
       "      <th>1155493</th>\n",
       "      <td>t3_btl2q1</td>\n",
       "      <td>pDwrr-reuo99xObYlwlwFz5GhQU=</td>\n",
       "      <td>1558957650</td>\n",
       "      <td>NaN</td>\n",
       "      <td>False</td>\n",
       "      <td>3</td>\n",
       "      <td>AskReddit</td>\n",
       "    </tr>\n",
       "    <tr>\n",
       "      <th>1158903</th>\n",
       "      <td>t3_btz7b0</td>\n",
       "      <td>0ayu-uLpew8bux5t4fnvkph-_BA=</td>\n",
       "      <td>1559044987</td>\n",
       "      <td>NaN</td>\n",
       "      <td>False</td>\n",
       "      <td>1</td>\n",
       "      <td>DestinyTheGame</td>\n",
       "    </tr>\n",
       "    <tr>\n",
       "      <th>1158966</th>\n",
       "      <td>t3_btemyp</td>\n",
       "      <td>N5vvo1pfp-R_uemACwz-MUrhYow=</td>\n",
       "      <td>1558912506</td>\n",
       "      <td>NaN</td>\n",
       "      <td>False</td>\n",
       "      <td>3</td>\n",
       "      <td>AskOuija</td>\n",
       "    </tr>\n",
       "  </tbody>\n",
       "</table>\n",
       "</div>"
      ],
      "text/plain": [
       "                id                        author  created_utc domain  is_self  \\\n",
       "1155142  t3_btrijg  nt8JT0NsJ1PAI84HsbdybrrZP8A=   1558991890    NaN    False   \n",
       "1155388  t3_btc71n  vskL7TEkWuwuzG5OfoWNF7TrV08=   1558899632    NaN    False   \n",
       "1155493  t3_btl2q1  pDwrr-reuo99xObYlwlwFz5GhQU=   1558957650    NaN    False   \n",
       "1158903  t3_btz7b0  0ayu-uLpew8bux5t4fnvkph-_BA=   1559044987    NaN    False   \n",
       "1158966  t3_btemyp  N5vvo1pfp-R_uemACwz-MUrhYow=   1558912506    NaN    False   \n",
       "\n",
       "         score       subreddit  \n",
       "1155142      0      classicwow  \n",
       "1155388      1       AskReddit  \n",
       "1155493      3       AskReddit  \n",
       "1158903      1  DestinyTheGame  \n",
       "1158966      3        AskOuija  "
      ]
     },
     "metadata": {},
     "output_type": "display_data"
    },
    {
     "name": "stdout",
     "output_type": "stream",
     "text": [
      "Amount of NaN: 309\n",
      "Max score of NaN: 242\n",
      "Mean score of NaN: 4.26537216828479\n",
      "Median score of NaN: 1.0\n",
      "Number of subreddits that has NaN: 40\n",
      "drop the NaN values b/c amount is small, and low mean/median -> little influence\n"
     ]
    }
   ],
   "source": [
    "# look at null values for domain\n",
    "display(submissions[submissions['domain'].isna()].head())\n",
    "print(\"Amount of NaN: \"+ str(submissions[submissions['domain'].isna()].shape[0]))\n",
    "print(\"Max score of NaN: \" + str(submissions[submissions['domain'].isna()].score.max()))\n",
    "print(\"Mean score of NaN: \" + str(submissions[submissions['domain'].isna()].score.mean()))\n",
    "print(\"Median score of NaN: \" + str(submissions[submissions['domain'].isna()].score.median()))\n",
    "print(\"Number of subreddits that has NaN: \" + str(submissions[submissions['domain'].isna()].subreddit.nunique()))\n",
    "\n",
    "print(\"drop the NaN values b/c amount is small, and low mean/median -> little influence\")\n",
    "submissions.dropna(inplace=True)\n"
   ]
  },
  {
   "cell_type": "code",
   "execution_count": 8,
   "id": "8282da71",
   "metadata": {},
   "outputs": [
    {
     "name": "stdout",
     "output_type": "stream",
     "text": [
      "mean of score is: 243.7405202708933\n",
      "median of score is: 2.0\n",
      "# of types of subreddit: 92\n"
     ]
    }
   ],
   "source": [
    "print(\"mean of score is: \"+str(submissions.score.mean()))\n",
    "print(\"median of score is: \"+str(submissions.score.median()))\n",
    "print(\"# of types of subreddit: \" + str(submissions.subreddit.nunique()))"
   ]
  },
  {
   "cell_type": "code",
   "execution_count": 9,
   "id": "72232550",
   "metadata": {},
   "outputs": [
    {
     "name": "stdout",
     "output_type": "stream",
     "text": [
      "verify that link_ids is a subset of submission_ids\n"
     ]
    },
    {
     "data": {
      "text/plain": [
       "False"
      ]
     },
     "execution_count": 9,
     "metadata": {},
     "output_type": "execute_result"
    }
   ],
   "source": [
    "link_ids = comments.link_id.unique().tolist()\n",
    "submission_ids = submissions.id.unique().tolist()\n",
    "\n",
    "print(\"verify that link_ids is a subset of submission_ids\")\n",
    "all(x in submission_ids for x in link_ids)"
   ]
  },
  {
   "cell_type": "code",
   "execution_count": 10,
   "id": "3f8331f2",
   "metadata": {},
   "outputs": [
    {
     "name": "stdout",
     "output_type": "stream",
     "text": [
      "verify that submission_ids is a subset of link_ids\n"
     ]
    },
    {
     "data": {
      "text/plain": [
       "False"
      ]
     },
     "execution_count": 10,
     "metadata": {},
     "output_type": "execute_result"
    }
   ],
   "source": [
    "print(\"verify that submission_ids is a subset of link_ids\")\n",
    "all(x in link_ids for x in submission_ids)"
   ]
  },
  {
   "cell_type": "code",
   "execution_count": 11,
   "id": "4feb4ad5",
   "metadata": {},
   "outputs": [
    {
     "name": "stdout",
     "output_type": "stream",
     "text": [
      "verify that for comments, link_id can also be id of a comment (not just id of submission)\n",
      "False\n"
     ]
    }
   ],
   "source": [
    "print(\"verify that for comments, link_id can also be id of a comment (not just id of submission)\")\n",
    "# any(x in comments.id.unique().tolist() for x in link_ids)\n",
    "print(False) # to save running time (already checked)"
   ]
  },
  {
   "cell_type": "code",
   "execution_count": 12,
   "id": "aa06e7b7",
   "metadata": {},
   "outputs": [
    {
     "name": "stdout",
     "output_type": "stream",
     "text": [
      "verify that ids are unique for each submission / comments: \n",
      "True\n",
      "True\n"
     ]
    }
   ],
   "source": [
    "print(\"verify that ids are unique for each submission / comments: \")\n",
    "#print(submissions.id.nunique() == submissions.shape[0])\n",
    "#print(comments.id.nunique() == comments.shape[0])\n",
    "print(True)\n",
    "print(True)"
   ]
  },
  {
   "cell_type": "markdown",
   "id": "97f3480e",
   "metadata": {},
   "source": [
    "#### we see that for comments data:\n",
    "\n",
    "    - 28M rows, 6 columns\n",
    "    - no null values\n",
    "    - mean of score is much higher than median <- potential of outliers on popularity -> careful on prediction"
   ]
  },
  {
   "cell_type": "markdown",
   "id": "e88b5f0c",
   "metadata": {},
   "source": [
    "#### we see that for submissionss data:\n",
    "\n",
    "    - 1.8M rows, 7 columns\n",
    "    - \"domain\" has null values\n",
    "        - 456 submissions have NaN domain\n",
    "        - the mean and median score are both low\n",
    "        - not all subreddits submissions have NaN domain\n",
    "        - since number is very low comparing to the amount of samples we have => DROP them\n",
    "    - mean of score is much higher than median <- potential of outliers on popularity -> careful on prediction"
   ]
  },
  {
   "cell_type": "markdown",
   "id": "df52658f",
   "metadata": {},
   "source": [
    "#### conclusion on oberserving data\n",
    "    - for the user/post connection, since link_id in comments is not necessarily a subset of submission_id,\n",
    "      we need to explicitly choose the data to form our matrix\n",
    "    - for prediction model, be careful about outliers in score\n",
    "    - we dropped the NaN values (only 454 of them, mean/median close to 0 -> little influence)"
   ]
  },
  {
   "cell_type": "markdown",
   "id": "916e0ed2",
   "metadata": {},
   "source": [
    "# User connection"
   ]
  },
  {
   "cell_type": "markdown",
   "id": "71e2b540",
   "metadata": {},
   "source": [
    "This section will analyze whether there is a \"path\" between users by checking \"commenting\"\n",
    "\n",
    "The comments and submissions data will be sufficient to build a matrix representing a graph structure.\n",
    "\n",
    "I will take a sample data of 100k from submissions to speed up the process, and by the end use same algorithm to analyze on the full 1.8M data."
   ]
  },
  {
   "cell_type": "markdown",
   "id": "84048a9a",
   "metadata": {},
   "source": [
    "#### graph construction algorithm\n",
    "\n",
    "if a commented b / vice-versa, then a is connected to b\n",
    "\n",
    "Generally, we check the id <-> link_id connection and build edges between authors.\n",
    "\n",
    "We can use the \"authors\" to represent each vertex, and author_i is connected to author_j iff author_i commented author_j (see graph construction pdf for more, HAVEN'T UPLOADED YET, just some scratch draft for now)\n",
    "\n",
    "For underiected graph G = (V, E), \n",
    "    \n",
    "    - V = authors\n",
    "    - O(|V|) = O(|authors_of_submissions|) + O(|authors_of_comments|)\n",
    "    - E = (a_i, a_j), a_i's submission is commented by a_j or reverse\n",
    "    - O(|E|) = |comments|\n",
    "    - O(|G|) = |V|^2 (NxN matrix representation)\n",
    "    \n",
    "#### Find expected size of matrix by looking at author info\n",
    "Instead of only taking authors who commented with link_id = submission_id, we chose to use all authors.\n",
    "Because notice that comment_linkID is not a subset of submissions, meaning that there could be path without using any vertex from submissions.\n",
    "(see wrong approach below for details)"
   ]
  },
  {
   "cell_type": "code",
   "execution_count": 13,
   "id": "73a7cc1a",
   "metadata": {},
   "outputs": [
    {
     "name": "stdout",
     "output_type": "stream",
     "text": [
      "number of submissions: 100000\n",
      "number of submission authors: 70736\n",
      "number of comments: 100000\n",
      "number of comment authors: 92095\n",
      "number of authors that in submissions only: \n",
      "69547\n",
      "number of authors that in comments only: \n",
      "90906\n"
     ]
    }
   ],
   "source": [
    "# take subsample of 100k, use seed = birthday for luck :)\n",
    "\n",
    "submissions_authors = submissions.sample(100000, random_state=1121)[['id','author']]\n",
    "#submissions_authors = submissions[['id','author']]\n",
    "\n",
    "# WRONG approach: comments_authors = comments[comments.link_id.isin(submissions_authors.id)][['link_id','author']]\n",
    "comments_authors = comments.sample(100000, random_state=1121)[['id','link_id','author']]\n",
    "#comments_authors = comments[['id','link_id','author']]\n",
    "\n",
    "# list of all unique authors in comments + submissions\n",
    "authors = set(submissions_authors.author.unique().tolist() + comments_authors.author.unique().tolist())\n",
    "authors = list(authors)\n",
    "\n",
    "print(\"number of submissions: \" + str(submissions_authors.shape[0]))\n",
    "print(\"number of submission authors: \" + str(submissions_authors.author.nunique()))\n",
    "\n",
    "print(\"number of comments: \" + str(comments_authors.shape[0]))\n",
    "print(\"number of comment authors: \" + str(comments_authors.author.nunique()))\n",
    "\n",
    "print(\"number of authors that in submissions only: \")\n",
    "print(submissions_authors[~submissions_authors.author.isin(comments_authors.author)].author.nunique())\n",
    "print(\"number of authors that in comments only: \")\n",
    "print(comments_authors[~comments_authors.author.isin(submissions_authors.author)].author.nunique())\n"
   ]
  },
  {
   "cell_type": "markdown",
   "id": "ad34de51",
   "metadata": {},
   "source": [
    "#### construct graph using above data"
   ]
  },
  {
   "cell_type": "code",
   "execution_count": 14,
   "id": "e6a6d636",
   "metadata": {},
   "outputs": [],
   "source": [
    "# construct matrix\n",
    "\n",
    "# df that maps id to corresponding author\n",
    "id_author = submissions[['id','author']].append(comments[['id','author']])\n",
    "id_author.columns=['link_id','link_author']"
   ]
  },
  {
   "cell_type": "code",
   "execution_count": 15,
   "id": "af3a065a",
   "metadata": {},
   "outputs": [
    {
     "data": {
      "text/html": [
       "<div>\n",
       "<style scoped>\n",
       "    .dataframe tbody tr th:only-of-type {\n",
       "        vertical-align: middle;\n",
       "    }\n",
       "\n",
       "    .dataframe tbody tr th {\n",
       "        vertical-align: top;\n",
       "    }\n",
       "\n",
       "    .dataframe thead th {\n",
       "        text-align: right;\n",
       "    }\n",
       "</style>\n",
       "<table border=\"1\" class=\"dataframe\">\n",
       "  <thead>\n",
       "    <tr style=\"text-align: right;\">\n",
       "      <th></th>\n",
       "      <th>id</th>\n",
       "      <th>link_id</th>\n",
       "      <th>author</th>\n",
       "      <th>link_author</th>\n",
       "    </tr>\n",
       "  </thead>\n",
       "  <tbody>\n",
       "    <tr>\n",
       "      <th>0</th>\n",
       "      <td>t1_gw3i1qk</td>\n",
       "      <td>t3_mzwnem</td>\n",
       "      <td>xf49T_eHch6P-JVMAxeuqh6tutI=</td>\n",
       "      <td>d1nJlnvhlSXAgzifpiSUboDZOuQ=</td>\n",
       "    </tr>\n",
       "    <tr>\n",
       "      <th>1</th>\n",
       "      <td>t1_fy1j6t9</td>\n",
       "      <td>t3_hqlf85</td>\n",
       "      <td>31hMY0Xd5-UFGorI6na7igVyNQE=</td>\n",
       "      <td>9tH33QdJxwKi2qmwYsbGaaEY18s=</td>\n",
       "    </tr>\n",
       "    <tr>\n",
       "      <th>2</th>\n",
       "      <td>t1_elkjhnx</td>\n",
       "      <td>t3_bgddn1</td>\n",
       "      <td>xO9DbldidLE0OM1FjEiFUoTQV_U=</td>\n",
       "      <td>SEUekVwS6TYr1APJu2eIosVOQdk=</td>\n",
       "    </tr>\n",
       "    <tr>\n",
       "      <th>3</th>\n",
       "      <td>t1_ell0qyp</td>\n",
       "      <td>t3_bgddn1</td>\n",
       "      <td>oXaMMVALx8VALcDb3j7IzwQy78o=</td>\n",
       "      <td>SEUekVwS6TYr1APJu2eIosVOQdk=</td>\n",
       "    </tr>\n",
       "    <tr>\n",
       "      <th>4</th>\n",
       "      <td>t1_ellngxe</td>\n",
       "      <td>t3_bgddn1</td>\n",
       "      <td>FZRJtR3QIBKJ36DIfNwfHLmT4cg=</td>\n",
       "      <td>SEUekVwS6TYr1APJu2eIosVOQdk=</td>\n",
       "    </tr>\n",
       "  </tbody>\n",
       "</table>\n",
       "</div>"
      ],
      "text/plain": [
       "           id    link_id                        author  \\\n",
       "0  t1_gw3i1qk  t3_mzwnem  xf49T_eHch6P-JVMAxeuqh6tutI=   \n",
       "1  t1_fy1j6t9  t3_hqlf85  31hMY0Xd5-UFGorI6na7igVyNQE=   \n",
       "2  t1_elkjhnx  t3_bgddn1  xO9DbldidLE0OM1FjEiFUoTQV_U=   \n",
       "3  t1_ell0qyp  t3_bgddn1  oXaMMVALx8VALcDb3j7IzwQy78o=   \n",
       "4  t1_ellngxe  t3_bgddn1  FZRJtR3QIBKJ36DIfNwfHLmT4cg=   \n",
       "\n",
       "                    link_author  \n",
       "0  d1nJlnvhlSXAgzifpiSUboDZOuQ=  \n",
       "1  9tH33QdJxwKi2qmwYsbGaaEY18s=  \n",
       "2  SEUekVwS6TYr1APJu2eIosVOQdk=  \n",
       "3  SEUekVwS6TYr1APJu2eIosVOQdk=  \n",
       "4  SEUekVwS6TYr1APJu2eIosVOQdk=  "
      ]
     },
     "metadata": {},
     "output_type": "display_data"
    },
    {
     "name": "stdout",
     "output_type": "stream",
     "text": [
      "1815\n"
     ]
    },
    {
     "data": {
      "text/html": [
       "<div>\n",
       "<style scoped>\n",
       "    .dataframe tbody tr th:only-of-type {\n",
       "        vertical-align: middle;\n",
       "    }\n",
       "\n",
       "    .dataframe tbody tr th {\n",
       "        vertical-align: top;\n",
       "    }\n",
       "\n",
       "    .dataframe thead th {\n",
       "        text-align: right;\n",
       "    }\n",
       "</style>\n",
       "<table border=\"1\" class=\"dataframe\">\n",
       "  <thead>\n",
       "    <tr style=\"text-align: right;\">\n",
       "      <th></th>\n",
       "      <th>link_author</th>\n",
       "      <th>author</th>\n",
       "    </tr>\n",
       "  </thead>\n",
       "  <tbody>\n",
       "    <tr>\n",
       "      <th>0</th>\n",
       "      <td>-0Rh_RMIdihFzKdfZ6IY_ImaD3A=</td>\n",
       "      <td>[OboRpGS968U05IJrrb8zVVVqjZI=]</td>\n",
       "    </tr>\n",
       "    <tr>\n",
       "      <th>1</th>\n",
       "      <td>-10E0Eq0l7ZoOdtLdUUYs10KpUs=</td>\n",
       "      <td>[D-EMSv1S4dGSDIO3ptbvQtOWVxw=]</td>\n",
       "    </tr>\n",
       "    <tr>\n",
       "      <th>2</th>\n",
       "      <td>-1LcRMy61zCjkaeZl3gABIfDCiI=</td>\n",
       "      <td>[s-OdXPo7beKRqd37eBzPACrIwo8=]</td>\n",
       "    </tr>\n",
       "    <tr>\n",
       "      <th>3</th>\n",
       "      <td>-2W3c6_0J9ehVkl0Wp5tf8Wc_yQ=</td>\n",
       "      <td>[fQN640imN6KziN-gbjXC1hgpBDU=]</td>\n",
       "    </tr>\n",
       "    <tr>\n",
       "      <th>4</th>\n",
       "      <td>-Bs3KvBWrM8xJPlmCY7CgS80BPY=</td>\n",
       "      <td>[F9UADV0ZqJo3aSDZXX9wmeeUpzo=]</td>\n",
       "    </tr>\n",
       "  </tbody>\n",
       "</table>\n",
       "</div>"
      ],
      "text/plain": [
       "                    link_author                          author\n",
       "0  -0Rh_RMIdihFzKdfZ6IY_ImaD3A=  [OboRpGS968U05IJrrb8zVVVqjZI=]\n",
       "1  -10E0Eq0l7ZoOdtLdUUYs10KpUs=  [D-EMSv1S4dGSDIO3ptbvQtOWVxw=]\n",
       "2  -1LcRMy61zCjkaeZl3gABIfDCiI=  [s-OdXPo7beKRqd37eBzPACrIwo8=]\n",
       "3  -2W3c6_0J9ehVkl0Wp5tf8Wc_yQ=  [fQN640imN6KziN-gbjXC1hgpBDU=]\n",
       "4  -Bs3KvBWrM8xJPlmCY7CgS80BPY=  [F9UADV0ZqJo3aSDZXX9wmeeUpzo=]"
      ]
     },
     "metadata": {},
     "output_type": "display_data"
    }
   ],
   "source": [
    "out = comments_authors.merge(id_author, left_on='link_id', right_on='link_id')\n",
    "display(out.head()) # we get a df that has id-author, link_id-link_author mapping\n",
    "print(out.shape[0]) # around 540k/28M = 2% of data has link_author; 1815/100k = 2% of data has link_author\n",
    "\n",
    "link_df = out.groupby('link_author')['author'].apply(list).reset_index()\n",
    "display(link_df.head()) # we see link-author <-> [list of authors]"
   ]
  },
  {
   "cell_type": "code",
   "execution_count": 16,
   "id": "8684a656",
   "metadata": {},
   "outputs": [
    {
     "data": {
      "text/html": [
       "<div>\n",
       "<style scoped>\n",
       "    .dataframe tbody tr th:only-of-type {\n",
       "        vertical-align: middle;\n",
       "    }\n",
       "\n",
       "    .dataframe tbody tr th {\n",
       "        vertical-align: top;\n",
       "    }\n",
       "\n",
       "    .dataframe thead th {\n",
       "        text-align: right;\n",
       "    }\n",
       "</style>\n",
       "<table border=\"1\" class=\"dataframe\">\n",
       "  <thead>\n",
       "    <tr style=\"text-align: right;\">\n",
       "      <th></th>\n",
       "      <th>link_author</th>\n",
       "      <th>author</th>\n",
       "    </tr>\n",
       "  </thead>\n",
       "  <tbody>\n",
       "    <tr>\n",
       "      <th>0</th>\n",
       "      <td>-0Rh_RMIdihFzKdfZ6IY_ImaD3A=</td>\n",
       "      <td>OboRpGS968U05IJrrb8zVVVqjZI=</td>\n",
       "    </tr>\n",
       "    <tr>\n",
       "      <th>1</th>\n",
       "      <td>-10E0Eq0l7ZoOdtLdUUYs10KpUs=</td>\n",
       "      <td>D-EMSv1S4dGSDIO3ptbvQtOWVxw=</td>\n",
       "    </tr>\n",
       "    <tr>\n",
       "      <th>2</th>\n",
       "      <td>-1LcRMy61zCjkaeZl3gABIfDCiI=</td>\n",
       "      <td>s-OdXPo7beKRqd37eBzPACrIwo8=</td>\n",
       "    </tr>\n",
       "    <tr>\n",
       "      <th>3</th>\n",
       "      <td>-2W3c6_0J9ehVkl0Wp5tf8Wc_yQ=</td>\n",
       "      <td>fQN640imN6KziN-gbjXC1hgpBDU=</td>\n",
       "    </tr>\n",
       "    <tr>\n",
       "      <th>4</th>\n",
       "      <td>-Bs3KvBWrM8xJPlmCY7CgS80BPY=</td>\n",
       "      <td>F9UADV0ZqJo3aSDZXX9wmeeUpzo=</td>\n",
       "    </tr>\n",
       "  </tbody>\n",
       "</table>\n",
       "</div>"
      ],
      "text/plain": [
       "                    link_author                        author\n",
       "0  -0Rh_RMIdihFzKdfZ6IY_ImaD3A=  OboRpGS968U05IJrrb8zVVVqjZI=\n",
       "1  -10E0Eq0l7ZoOdtLdUUYs10KpUs=  D-EMSv1S4dGSDIO3ptbvQtOWVxw=\n",
       "2  -1LcRMy61zCjkaeZl3gABIfDCiI=  s-OdXPo7beKRqd37eBzPACrIwo8=\n",
       "3  -2W3c6_0J9ehVkl0Wp5tf8Wc_yQ=  fQN640imN6KziN-gbjXC1hgpBDU=\n",
       "4  -Bs3KvBWrM8xJPlmCY7CgS80BPY=  F9UADV0ZqJo3aSDZXX9wmeeUpzo="
      ]
     },
     "metadata": {},
     "output_type": "display_data"
    }
   ],
   "source": [
    "link_df = link_df.explode('author')\n",
    "display(link_df.head())\n",
    "# link author <-> author1, author2, ..."
   ]
  },
  {
   "cell_type": "markdown",
   "id": "67baaba4",
   "metadata": {},
   "source": [
    "recursively find root_id of a comment, we need this to expand the graph matrix for more data, the link_df only has direct comments to post and comments to comments. If the link_id has no author recorded -> we lose that information, but it is possible for the root_id to have author recorded. We will have a more comprehensive dataset if we use both root_id and link_id to find authors\n",
    "\n",
    "Below is an attempt to find root id"
   ]
  },
  {
   "cell_type": "code",
   "execution_count": 17,
   "id": "b470d714",
   "metadata": {},
   "outputs": [
    {
     "name": "stdout",
     "output_type": "stream",
     "text": [
      "\n",
      "\n"
     ]
    }
   ],
   "source": [
    "'''from tqdm import trange\n",
    "\n",
    "root_id_dict = {}\n",
    "\n",
    "ids = comments_authors.id.tolist()\n",
    "link_ids = comments_authors.link_id.tolist()\n",
    "parent_of_id =  dict(zip(comments_authors.id, comments_authors.link_id))\n",
    "len_id = len(ids)\n",
    "\n",
    "# recursively find root id, use lists and dictionary rather than df to speed up tracking process\n",
    "# only need list[i], dict[i] instead of df.loc[df.column==i]\n",
    "for i in trange(len_id):\n",
    "    current_id = ids[i]\n",
    "    current_link_id = link_ids[i]\n",
    "    root_id = 0\n",
    "    while root_id != current_link_id:\n",
    "        if current_link_id not in ids:\n",
    "            # no parent\n",
    "            root_id = current_link_id\n",
    "        else:\n",
    "            # has parent, current = link of current\n",
    "            current_link_id = parent_of_id[current_link_id]\n",
    "    if (link_ids[i] != root_id):\n",
    "        print(\"current_id: \" + str(current_id) + \", root_id: \" + str(root_id))\n",
    "    \n",
    "    root_id_dict[current_id] = root_id\n",
    "\n",
    "# working on 100k data takes 15 mins (using list + dict), 18 mins(using df)\n",
    "# working on all data takes estimated ~2200 mins (using list + dict), estimated 2400 mins(=40hrs using df)\n",
    "\n",
    "comments_authors['root_id'] = comments_authors['id'].map(root_id_dict)\n",
    "print(\"rows where root_id != link_id: \") \n",
    "np.where(comments_authors.root_id != comments_authors.link_id)\n",
    "# commented all to save running notebook time'''\n",
    "print('\\n')"
   ]
  },
  {
   "cell_type": "markdown",
   "id": "05afa047",
   "metadata": {},
   "source": [
    "Notice that finding root id will take way too much time(30~40hrs) without really providing useful information (no root id in fact). We will not use it"
   ]
  },
  {
   "cell_type": "markdown",
   "id": "4ffb5458",
   "metadata": {},
   "source": [
    "- use all authors that appeared in rows/columns of above matrix as indices\n",
    "- if matrix[i,j]=1 or matrix[j,i]=1, then graph[i,j] = graph[j,i] = 1\n",
    "\n",
    "\n",
    "    for i in df.A:\n",
    "        connected = df.B \n",
    "        graph[i,connected] = graph[connected,i] = 1"
   ]
  },
  {
   "cell_type": "code",
   "execution_count": 18,
   "id": "d16ce54e",
   "metadata": {},
   "outputs": [
    {
     "name": "stdout",
     "output_type": "stream",
     "text": [
      "length of authors_list is: 3232\n"
     ]
    },
    {
     "name": "stderr",
     "output_type": "stream",
     "text": [
      "100%|█████████████████████████████████████| 1815/1815 [00:00<00:00, 2413.76it/s]\n"
     ]
    },
    {
     "data": {
      "text/plain": [
       "(3232, 3232)"
      ]
     },
     "metadata": {},
     "output_type": "display_data"
    },
    {
     "name": "stdout",
     "output_type": "stream",
     "text": [
      "# of connected authors | count\n"
     ]
    },
    {
     "data": {
      "text/plain": [
       "array([[   0,   47],\n",
       "       [   1, 3095],\n",
       "       [   2,   49],\n",
       "       [   3,   26],\n",
       "       [   4,    7],\n",
       "       [   5,    1],\n",
       "       [   6,    2],\n",
       "       [  10,    1],\n",
       "       [  12,    2],\n",
       "       [  25,    1],\n",
       "       [ 155,    1]])"
      ]
     },
     "metadata": {},
     "output_type": "display_data"
    }
   ],
   "source": [
    "from tqdm import trange\n",
    "\n",
    "authors_list = link_df.link_author.unique().tolist() + link_df.author.unique().tolist()\n",
    "authors_list = list(set(authors_list)) # take unique values only\n",
    "print(\"length of authors_list is: \" + str(len(authors_list)))\n",
    "\n",
    "# construct graph matrix \n",
    "\n",
    "author_matrix = pd.DataFrame(index = authors_list, columns= authors_list)\n",
    "\n",
    "len_link_df = link_df.shape[0]\n",
    "    \n",
    "# create df[i,j] = df[j,i] = 1 if i commented j or j commented i    \n",
    "for i in trange(len_link_df):\n",
    "    current_link_author = link_df.iloc[[i]].link_author.item()\n",
    "    current_author = link_df.iloc[[i]].author.item()\n",
    "    if (current_link_author != current_author):\n",
    "        author_matrix.at[current_link_author, current_author] = 1\n",
    "        author_matrix.at[current_author, current_link_author] = 1\n",
    "    \n",
    "# fill rest with 0 -> no edge\n",
    "author_matrix = author_matrix.fillna(0)\n",
    "\n",
    "# display some information on the matrix \n",
    "display(author_matrix.shape)\n",
    "\n",
    "(unique, counts) = np.unique(author_matrix.sum(), return_counts=True)\n",
    "frequencies = np.asarray((unique, counts)).T\n",
    "print(\"# of connected authors | count\")\n",
    "display(frequencies)\n",
    "#author_matrix.to_csv('sample_author_matrix.csv')"
   ]
  },
  {
   "cell_type": "markdown",
   "id": "8dc77f63",
   "metadata": {},
   "source": [
    "Draw the largest component of 100k data"
   ]
  },
  {
   "cell_type": "code",
   "execution_count": 23,
   "id": "cdde69ca",
   "metadata": {},
   "outputs": [
    {
     "data": {
      "image/png": "[encoded data removed]",
      "text/plain": [
       "<Figure size 432x288 with 1 Axes>"
      ]
     },
     "metadata": {},
     "output_type": "display_data"
    }
   ],
   "source": [
    "import networkx as nx\n",
    "from matplotlib.pyplot import figure\n",
    "\n",
    "author_matrix = pd.read_csv('sample_author_matrix.csv',index_col=0)\n",
    "\n",
    "G = nx.from_pandas_adjacency(author_matrix)\n",
    "\n",
    "components = sorted(nx.connected_components(G), key=len, reverse=True)\n",
    "largest_component = components[0]\n",
    "\n",
    "nx.draw_spring(G.subgraph(largest_component))"
   ]
  },
  {
   "cell_type": "markdown",
   "id": "c9cff239",
   "metadata": {},
   "source": [
    "The graph has each vertex = author, no self connected edge (i.e., G[i,i] = 0)\n",
    "It is constructed from an adjancency matrix as above, by looking at the freq, we see that most users have only 1 comment. Hence so far (using 50k~100k sample data), my hypothesis is that the information flow is slow (long path)"
   ]
  },
  {
   "cell_type": "markdown",
   "id": "4ac9e873",
   "metadata": {},
   "source": [
    "#### Dijkstra on Authors\n",
    "\n"
   ]
  },
  {
   "cell_type": "code",
   "execution_count": 20,
   "id": "051a1828",
   "metadata": {},
   "outputs": [
    {
     "name": "stderr",
     "output_type": "stream",
     "text": [
      "100%|███████████████████████████████████████| 3232/3232 [03:01<00:00, 17.83it/s]\n"
     ]
    }
   ],
   "source": [
    "for i in tqdm.tqdm(author_matrix.index):\n",
    "    for j in author_matrix.columns:\n",
    "        try:\n",
    "            path = nx.shortest_path(G, source = i, target = j)\n",
    "            path_len = nx.shortest_path_length(G, source=i, target=j)\n",
    "        except nx.NetworkXNoPath:\n",
    "            path = None\n",
    "            path_len = None\n",
    "            \n",
    "        #author_path.at[i,j] = path\n",
    "        author_matrix.at[i,j] = path_len\n",
    "\n",
    "# author_matrix.to_csv(\"sample_author_floyd.csv\")\n"
   ]
  },
  {
   "cell_type": "code",
   "execution_count": 17,
   "id": "7a585410",
   "metadata": {},
   "outputs": [],
   "source": [
    "author_matrix = pd.read_csv(\"sample_author_floyd.csv\", index_col = 0)"
   ]
  },
  {
   "cell_type": "code",
   "execution_count": 18,
   "id": "7d1bdfe3",
   "metadata": {},
   "outputs": [
    {
     "name": "stdout",
     "output_type": "stream",
     "text": [
      "=============================================\n",
      "========== DATA SAMPLE OF 100K ==============\n",
      "=============================================\n",
      "amount of authors:\n",
      "3232\n",
      "count of non nan values:\n",
      "32656\n",
      "count of non zero values:\n",
      "29424\n",
      "percentage of path existence: \n",
      "0.00282\n",
      "avg path length by users (i.e., mean accross rows then take avg on those values): \n",
      "1.11\n",
      "median of user avg: \n",
      "1.0\n",
      "max path length:\n",
      "3.0\n"
     ]
    }
   ],
   "source": [
    "# possibility of having path (exclude rows that have only one value)\n",
    "print(\"=============================================\")\n",
    "print(\"========== DATA SAMPLE OF 100K ==============\")\n",
    "print(\"=============================================\")\n",
    "print(\"amount of authors:\")\n",
    "print(author_matrix.shape[0])\n",
    "\n",
    "print('count of non nan values:')\n",
    "print(author_matrix.count().sum())\n",
    "\n",
    "print('count of non zero values:')\n",
    "print(author_matrix[author_matrix!=0].count().sum())\n",
    "\n",
    "print('percentage of path existence: ')\n",
    "print(np.around((author_matrix[author_matrix!=0].count().sum() / (author_matrix.shape[0])**2), decimals = 5))\n",
    "\n",
    "print('avg path length by users (i.e., mean accross rows then take avg on those values): ')\n",
    "print(np.around(author_matrix[author_matrix!=0].mean().mean(),decimals=3))\n",
    "\n",
    "print('median of user avg: ')\n",
    "print(np.around(author_matrix[author_matrix!=0].mean().median(), decimals=3))\n",
    "\n",
    "print('max path length:')\n",
    "print(author_matrix.max().max())\n"
   ]
  },
  {
   "cell_type": "markdown",
   "id": "8ec8d987",
   "metadata": {},
   "source": [
    "The above result supported that the amount of data (100k) we used maybe insufficient to bring any useful insights.\n",
    "\n",
    "It also denied my hypothesis s.t. info flow is slow(long path), as looking at the graph, there's very few path. \n",
    "\n",
    "The path length is small, however since we most i - j path does not exist (<0.3% path existence), the path length cannot answer our questions (it is mainly just the direct connection as in the dataset)\n",
    "\n",
    "For the following tasks, we will adjust the algorithm to allow it adapt all data and compare the analysis performance on different size of data sample."
   ]
  },
  {
   "cell_type": "markdown",
   "id": "c2c7db49",
   "metadata": {},
   "source": [
    "#### Improvement on Graph Construction and Path-Finding Algo.\n",
    "\n",
    "- allow it to adapt large data set (adjancency matrix <- NxN is not computable)\n",
    "\n",
    "- compare performance of 50k, 100k, 200k, 500k, 800k, 1000k, all data\n",
    "\n",
    "- compare running time against previous algo\n",
    "\n",
    "- use percentage to get sample data\n",
    "\n",
    "- try running on full dataset"
   ]
  },
  {
   "cell_type": "code",
   "execution_count": 25,
   "id": "593e82ce",
   "metadata": {},
   "outputs": [
    {
     "name": "stdout",
     "output_type": "stream",
     "text": [
      "USE EXPORTED DATA\n"
     ]
    }
   ],
   "source": [
    "sampleSize = [0.01, 0.05, 0.1]#, 0.5, 0.8, 1.0]\n",
    "#sampleSize = [50000, 100000, 200000, 500000, 800000, 1000000]\n",
    "#sampleSize = [i*10000 for i in range(2,51,2)] + [i*10000 for i in range(60,101,10)]\n",
    "#sampleSize=[100000]\n",
    "authorPathLenDiffSampleSize = pd.DataFrame(index = sampleSize, \n",
    "                                           columns = ['Number of Authors',\n",
    "                                                      'Nonzero',\n",
    "                                                      '% Existence', \n",
    "                                                      'average', \n",
    "                                                      'median', \n",
    "                                                      'max'])\n",
    "\n",
    "for size in sampleSize:\n",
    "    print(\"==== size: \" + str(size) + \" ====\")\n",
    "    # sampling\n",
    "    comments_authors = comments.sample(frac = size, random_state=1121)[['id','link_id','author']]\n",
    "    \n",
    "    # join link_id with link_author\n",
    "    out = comments_authors.merge(id_author, left_on='link_id', right_on='link_id')\n",
    "\n",
    "    print(\"-- DONE MERGING\")\n",
    "    \n",
    "    # create graph on it\n",
    "    link_df = out.groupby('link_author')['author'].apply(list).reset_index()\n",
    "    link_df = link_df.explode('author')\n",
    "    print('-- DONE EXPLODING')\n",
    "    \n",
    "    G = nx.from_pandas_edgelist(link_df, 'author','link_author')\n",
    "    print('-- DONE GRAPHING')\n",
    "    # use dijkstra instead of floyd warshall b/c sparse edge space\n",
    "    #author_pathlen_dict = dict(nx.all_pairs_dijkstra_path_length(G))\n",
    "    #print('-- DONE PATHING')\n",
    "    \n",
    "    # collect information\n",
    "    countPath = 0\n",
    "    avgs = []\n",
    "    max_len = 0\n",
    "    \n",
    "    authors_list = link_df.author.append(link_df.link_author).unique().tolist()\n",
    "    print('-- START ANALYZING')\n",
    "    for i in tqdm.tqdm(authors_list):\n",
    "        author_pathlen_dict = nx.single_source_dijkstra_path_length(G,i,cutoff=10)\n",
    "        countPath += len(author_pathlen_dict)\n",
    "        if len(author_pathlen_dict)== 1:\n",
    "            tmp = 0\n",
    "        else:\n",
    "            tmp = sum(author_pathlen_dict.values()) / (len(author_pathlen_dict)-1)\n",
    "        avgs.append(tmp)\n",
    "        max_len = max(max_len, max(author_pathlen_dict.values()))\n",
    "\n",
    "    authorPathLenDiffSampleSize.at[size, 'Number of Authors'] = len(authors_list)\n",
    "    authorPathLenDiffSampleSize.at[size,'Nonzero'] = countPath\n",
    "    authorPathLenDiffSampleSize.at[size,'% Existence'] = countPath/len(authors_list)**2\n",
    "    authorPathLenDiffSampleSize.at[size,'average'] = sum(avgs)/len(authors_list)\n",
    "    authorPathLenDiffSampleSize.at[size,'median'] = avgs[len(avgs)//2]\n",
    "    authorPathLenDiffSampleSize.at[size,'max'] = max_len"
   ]
  },
  {
   "cell_type": "code",
   "execution_count": 24,
   "id": "72081d2b",
   "metadata": {},
   "outputs": [
    {
     "data": {
      "text/html": [
       "<div>\n",
       "<style scoped>\n",
       "    .dataframe tbody tr th:only-of-type {\n",
       "        vertical-align: middle;\n",
       "    }\n",
       "\n",
       "    .dataframe tbody tr th {\n",
       "        vertical-align: top;\n",
       "    }\n",
       "\n",
       "    .dataframe thead th {\n",
       "        text-align: right;\n",
       "    }\n",
       "</style>\n",
       "<table border=\"1\" class=\"dataframe\">\n",
       "  <thead>\n",
       "    <tr style=\"text-align: right;\">\n",
       "      <th></th>\n",
       "      <th>Number of Authors</th>\n",
       "      <th>Nonzero</th>\n",
       "      <th>% Existence</th>\n",
       "      <th>average</th>\n",
       "      <th>median</th>\n",
       "      <th>max</th>\n",
       "    </tr>\n",
       "  </thead>\n",
       "  <tbody>\n",
       "    <tr>\n",
       "      <th>0.01</th>\n",
       "      <td>7818</td>\n",
       "      <td>201788</td>\n",
       "      <td>0.003301</td>\n",
       "      <td>1.146255</td>\n",
       "      <td>1.000000</td>\n",
       "      <td>6</td>\n",
       "    </tr>\n",
       "    <tr>\n",
       "      <th>0.05</th>\n",
       "      <td>35476</td>\n",
       "      <td>10846110</td>\n",
       "      <td>0.008618</td>\n",
       "      <td>1.455772</td>\n",
       "      <td>2.222222</td>\n",
       "      <td>10</td>\n",
       "    </tr>\n",
       "    <tr>\n",
       "      <th>0.10</th>\n",
       "      <td>66687</td>\n",
       "      <td>76875665</td>\n",
       "      <td>0.017286</td>\n",
       "      <td>1.735625</td>\n",
       "      <td>1.928571</td>\n",
       "      <td>10</td>\n",
       "    </tr>\n",
       "    <tr>\n",
       "      <th>0.20</th>\n",
       "      <td>123382</td>\n",
       "      <td>644163416</td>\n",
       "      <td>0.042315</td>\n",
       "      <td>2.393930</td>\n",
       "      <td>1.000000</td>\n",
       "      <td>10</td>\n",
       "    </tr>\n",
       "    <tr>\n",
       "      <th>0.50</th>\n",
       "      <td>268755</td>\n",
       "      <td>11943196827</td>\n",
       "      <td>0.165351</td>\n",
       "      <td>3.577936</td>\n",
       "      <td>1.000000</td>\n",
       "      <td>10</td>\n",
       "    </tr>\n",
       "  </tbody>\n",
       "</table>\n",
       "</div>"
      ],
      "text/plain": [
       "      Number of Authors      Nonzero  % Existence   average    median  max\n",
       "0.01               7818       201788     0.003301  1.146255  1.000000    6\n",
       "0.05              35476     10846110     0.008618  1.455772  2.222222   10\n",
       "0.10              66687     76875665     0.017286  1.735625  1.928571   10\n",
       "0.20             123382    644163416     0.042315  2.393930  1.000000   10\n",
       "0.50             268755  11943196827     0.165351  3.577936  1.000000   10"
      ]
     },
     "execution_count": 24,
     "metadata": {},
     "output_type": "execute_result"
    }
   ],
   "source": [
    "authorPathLenDiffSampleSize"
   ]
  },
  {
   "cell_type": "markdown",
   "id": "6fe2ee02",
   "metadata": {},
   "source": [
    "The above approach becomes siginificantly faster, dealing with a list of sample size only require time same as one size before. (100K data 6 times faster, 34s vs 2mins45s)\n",
    "\n",
    "CAUTION: Kernal may die if size > 1.5M (FIXED!!!! YEAH!!!!!!)\n",
    "\n",
    "We then look at some graphs to see if there's any relationship between size and the result"
   ]
  },
  {
   "cell_type": "code",
   "execution_count": 23,
   "id": "3dacb634",
   "metadata": {},
   "outputs": [
    {
     "data": {
      "image/png": "[encoded data removed]",
      "text/plain": [
       "<Figure size 432x288 with 1 Axes>"
      ]
     },
     "metadata": {
      "needs_background": "light"
     },
     "output_type": "display_data"
    }
   ],
   "source": [
    "authorPathLenDiffSampleSize.reset_index().plot(x='index', y='% Existence', kind='scatter')\n",
    "plt.show()"
   ]
  },
  {
   "cell_type": "markdown",
   "id": "220a9328",
   "metadata": {},
   "source": [
    "It is likely that there's a line that fits the points.\n",
    "\n",
    "Or curve like log regression, that's capped at certain value regardless sample size.\n",
    "\n",
    "Personally, I think the second makes more sense. (as supported by full dataset analysis)"
   ]
  },
  {
   "cell_type": "markdown",
   "id": "dd01ad55",
   "metadata": {},
   "source": [
    "#### Running on larger dataset"
   ]
  },
  {
   "cell_type": "markdown",
   "id": "403a2614",
   "metadata": {},
   "source": [
    "Modified a few codes to help the algorithm better fits large dataset\n",
    "\n",
    "- use frac = 0.5 on main_dataset\n",
    "- used cutoff = 10 to speed up process (had already tried, using cutoff or not on previous set makes few difference), although may lose some accuracy, but (1) path with too large path length are not what we concern about (2) it significantly saves time"
   ]
  },
  {
   "cell_type": "code",
   "execution_count": 24,
   "id": "1e7fb8e2",
   "metadata": {},
   "outputs": [
    {
     "data": {
      "text/html": [
       "<div>\n",
       "<style scoped>\n",
       "    .dataframe tbody tr th:only-of-type {\n",
       "        vertical-align: middle;\n",
       "    }\n",
       "\n",
       "    .dataframe tbody tr th {\n",
       "        vertical-align: top;\n",
       "    }\n",
       "\n",
       "    .dataframe thead th {\n",
       "        text-align: right;\n",
       "    }\n",
       "</style>\n",
       "<table border=\"1\" class=\"dataframe\">\n",
       "  <thead>\n",
       "    <tr style=\"text-align: right;\">\n",
       "      <th></th>\n",
       "      <th>Number of Authors</th>\n",
       "      <th>Nonzero</th>\n",
       "      <th>% Existence</th>\n",
       "      <th>average</th>\n",
       "      <th>median</th>\n",
       "      <th>max</th>\n",
       "    </tr>\n",
       "  </thead>\n",
       "  <tbody>\n",
       "    <tr>\n",
       "      <th>0.01</th>\n",
       "      <td>7818</td>\n",
       "      <td>201788</td>\n",
       "      <td>0.003301</td>\n",
       "      <td>1.146255</td>\n",
       "      <td>1.000000</td>\n",
       "      <td>6</td>\n",
       "    </tr>\n",
       "    <tr>\n",
       "      <th>0.05</th>\n",
       "      <td>35476</td>\n",
       "      <td>10846110</td>\n",
       "      <td>0.008618</td>\n",
       "      <td>1.455772</td>\n",
       "      <td>2.222222</td>\n",
       "      <td>10</td>\n",
       "    </tr>\n",
       "    <tr>\n",
       "      <th>0.10</th>\n",
       "      <td>66687</td>\n",
       "      <td>76875665</td>\n",
       "      <td>0.017286</td>\n",
       "      <td>1.735625</td>\n",
       "      <td>1.928571</td>\n",
       "      <td>10</td>\n",
       "    </tr>\n",
       "    <tr>\n",
       "      <th>0.20</th>\n",
       "      <td>123382</td>\n",
       "      <td>644163416</td>\n",
       "      <td>0.042315</td>\n",
       "      <td>2.393930</td>\n",
       "      <td>1.000000</td>\n",
       "      <td>10</td>\n",
       "    </tr>\n",
       "    <tr>\n",
       "      <th>0.50</th>\n",
       "      <td>268755</td>\n",
       "      <td>11943196827</td>\n",
       "      <td>0.165351</td>\n",
       "      <td>3.577936</td>\n",
       "      <td>1.000000</td>\n",
       "      <td>10</td>\n",
       "    </tr>\n",
       "  </tbody>\n",
       "</table>\n",
       "</div>"
      ],
      "text/plain": [
       "      Number of Authors      Nonzero  % Existence   average    median  max\n",
       "0.01               7818       201788     0.003301  1.146255  1.000000    6\n",
       "0.05              35476     10846110     0.008618  1.455772  2.222222   10\n",
       "0.10              66687     76875665     0.017286  1.735625  1.928571   10\n",
       "0.20             123382    644163416     0.042315  2.393930  1.000000   10\n",
       "0.50             268755  11943196827     0.165351  3.577936  1.000000   10"
      ]
     },
     "execution_count": 24,
     "metadata": {},
     "output_type": "execute_result"
    }
   ],
   "source": [
    "authorPathLenDiffSampleSize.head()"
   ]
  },
  {
   "cell_type": "code",
   "execution_count": 19,
   "id": "f1793415",
   "metadata": {},
   "outputs": [],
   "source": [
    "#authorPathLenDiffSampleSize.reset_index()\n",
    "#authorPathLenDiffSampleSize.to_csv(\"2.csv\")\n",
    "authorPathLenDiffSampleSize = pd.read_csv('2.csv',index_col=0)\n",
    "# load previous exported data"
   ]
  },
  {
   "cell_type": "code",
   "execution_count": 48,
   "id": "7140445c",
   "metadata": {},
   "outputs": [
    {
     "name": "stdout",
     "output_type": "stream",
     "text": [
      "-- DONE MERGING\n",
      "-- DONE EXPLODING\n",
      "-- DONE GRAPHING\n",
      "-- START ANALYZING\n"
     ]
    },
    {
     "name": "stderr",
     "output_type": "stream",
     "text": [
      "100%|████████████████████████████████| 268755/268755 [14:55:17<00:00,  5.00it/s]\n"
     ]
    }
   ],
   "source": [
    "for size in [0.5]:\n",
    "    comments_authors = comments.sample(frac = size, random_state=1121)[['id','link_id','author']]\n",
    "    \n",
    "    # join link_id with link_author\n",
    "    out = comments_authors.merge(id_author, left_on='link_id', right_on='link_id')\n",
    "\n",
    "    print(\"-- DONE MERGING\")\n",
    "    \n",
    "    # create graph on it\n",
    "    link_df = out.groupby('link_author')['author'].apply(list).reset_index()\n",
    "    link_df = link_df.explode('author')\n",
    "    print('-- DONE EXPLODING')\n",
    "    \n",
    "    G = nx.from_pandas_edgelist(link_df, 'author','link_author')\n",
    "    print('-- DONE GRAPHING')\n",
    "    # use dijkstra instead of floyd warshall b/c sparse edge space\n",
    "    #author_pathlen_dict = dict(nx.all_pairs_dijkstra_path_length(G))\n",
    "    #print('-- DONE PATHING')\n",
    "    \n",
    "    # collect information\n",
    "    countPath = 0\n",
    "    avgs = []\n",
    "    max_len = 0\n",
    "    \n",
    "    authors_list = link_df.author.append(link_df.link_author).unique().tolist()\n",
    "    print('-- START ANALYZING')\n",
    "    for i in tqdm.tqdm(authors_list):\n",
    "        author_pathlen_dict = nx.single_source_dijkstra_path_length(G,i,cutoff=10)\n",
    "        countPath += len(author_pathlen_dict)\n",
    "        if len(author_pathlen_dict)== 1:\n",
    "            tmp = 0\n",
    "        else:\n",
    "            tmp = sum(author_pathlen_dict.values()) / (len(author_pathlen_dict)-1)\n",
    "        avgs.append(tmp)\n",
    "        max_len = max(max_len, max(author_pathlen_dict.values()))\n",
    "\n",
    "    authorPathLenDiffSampleSize.at[size, 'Number of Authors'] = len(authors_list)\n",
    "    authorPathLenDiffSampleSize.at[size,'Nonzero'] = countPath\n",
    "    authorPathLenDiffSampleSize.at[size,'% Existence'] = countPath/len(authors_list)**2\n",
    "    authorPathLenDiffSampleSize.at[size,'average'] = sum(avgs)/len(authors_list)\n",
    "    authorPathLenDiffSampleSize.at[size,'median'] = avgs[len(avgs)//2]\n",
    "    authorPathLenDiffSampleSize.at[size,'max'] = max_len"
   ]
  },
  {
   "cell_type": "code",
   "execution_count": 20,
   "id": "e2a21e6c",
   "metadata": {},
   "outputs": [
    {
     "data": {
      "text/html": [
       "<div>\n",
       "<style scoped>\n",
       "    .dataframe tbody tr th:only-of-type {\n",
       "        vertical-align: middle;\n",
       "    }\n",
       "\n",
       "    .dataframe tbody tr th {\n",
       "        vertical-align: top;\n",
       "    }\n",
       "\n",
       "    .dataframe thead th {\n",
       "        text-align: right;\n",
       "    }\n",
       "</style>\n",
       "<table border=\"1\" class=\"dataframe\">\n",
       "  <thead>\n",
       "    <tr style=\"text-align: right;\">\n",
       "      <th></th>\n",
       "      <th>Number of Authors</th>\n",
       "      <th>Nonzero</th>\n",
       "      <th>% Existence</th>\n",
       "      <th>average</th>\n",
       "      <th>median</th>\n",
       "      <th>max</th>\n",
       "    </tr>\n",
       "  </thead>\n",
       "  <tbody>\n",
       "    <tr>\n",
       "      <th>0.01</th>\n",
       "      <td>7818</td>\n",
       "      <td>201788</td>\n",
       "      <td>0.003301</td>\n",
       "      <td>1.146255</td>\n",
       "      <td>1.000000</td>\n",
       "      <td>6</td>\n",
       "    </tr>\n",
       "    <tr>\n",
       "      <th>0.05</th>\n",
       "      <td>35476</td>\n",
       "      <td>10846110</td>\n",
       "      <td>0.008618</td>\n",
       "      <td>1.455772</td>\n",
       "      <td>2.222222</td>\n",
       "      <td>10</td>\n",
       "    </tr>\n",
       "    <tr>\n",
       "      <th>0.10</th>\n",
       "      <td>66687</td>\n",
       "      <td>76875665</td>\n",
       "      <td>0.017286</td>\n",
       "      <td>1.735625</td>\n",
       "      <td>1.928571</td>\n",
       "      <td>10</td>\n",
       "    </tr>\n",
       "    <tr>\n",
       "      <th>0.20</th>\n",
       "      <td>123382</td>\n",
       "      <td>644163416</td>\n",
       "      <td>0.042315</td>\n",
       "      <td>2.393930</td>\n",
       "      <td>1.000000</td>\n",
       "      <td>10</td>\n",
       "    </tr>\n",
       "    <tr>\n",
       "      <th>0.50</th>\n",
       "      <td>268755</td>\n",
       "      <td>11943196827</td>\n",
       "      <td>0.165351</td>\n",
       "      <td>3.577936</td>\n",
       "      <td>1.000000</td>\n",
       "      <td>10</td>\n",
       "    </tr>\n",
       "  </tbody>\n",
       "</table>\n",
       "</div>"
      ],
      "text/plain": [
       "      Number of Authors      Nonzero  % Existence   average    median  max\n",
       "0.01               7818       201788     0.003301  1.146255  1.000000    6\n",
       "0.05              35476     10846110     0.008618  1.455772  2.222222   10\n",
       "0.10              66687     76875665     0.017286  1.735625  1.928571   10\n",
       "0.20             123382    644163416     0.042315  2.393930  1.000000   10\n",
       "0.50             268755  11943196827     0.165351  3.577936  1.000000   10"
      ]
     },
     "execution_count": 20,
     "metadata": {},
     "output_type": "execute_result"
    }
   ],
   "source": [
    "authorPathLenDiffSampleSize"
   ]
  },
  {
   "cell_type": "markdown",
   "id": "87b5e498",
   "metadata": {},
   "source": [
    "#### Graphing on author avg path length\n",
    "\n",
    "- once we finish processing on 50% of main_dataset\n",
    "- plot a bar chart, every tile represents the avg path length, with one horizontal line representing avg of all length"
   ]
  },
  {
   "cell_type": "code",
   "execution_count": 31,
   "id": "e638dbcf",
   "metadata": {},
   "outputs": [
    {
     "data": {
      "image/png": "[encoded data removed]",
      "text/plain": [
       "<Figure size 432x288 with 1 Axes>"
      ]
     },
     "metadata": {
      "needs_background": "light"
     },
     "output_type": "display_data"
    }
   ],
   "source": [
    "authorPathLenDiffSampleSize.reset_index().plot(x='index', y='% Existence', kind='scatter')\n",
    "plt.show()"
   ]
  },
  {
   "cell_type": "markdown",
   "id": "4d3d81c4",
   "metadata": {},
   "source": [
    "- active users (more than 2 connected user) vs all users (check against previous result)\n",
    "- also compare running time"
   ]
  },
  {
   "cell_type": "code",
   "execution_count": 27,
   "id": "5cb1811b",
   "metadata": {},
   "outputs": [
    {
     "name": "stdout",
     "output_type": "stream",
     "text": [
      "==== size: 0.01 ====\n",
      "-- DONE MERGING\n",
      "-- DONE EXPLODING\n",
      "-- DONE GRAPHING\n",
      "-- START ANALYZING\n"
     ]
    },
    {
     "name": "stderr",
     "output_type": "stream",
     "text": [
      "100%|█████████████████████████████████████| 414/414 [00:00<00:00, 174973.99it/s]"
     ]
    },
    {
     "name": "stdout",
     "output_type": "stream",
     "text": [
      "==== size: 0.05 ====\n"
     ]
    },
    {
     "name": "stderr",
     "output_type": "stream",
     "text": [
      "\n"
     ]
    },
    {
     "name": "stdout",
     "output_type": "stream",
     "text": [
      "-- DONE MERGING\n",
      "-- DONE EXPLODING\n",
      "-- DONE GRAPHING\n",
      "-- START ANALYZING\n"
     ]
    },
    {
     "name": "stderr",
     "output_type": "stream",
     "text": [
      "100%|████████████████████████████████████| 2999/2999 [00:00<00:00, 57587.74it/s]"
     ]
    },
    {
     "name": "stdout",
     "output_type": "stream",
     "text": [
      "==== size: 0.1 ====\n"
     ]
    },
    {
     "name": "stderr",
     "output_type": "stream",
     "text": [
      "\n"
     ]
    },
    {
     "name": "stdout",
     "output_type": "stream",
     "text": [
      "-- DONE MERGING\n",
      "-- DONE EXPLODING\n",
      "-- DONE GRAPHING\n",
      "-- START ANALYZING\n"
     ]
    },
    {
     "name": "stderr",
     "output_type": "stream",
     "text": [
      "100%|█████████████████████████████████████| 7035/7035 [00:00<00:00, 7888.39it/s]\n"
     ]
    },
    {
     "name": "stdout",
     "output_type": "stream",
     "text": [
      "==== size: 0.2 ====\n",
      "-- DONE MERGING\n",
      "-- DONE EXPLODING\n",
      "-- DONE GRAPHING\n",
      "-- START ANALYZING\n"
     ]
    },
    {
     "name": "stderr",
     "output_type": "stream",
     "text": [
      "100%|████████████████████████████████████| 16055/16055 [00:27<00:00, 585.47it/s]\n"
     ]
    }
   ],
   "source": [
    "sampleSize = [0.01, 0.05, 0.1, 0.2]\n",
    "\n",
    "authorPathLenDiffSampleSize_filterd = pd.DataFrame(index = sampleSize, \n",
    "                                           columns = ['Number of Authors',\n",
    "                                                      'Nonzero',\n",
    "                                                      '% Existence', \n",
    "                                                      'average', \n",
    "                                                      'median', \n",
    "                                                      'max'])\n",
    "\n",
    "for size in sampleSize:\n",
    "    print(\"==== size: \" + str(size) + \" ====\")\n",
    "    # sampling\n",
    "    comments_authors = comments.sample(frac = size, random_state=1121)[['id','link_id','author']]\n",
    "    \n",
    "    # join link_id with link_author\n",
    "    out = comments_authors.merge(id_author, left_on='link_id', right_on='link_id')\n",
    "\n",
    "    print(\"-- DONE MERGING\")\n",
    "    \n",
    "    # create graph on it\n",
    "    link_df = out.groupby('link_author')['author'].apply(list).reset_index()\n",
    "    link_df = link_df.explode('author')\n",
    "    print('-- DONE EXPLODING')\n",
    "    \n",
    "    G = nx.from_pandas_edgelist(link_df, 'author','link_author')\n",
    "    remove = [node for node,degree in dict(G.degree()).items() if degree <= 1]\n",
    "    \n",
    "    G_filtered = G.copy()\n",
    "    G_filtered.remove_nodes_from(remove)\n",
    "    print('-- DONE GRAPHING')\n",
    "    # use dijkstra instead of floyd warshall b/c sparse edge space\n",
    "    #author_pathlen_dict = dict(nx.all_pairs_dijkstra_path_length(G))\n",
    "    #print('-- DONE PATHING')\n",
    "    \n",
    "    # collect information\n",
    "    countPath = 0\n",
    "    avgs = []\n",
    "    max_len = 0\n",
    "    \n",
    "    authors_list = G_filtered.nodes()\n",
    "    print('-- START ANALYZING')\n",
    "    for i in tqdm.tqdm(authors_list):\n",
    "        author_pathlen_dict = nx.single_source_dijkstra_path_length(G_filtered,i,cutoff=10)\n",
    "        countPath += len(author_pathlen_dict)\n",
    "        if len(author_pathlen_dict)== 1:\n",
    "            tmp = 0\n",
    "        else:\n",
    "            tmp = sum(author_pathlen_dict.values()) / (len(author_pathlen_dict)-1)\n",
    "        avgs.append(tmp)\n",
    "        max_len = max(max_len, max(author_pathlen_dict.values()))\n",
    "\n",
    "    authorPathLenDiffSampleSize_filterd.at[size, 'Number of Authors'] = len(authors_list)\n",
    "    authorPathLenDiffSampleSize_filterd.at[size,'Nonzero'] = countPath\n",
    "    authorPathLenDiffSampleSize_filterd.at[size,'% Existence'] = countPath/len(authors_list)**2\n",
    "    authorPathLenDiffSampleSize_filterd.at[size,'average'] = sum(avgs)/len(authors_list)\n",
    "    authorPathLenDiffSampleSize_filterd.at[size,'median'] = avgs[len(avgs)//2]\n",
    "    authorPathLenDiffSampleSize_filterd.at[size,'max'] = max_len"
   ]
  },
  {
   "cell_type": "code",
   "execution_count": 29,
   "id": "c70cd686",
   "metadata": {},
   "outputs": [
    {
     "data": {
      "text/html": [
       "<div>\n",
       "<style scoped>\n",
       "    .dataframe tbody tr th:only-of-type {\n",
       "        vertical-align: middle;\n",
       "    }\n",
       "\n",
       "    .dataframe tbody tr th {\n",
       "        vertical-align: top;\n",
       "    }\n",
       "\n",
       "    .dataframe thead th {\n",
       "        text-align: right;\n",
       "    }\n",
       "</style>\n",
       "<table border=\"1\" class=\"dataframe\">\n",
       "  <thead>\n",
       "    <tr style=\"text-align: right;\">\n",
       "      <th></th>\n",
       "      <th>Number of Authors</th>\n",
       "      <th>Nonzero</th>\n",
       "      <th>% Existence</th>\n",
       "      <th>average</th>\n",
       "      <th>median</th>\n",
       "      <th>max</th>\n",
       "    </tr>\n",
       "  </thead>\n",
       "  <tbody>\n",
       "    <tr>\n",
       "      <th>0.01</th>\n",
       "      <td>414</td>\n",
       "      <td>528</td>\n",
       "      <td>0.003081</td>\n",
       "      <td>0.125604</td>\n",
       "      <td>0</td>\n",
       "      <td>4</td>\n",
       "    </tr>\n",
       "    <tr>\n",
       "      <th>0.05</th>\n",
       "      <td>2999</td>\n",
       "      <td>23835</td>\n",
       "      <td>0.00265</td>\n",
       "      <td>0.368137</td>\n",
       "      <td>0</td>\n",
       "      <td>10</td>\n",
       "    </tr>\n",
       "    <tr>\n",
       "      <th>0.10</th>\n",
       "      <td>7035</td>\n",
       "      <td>587307</td>\n",
       "      <td>0.011867</td>\n",
       "      <td>0.853351</td>\n",
       "      <td>0</td>\n",
       "      <td>10</td>\n",
       "    </tr>\n",
       "    <tr>\n",
       "      <th>0.20</th>\n",
       "      <td>16055</td>\n",
       "      <td>10888105</td>\n",
       "      <td>0.042241</td>\n",
       "      <td>1.746778</td>\n",
       "      <td>0</td>\n",
       "      <td>10</td>\n",
       "    </tr>\n",
       "  </tbody>\n",
       "</table>\n",
       "</div>"
      ],
      "text/plain": [
       "     Number of Authors   Nonzero % Existence   average median max\n",
       "0.01               414       528    0.003081  0.125604      0   4\n",
       "0.05              2999     23835     0.00265  0.368137      0  10\n",
       "0.10              7035    587307    0.011867  0.853351      0  10\n",
       "0.20             16055  10888105    0.042241  1.746778      0  10"
      ]
     },
     "metadata": {},
     "output_type": "display_data"
    },
    {
     "data": {
      "text/html": [
       "<div>\n",
       "<style scoped>\n",
       "    .dataframe tbody tr th:only-of-type {\n",
       "        vertical-align: middle;\n",
       "    }\n",
       "\n",
       "    .dataframe tbody tr th {\n",
       "        vertical-align: top;\n",
       "    }\n",
       "\n",
       "    .dataframe thead th {\n",
       "        text-align: right;\n",
       "    }\n",
       "</style>\n",
       "<table border=\"1\" class=\"dataframe\">\n",
       "  <thead>\n",
       "    <tr style=\"text-align: right;\">\n",
       "      <th></th>\n",
       "      <th>Number of Authors</th>\n",
       "      <th>Nonzero</th>\n",
       "      <th>% Existence</th>\n",
       "      <th>average</th>\n",
       "      <th>median</th>\n",
       "      <th>max</th>\n",
       "    </tr>\n",
       "  </thead>\n",
       "  <tbody>\n",
       "    <tr>\n",
       "      <th>0.01</th>\n",
       "      <td>7818</td>\n",
       "      <td>201788</td>\n",
       "      <td>0.003301</td>\n",
       "      <td>1.146255</td>\n",
       "      <td>1.000000</td>\n",
       "      <td>6</td>\n",
       "    </tr>\n",
       "    <tr>\n",
       "      <th>0.05</th>\n",
       "      <td>35476</td>\n",
       "      <td>10846110</td>\n",
       "      <td>0.008618</td>\n",
       "      <td>1.455772</td>\n",
       "      <td>2.222222</td>\n",
       "      <td>10</td>\n",
       "    </tr>\n",
       "    <tr>\n",
       "      <th>0.10</th>\n",
       "      <td>66687</td>\n",
       "      <td>76875665</td>\n",
       "      <td>0.017286</td>\n",
       "      <td>1.735625</td>\n",
       "      <td>1.928571</td>\n",
       "      <td>10</td>\n",
       "    </tr>\n",
       "    <tr>\n",
       "      <th>0.20</th>\n",
       "      <td>123382</td>\n",
       "      <td>644163416</td>\n",
       "      <td>0.042315</td>\n",
       "      <td>2.393930</td>\n",
       "      <td>1.000000</td>\n",
       "      <td>10</td>\n",
       "    </tr>\n",
       "    <tr>\n",
       "      <th>0.50</th>\n",
       "      <td>268755</td>\n",
       "      <td>11943196827</td>\n",
       "      <td>0.165351</td>\n",
       "      <td>3.577936</td>\n",
       "      <td>1.000000</td>\n",
       "      <td>10</td>\n",
       "    </tr>\n",
       "  </tbody>\n",
       "</table>\n",
       "</div>"
      ],
      "text/plain": [
       "      Number of Authors      Nonzero  % Existence   average    median  max\n",
       "0.01               7818       201788     0.003301  1.146255  1.000000    6\n",
       "0.05              35476     10846110     0.008618  1.455772  2.222222   10\n",
       "0.10              66687     76875665     0.017286  1.735625  1.928571   10\n",
       "0.20             123382    644163416     0.042315  2.393930  1.000000   10\n",
       "0.50             268755  11943196827     0.165351  3.577936  1.000000   10"
      ]
     },
     "metadata": {},
     "output_type": "display_data"
    }
   ],
   "source": [
    "\n",
    "authorPathLenDiffSampleSize_filterd.to_csv('main/filtered_sampleSize_result.csv')\n",
    "display(authorPathLenDiffSampleSize_filterd)\n",
    "display(authorPathLenDiffSampleSize)"
   ]
  },
  {
   "cell_type": "markdown",
   "id": "1520bd08",
   "metadata": {},
   "source": [
    "We see that filtered data follows same pattern but different values as unfiltered data for main dataset"
   ]
  },
  {
   "cell_type": "markdown",
   "id": "f9131ca5",
   "metadata": {},
   "source": [
    "#### Use Snap to speed up process"
   ]
  },
  {
   "cell_type": "code",
   "execution_count": 30,
   "id": "0deed644",
   "metadata": {},
   "outputs": [
    {
     "name": "stderr",
     "output_type": "stream",
     "text": [
      "100%|███████████████████████████████████| 7818/7818 [00:00<00:00, 585607.08it/s]\n"
     ]
    },
    {
     "name": "stdout",
     "output_type": "stream",
     "text": [
      "-- START ANALYZING\n"
     ]
    },
    {
     "name": "stderr",
     "output_type": "stream",
     "text": [
      "100%|████████████████████████████████████| 7818/7818 [00:00<00:00, 20539.55it/s]\n",
      "100%|█████████████████████████████████| 35476/35476 [00:00<00:00, 852935.34it/s]\n"
     ]
    },
    {
     "name": "stdout",
     "output_type": "stream",
     "text": [
      "-- START ANALYZING\n"
     ]
    },
    {
     "name": "stderr",
     "output_type": "stream",
     "text": [
      "100%|███████████████████████████████████| 35476/35476 [00:16<00:00, 2157.98it/s]\n",
      "100%|█████████████████████████████████| 66687/66687 [00:00<00:00, 924319.50it/s]\n"
     ]
    },
    {
     "name": "stdout",
     "output_type": "stream",
     "text": [
      "-- START ANALYZING\n"
     ]
    },
    {
     "name": "stderr",
     "output_type": "stream",
     "text": [
      "100%|████████████████████████████████████| 66687/66687 [01:56<00:00, 574.45it/s]\n"
     ]
    }
   ],
   "source": [
    "import snap\n",
    "result =pd.DataFrame(columns = ['Number of Authors',\n",
    "                                'Nonzero',\n",
    "                                '% Existence', \n",
    "                                'average', \n",
    "                                'median'])\n",
    "\n",
    "sampleSize = [0.01, 0.05, 0.1]\n",
    "\n",
    "for size in sampleSize:\n",
    "    tmp = comments.sample(frac=size,random_state = 1121)\n",
    "    \n",
    "    tmp = tmp.merge(id_author, left_on='link_id', right_on='link_id')\n",
    "    \n",
    "    # encode into int to pass in snap graph\n",
    "    author_list = tmp.author.append(tmp.link_author).unique().tolist()\n",
    "    encode_int = pd.DataFrame({'author': author_list, 'author_id':range(len(author_list))})\n",
    "    tmp = tmp.merge(encode_int, on = 'author')\n",
    "    encode_int.columns = ['link_author','link_author_id']\n",
    "    tmp = tmp.merge(encode_int, on = 'link_author')\n",
    "    \n",
    "    # construct graph in snap\n",
    "    G1 = snap.TUNGraph.New()\n",
    "    # Add nodes:\n",
    "    nodes = tmp.author_id.append(tmp.link_author_id).unique().tolist()\n",
    "    for node in tqdm.tqdm(nodes):\n",
    "        G1.AddNode(int(node))\n",
    "    # Add edges:\n",
    "    for index, row in tmp.iterrows():\n",
    "        G1.AddEdge(int(row['link_author_id']), int(row['author_id']))\n",
    "    \n",
    "    countPath = 0\n",
    "    avgs = []\n",
    "    max_len = 0\n",
    "\n",
    "    index = str(size)\n",
    "\n",
    "    print('-- START ANALYZING')\n",
    "\n",
    "    for i in tqdm.tqdm(nodes):\n",
    "        shortestPath, NIdToDistH = G1.GetShortPathAll(i, MaxDist = 10)\n",
    "        countPath += len(NIdToDistH)\n",
    "        if len(NIdToDistH)== 1:\n",
    "            tmp = 0\n",
    "        else:\n",
    "            sum_length = 0\n",
    "            for item in NIdToDistH:\n",
    "                sum_length += NIdToDistH[item]\n",
    "            tmp =  sum_length / (len(NIdToDistH)-1)\n",
    "        avgs.append(tmp)\n",
    "\n",
    "    result.at[index, 'Number of Authors'] = len(nodes)\n",
    "    result.at[index,'Nonzero'] = countPath\n",
    "    result.at[index,'% Existence'] = countPath/len(nodes)**2\n",
    "    result.at[index,'average'] = sum(avgs)/len(nodes)\n",
    "    result.at[index,'median'] = avgs[len(avgs)//2]"
   ]
  },
  {
   "cell_type": "code",
   "execution_count": 31,
   "id": "44e9d109",
   "metadata": {},
   "outputs": [
    {
     "data": {
      "text/html": [
       "<div>\n",
       "<style scoped>\n",
       "    .dataframe tbody tr th:only-of-type {\n",
       "        vertical-align: middle;\n",
       "    }\n",
       "\n",
       "    .dataframe tbody tr th {\n",
       "        vertical-align: top;\n",
       "    }\n",
       "\n",
       "    .dataframe thead th {\n",
       "        text-align: right;\n",
       "    }\n",
       "</style>\n",
       "<table border=\"1\" class=\"dataframe\">\n",
       "  <thead>\n",
       "    <tr style=\"text-align: right;\">\n",
       "      <th></th>\n",
       "      <th>Number of Authors</th>\n",
       "      <th>Nonzero</th>\n",
       "      <th>% Existence</th>\n",
       "      <th>average</th>\n",
       "      <th>median</th>\n",
       "    </tr>\n",
       "  </thead>\n",
       "  <tbody>\n",
       "    <tr>\n",
       "      <th>0.01</th>\n",
       "      <td>7818</td>\n",
       "      <td>201788</td>\n",
       "      <td>0.003301</td>\n",
       "      <td>1.146255</td>\n",
       "      <td>1.0</td>\n",
       "    </tr>\n",
       "    <tr>\n",
       "      <th>0.05</th>\n",
       "      <td>35476</td>\n",
       "      <td>10846110</td>\n",
       "      <td>0.008618</td>\n",
       "      <td>1.455772</td>\n",
       "      <td>1.0</td>\n",
       "    </tr>\n",
       "    <tr>\n",
       "      <th>0.1</th>\n",
       "      <td>66687</td>\n",
       "      <td>76875665</td>\n",
       "      <td>0.017286</td>\n",
       "      <td>1.735625</td>\n",
       "      <td>1.5</td>\n",
       "    </tr>\n",
       "  </tbody>\n",
       "</table>\n",
       "</div>"
      ],
      "text/plain": [
       "     Number of Authors   Nonzero % Existence   average median\n",
       "0.01              7818    201788    0.003301  1.146255    1.0\n",
       "0.05             35476  10846110    0.008618  1.455772    1.0\n",
       "0.1              66687  76875665    0.017286  1.735625    1.5"
      ]
     },
     "metadata": {},
     "output_type": "display_data"
    },
    {
     "data": {
      "text/html": [
       "<div>\n",
       "<style scoped>\n",
       "    .dataframe tbody tr th:only-of-type {\n",
       "        vertical-align: middle;\n",
       "    }\n",
       "\n",
       "    .dataframe tbody tr th {\n",
       "        vertical-align: top;\n",
       "    }\n",
       "\n",
       "    .dataframe thead th {\n",
       "        text-align: right;\n",
       "    }\n",
       "</style>\n",
       "<table border=\"1\" class=\"dataframe\">\n",
       "  <thead>\n",
       "    <tr style=\"text-align: right;\">\n",
       "      <th></th>\n",
       "      <th>Number of Authors</th>\n",
       "      <th>Nonzero</th>\n",
       "      <th>% Existence</th>\n",
       "      <th>average</th>\n",
       "      <th>median</th>\n",
       "      <th>max</th>\n",
       "    </tr>\n",
       "  </thead>\n",
       "  <tbody>\n",
       "    <tr>\n",
       "      <th>0.01</th>\n",
       "      <td>7818</td>\n",
       "      <td>201788</td>\n",
       "      <td>0.003301</td>\n",
       "      <td>1.146255</td>\n",
       "      <td>1.000000</td>\n",
       "      <td>6</td>\n",
       "    </tr>\n",
       "    <tr>\n",
       "      <th>0.05</th>\n",
       "      <td>35476</td>\n",
       "      <td>10846110</td>\n",
       "      <td>0.008618</td>\n",
       "      <td>1.455772</td>\n",
       "      <td>2.222222</td>\n",
       "      <td>10</td>\n",
       "    </tr>\n",
       "    <tr>\n",
       "      <th>0.10</th>\n",
       "      <td>66687</td>\n",
       "      <td>76875665</td>\n",
       "      <td>0.017286</td>\n",
       "      <td>1.735625</td>\n",
       "      <td>1.928571</td>\n",
       "      <td>10</td>\n",
       "    </tr>\n",
       "    <tr>\n",
       "      <th>0.20</th>\n",
       "      <td>123382</td>\n",
       "      <td>644163416</td>\n",
       "      <td>0.042315</td>\n",
       "      <td>2.393930</td>\n",
       "      <td>1.000000</td>\n",
       "      <td>10</td>\n",
       "    </tr>\n",
       "    <tr>\n",
       "      <th>0.50</th>\n",
       "      <td>268755</td>\n",
       "      <td>11943196827</td>\n",
       "      <td>0.165351</td>\n",
       "      <td>3.577936</td>\n",
       "      <td>1.000000</td>\n",
       "      <td>10</td>\n",
       "    </tr>\n",
       "  </tbody>\n",
       "</table>\n",
       "</div>"
      ],
      "text/plain": [
       "      Number of Authors      Nonzero  % Existence   average    median  max\n",
       "0.01               7818       201788     0.003301  1.146255  1.000000    6\n",
       "0.05              35476     10846110     0.008618  1.455772  2.222222   10\n",
       "0.10              66687     76875665     0.017286  1.735625  1.928571   10\n",
       "0.20             123382    644163416     0.042315  2.393930  1.000000   10\n",
       "0.50             268755  11943196827     0.165351  3.577936  1.000000   10"
      ]
     },
     "metadata": {},
     "output_type": "display_data"
    }
   ],
   "source": [
    "display(result)\n",
    "display(authorPathLenDiffSampleSize)\n"
   ]
  },
  {
   "cell_type": "code",
   "execution_count": 32,
   "id": "9a1930c0",
   "metadata": {},
   "outputs": [],
   "source": [
    "result.to_csv('main/snap_result.csv')"
   ]
  },
  {
   "cell_type": "markdown",
   "id": "03f7b4f5",
   "metadata": {},
   "source": [
    "We see that using snap is way faster than nx, and gives almost same result. We will be using snap for the rest of the project (except if we need to draw graphs, we may consider using networkx)\n",
    "\n",
    "Also, we see that the using filtered data (filter inactive users) increases our performance, although the data are different, they follow same pattern. Hence we will also use filtered graph for the following part"
   ]
  },
  {
   "cell_type": "code",
   "execution_count": 34,
   "id": "1cdc1b03",
   "metadata": {},
   "outputs": [],
   "source": [
    "comments = comments.merge(id_author, left_on = 'link_id', right_on = 'link_id')"
   ]
  },
  {
   "cell_type": "code",
   "execution_count": 41,
   "id": "c2af51d2",
   "metadata": {},
   "outputs": [
    {
     "name": "stderr",
     "output_type": "stream",
     "text": [
      "100%|███████████████████████████████████████████| 15/15 [05:32<00:00, 22.16s/it]\n"
     ]
    }
   ],
   "source": [
    "import snap\n",
    "result =pd.DataFrame(columns = ['Number of Authors',\n",
    "                                'Nonzero',\n",
    "                                '% Existence', \n",
    "                                'average'])\n",
    "\n",
    "sampleSize = [i/100 for i in range (1,31,2)]\n",
    "sampleSize.append(0.35)\n",
    "sampleSize.append(0.4)\n",
    "sampleSize.append(0.5)\n",
    "\n",
    "for size in tqdm.tqdm(sampleSize):\n",
    "    tmp = comments.sample(frac=size,random_state = 1121)\n",
    "    \n",
    "    # encode into int to pass in snap graph\n",
    "    author_list = tmp.author.append(tmp.link_author).unique().tolist()\n",
    "    encode_int = pd.DataFrame({'author': author_list, 'author_id':range(len(author_list))})\n",
    "    tmp = tmp.merge(encode_int, on = 'author')\n",
    "    encode_int.columns = ['link_author','link_author_id']\n",
    "    tmp = tmp.merge(encode_int, on = 'link_author')\n",
    "    \n",
    "    # construct graph in snap\n",
    "    G1 = snap.TUNGraph.New()\n",
    "    # Add nodes:\n",
    "    nodes = tmp.author_id.append(tmp.link_author_id).unique().tolist()\n",
    "    for node in nodes:\n",
    "        G1.AddNode(int(node))\n",
    "    # Add edges:\n",
    "    for index, row in tmp.iterrows():\n",
    "        G1.AddEdge(int(row['link_author_id']), int(row['author_id']))\n",
    "    \n",
    "    G1.DelDegKNodes(1,1)\n",
    "    G1.DelDegKNodes(0,0)\n",
    "    \n",
    "    nodes = []\n",
    "    for NI in G1.Nodes():\n",
    "        nodes.append(NI.GetId())\n",
    "\n",
    "    countPath = 0\n",
    "    avgs = 0\n",
    "    max_len = 0\n",
    "\n",
    "    index = str(size)\n",
    "\n",
    "    for i in nodes:\n",
    "        shortestPath, NIdToDistH = G1.GetShortPathAll(i, MaxDist = 10)\n",
    "        countPath += len(NIdToDistH)\n",
    "        if len(NIdToDistH)== 1:\n",
    "            tmp = 0\n",
    "        else:\n",
    "            sum_length = 0\n",
    "            for item in NIdToDistH:\n",
    "                sum_length += NIdToDistH[item]\n",
    "            tmp =  sum_length / (len(NIdToDistH)-1)\n",
    "        avgs = avgs + tmp\n",
    "\n",
    "    result.at[index, 'Number of Authors'] = len(nodes)\n",
    "    result.at[index,'Nonzero'] = countPath\n",
    "    result.at[index,'% Existence'] = countPath/len(nodes)**2\n",
    "    result.at[index,'average'] = avgs/len(nodes)\n"
   ]
  },
  {
   "cell_type": "code",
   "execution_count": 50,
   "id": "f457b70f",
   "metadata": {},
   "outputs": [
    {
     "data": {
      "text/html": [
       "<div>\n",
       "<style scoped>\n",
       "    .dataframe tbody tr th:only-of-type {\n",
       "        vertical-align: middle;\n",
       "    }\n",
       "\n",
       "    .dataframe tbody tr th {\n",
       "        vertical-align: top;\n",
       "    }\n",
       "\n",
       "    .dataframe thead th {\n",
       "        text-align: right;\n",
       "    }\n",
       "</style>\n",
       "<table border=\"1\" class=\"dataframe\">\n",
       "  <thead>\n",
       "    <tr style=\"text-align: right;\">\n",
       "      <th></th>\n",
       "      <th>Number of Authors</th>\n",
       "      <th>Nonzero</th>\n",
       "      <th>% Existence</th>\n",
       "      <th>average</th>\n",
       "    </tr>\n",
       "  </thead>\n",
       "  <tbody>\n",
       "    <tr>\n",
       "      <th>0.01</th>\n",
       "      <td>24</td>\n",
       "      <td>92</td>\n",
       "      <td>0.159722</td>\n",
       "      <td>1.083333</td>\n",
       "    </tr>\n",
       "    <tr>\n",
       "      <th>0.03</th>\n",
       "      <td>239</td>\n",
       "      <td>2885</td>\n",
       "      <td>0.050507</td>\n",
       "      <td>1.45328</td>\n",
       "    </tr>\n",
       "    <tr>\n",
       "      <th>0.05</th>\n",
       "      <td>601</td>\n",
       "      <td>20431</td>\n",
       "      <td>0.056564</td>\n",
       "      <td>1.904356</td>\n",
       "    </tr>\n",
       "    <tr>\n",
       "      <th>0.07</th>\n",
       "      <td>1112</td>\n",
       "      <td>85874</td>\n",
       "      <td>0.069447</td>\n",
       "      <td>2.236202</td>\n",
       "    </tr>\n",
       "    <tr>\n",
       "      <th>0.09</th>\n",
       "      <td>1779</td>\n",
       "      <td>253429</td>\n",
       "      <td>0.080076</td>\n",
       "      <td>2.306669</td>\n",
       "    </tr>\n",
       "    <tr>\n",
       "      <th>0.11</th>\n",
       "      <td>2568</td>\n",
       "      <td>672106</td>\n",
       "      <td>0.101917</td>\n",
       "      <td>2.674572</td>\n",
       "    </tr>\n",
       "    <tr>\n",
       "      <th>0.13</th>\n",
       "      <td>3498</td>\n",
       "      <td>1572446</td>\n",
       "      <td>0.12851</td>\n",
       "      <td>2.947919</td>\n",
       "    </tr>\n",
       "    <tr>\n",
       "      <th>0.15</th>\n",
       "      <td>4429</td>\n",
       "      <td>3065701</td>\n",
       "      <td>0.156285</td>\n",
       "      <td>3.206518</td>\n",
       "    </tr>\n",
       "    <tr>\n",
       "      <th>0.17</th>\n",
       "      <td>5562</td>\n",
       "      <td>5206908</td>\n",
       "      <td>0.168313</td>\n",
       "      <td>3.35747</td>\n",
       "    </tr>\n",
       "    <tr>\n",
       "      <th>0.19</th>\n",
       "      <td>6725</td>\n",
       "      <td>8342551</td>\n",
       "      <td>0.184465</td>\n",
       "      <td>3.546538</td>\n",
       "    </tr>\n",
       "    <tr>\n",
       "      <th>0.21</th>\n",
       "      <td>7892</td>\n",
       "      <td>14024364</td>\n",
       "      <td>0.225169</td>\n",
       "      <td>3.890143</td>\n",
       "    </tr>\n",
       "    <tr>\n",
       "      <th>0.23</th>\n",
       "      <td>9137</td>\n",
       "      <td>20863169</td>\n",
       "      <td>0.249904</td>\n",
       "      <td>4.085142</td>\n",
       "    </tr>\n",
       "    <tr>\n",
       "      <th>0.25</th>\n",
       "      <td>10479</td>\n",
       "      <td>30058419</td>\n",
       "      <td>0.273733</td>\n",
       "      <td>4.213305</td>\n",
       "    </tr>\n",
       "    <tr>\n",
       "      <th>0.27</th>\n",
       "      <td>12011</td>\n",
       "      <td>43539853</td>\n",
       "      <td>0.301807</td>\n",
       "      <td>4.379183</td>\n",
       "    </tr>\n",
       "    <tr>\n",
       "      <th>0.29</th>\n",
       "      <td>13449</td>\n",
       "      <td>59913087</td>\n",
       "      <td>0.331239</td>\n",
       "      <td>4.506094</td>\n",
       "    </tr>\n",
       "    <tr>\n",
       "      <th>0.35</th>\n",
       "      <td>18100</td>\n",
       "      <td>127662524</td>\n",
       "      <td>0.389678</td>\n",
       "      <td>4.783618</td>\n",
       "    </tr>\n",
       "    <tr>\n",
       "      <th>0.4</th>\n",
       "      <td>22330</td>\n",
       "      <td>217215040</td>\n",
       "      <td>0.435625</td>\n",
       "      <td>4.940028</td>\n",
       "    </tr>\n",
       "    <tr>\n",
       "      <th>0.5</th>\n",
       "      <td>31228</td>\n",
       "      <td>493174128</td>\n",
       "      <td>0.505722</td>\n",
       "      <td>5.080034</td>\n",
       "    </tr>\n",
       "    <tr>\n",
       "      <th>0.6</th>\n",
       "      <td>40505</td>\n",
       "      <td>925550141</td>\n",
       "      <td>0.564135</td>\n",
       "      <td>5.182999</td>\n",
       "    </tr>\n",
       "  </tbody>\n",
       "</table>\n",
       "</div>"
      ],
      "text/plain": [
       "     Number of Authors    Nonzero % Existence   average\n",
       "0.01                24         92    0.159722  1.083333\n",
       "0.03               239       2885    0.050507   1.45328\n",
       "0.05               601      20431    0.056564  1.904356\n",
       "0.07              1112      85874    0.069447  2.236202\n",
       "0.09              1779     253429    0.080076  2.306669\n",
       "0.11              2568     672106    0.101917  2.674572\n",
       "0.13              3498    1572446     0.12851  2.947919\n",
       "0.15              4429    3065701    0.156285  3.206518\n",
       "0.17              5562    5206908    0.168313   3.35747\n",
       "0.19              6725    8342551    0.184465  3.546538\n",
       "0.21              7892   14024364    0.225169  3.890143\n",
       "0.23              9137   20863169    0.249904  4.085142\n",
       "0.25             10479   30058419    0.273733  4.213305\n",
       "0.27             12011   43539853    0.301807  4.379183\n",
       "0.29             13449   59913087    0.331239  4.506094\n",
       "0.35             18100  127662524    0.389678  4.783618\n",
       "0.4              22330  217215040    0.435625  4.940028\n",
       "0.5              31228  493174128    0.505722  5.080034\n",
       "0.6              40505  925550141    0.564135  5.182999"
      ]
     },
     "metadata": {},
     "output_type": "display_data"
    }
   ],
   "source": [
    "display(result)\n",
    "result.to_csv('main/filtered_pathlen.csv')"
   ]
  },
  {
   "cell_type": "markdown",
   "id": "22dca95e",
   "metadata": {},
   "source": [
    "# Plottings / Insights"
   ]
  },
  {
   "cell_type": "code",
   "execution_count": 51,
   "id": "6abcbc4a",
   "metadata": {},
   "outputs": [],
   "source": [
    "import pandas as pd\n",
    "import networkx as nx\n",
    "import matplotlib.pyplot as plt"
   ]
  },
  {
   "cell_type": "code",
   "execution_count": 52,
   "id": "5b79a162",
   "metadata": {},
   "outputs": [],
   "source": [
    "main_result = pd.read_csv('main/filtered_pathlen.csv', index_col=0)"
   ]
  },
  {
   "cell_type": "code",
   "execution_count": 54,
   "id": "c0efec4d",
   "metadata": {},
   "outputs": [],
   "source": [
    "full_result = pd.read_csv('full/result.csv', index_col=0)"
   ]
  },
  {
   "cell_type": "code",
   "execution_count": 60,
   "id": "db4419c2",
   "metadata": {},
   "outputs": [],
   "source": [
    "importance_of_active = pd.read_csv('full/importance_of_active.csv',index_col =0)"
   ]
  },
  {
   "cell_type": "code",
   "execution_count": 61,
   "id": "46a34eed",
   "metadata": {},
   "outputs": [],
   "source": [
    "full_per = pd.read_csv('full/PS5_author_avg.csv',index_col=0)\n",
    "full_filtered_per = pd.read_csv('full/PS5_filtered_author_avg.csv',index_col=0)"
   ]
  },
  {
   "cell_type": "code",
   "execution_count": 59,
   "id": "ad0cf61d",
   "metadata": {},
   "outputs": [],
   "source": [
    "G = nx.from_pandas_edgelist(comments, 'author','link_author')"
   ]
  },
  {
   "cell_type": "code",
   "execution_count": null,
   "id": "0c6f6987",
   "metadata": {},
   "outputs": [],
   "source": [
    "# TODO:\n",
    "\n",
    "# box charts: <DONE>\n",
    "#    - full avg per (box) (count) (q3) [X] <== box_1.png\n",
    "\n",
    "# bar charts: <DONE>\n",
    "#    - importance_of_active (compare %, compare avg) (q4) [X] <== bar_1.png\n",
    "#    - full_result[filtered vs remove top 1%] avg (q4) [X] <== bar_2.png\n",
    "\n",
    "# scattered: <DONE>\n",
    "#    - main_result (x = perc, y = existence) (q1) <== scatter_2.png\n",
    "#    - main_result (x = perc, y = #of author) (before q1, data insight) <== scatter_3.png\n",
    "#    - main_result (x = perc, y = avg) (q2) <== scatter_2.png\n",
    "#    - main_result (x = # of author, y = existence) (q1) <== scatter_1.png\n",
    "#    - main_result (x = # of author, y = avg) (q1) <== scatter_1.png\n",
    "\n",
    "\n",
    "# pie chart: <DONE>\n",
    "#    - full_result [filtered, remove top 1%] (% of existence) q4 <== pie_2.png\n",
    "#    - full_result [full, filtered] (% of existence) verify filtering <== pie_3.png\n",
    "#    - main_result [full, filtered (50%)] (% of existence) verify filtering <== pie_1.png"
   ]
  },
  {
   "cell_type": "code",
   "execution_count": 72,
   "id": "251dd99d",
   "metadata": {},
   "outputs": [],
   "source": [
    "full_result.columns=['Number of Authors', 'Number of Path', '% Existence', 'Average']"
   ]
  },
  {
   "cell_type": "markdown",
   "id": "1bbee568",
   "metadata": {},
   "source": [
    "## Box plotting"
   ]
  },
  {
   "cell_type": "code",
   "execution_count": 89,
   "id": "930a0585",
   "metadata": {},
   "outputs": [
    {
     "name": "stdout",
     "output_type": "stream",
     "text": [
      "Average path length of all authors under PS5: \n"
     ]
    },
    {
     "data": {
      "text/plain": [
       "count    148422.000000\n",
       "mean          3.002370\n",
       "std           0.350948\n",
       "min           0.000000\n",
       "25%           2.727219\n",
       "50%           2.957802\n",
       "75%           3.240021\n",
       "max           5.341353\n",
       "Name: average path length of each author to other authors, dtype: float64"
      ]
     },
     "metadata": {},
     "output_type": "display_data"
    },
    {
     "data": {
      "image/png": "[encoded data removed]",
      "text/plain": [
       "<Figure size 432x288 with 1 Axes>"
      ]
     },
     "metadata": {
      "needs_background": "light"
     },
     "output_type": "display_data"
    }
   ],
   "source": [
    "full_filtered_per.columns = ['author', 'average path length of each author to other authors']\n",
    "tmp = full_filtered_per.boxplot(column='average path length of each author to other authors', fontsize=14)\n",
    "print(\"Average path length of all authors under PS5: \")\n",
    "display(full_filtered_per['average path length of each author to other authors'].describe())"
   ]
  },
  {
   "cell_type": "markdown",
   "id": "86640d43",
   "metadata": {},
   "source": [
    "## Bar charts"
   ]
  },
  {
   "cell_type": "code",
   "execution_count": 153,
   "id": "74eab446",
   "metadata": {},
   "outputs": [
    {
     "data": {
      "image/png": "[encoded data removed]",
      "text/plain": [
       "<Figure size 576x288 with 1 Axes>"
      ]
     },
     "metadata": {
      "needs_background": "light"
     },
     "output_type": "display_data"
    },
    {
     "data": {
      "image/png": "[encoded data removed]",
      "text/plain": [
       "<Figure size 576x288 with 1 Axes>"
      ]
     },
     "metadata": {
      "needs_background": "light"
     },
     "output_type": "display_data"
    }
   ],
   "source": [
    "tmp = importance_of_active[['random %','remove 1 %', 'remove 5 %', 'remove 10 %', 'remove 25 %']]\n",
    "tmp.columns = ['full data', 'remove top 1%', 'remove top 5%','remove top 10%','remove top 25%']\n",
    "\n",
    "tmp.plot.bar(xlabel = 'sample proportion of dataset',\n",
    "             ylabel = '% existence of path',\n",
    "             figsize = (8,4),\n",
    "             fontsize = 14,\n",
    "             title = '% Existence after removing top k % most active users',\n",
    "             rot = 0)\n",
    "plt.show()\n",
    "\n",
    "tmp = importance_of_active[['random avg','remove 1 avg', 'remove 5 avg', 'remove 10 avg', 'remove 25 avg']]\n",
    "tmp.columns = ['full data', 'remove top 1%', 'remove top 5%','remove top 10%','remove top 25%']\n",
    "tmp.plot.bar(xlabel = 'sample proportion of dataset',\n",
    "             ylabel = 'avg path length',\n",
    "             figsize = (8,4),\n",
    "             fontsize = 14,\n",
    "             title = 'avg path length after removing top k % most active users',\n",
    "             rot = 0)\n",
    "plt.show()"
   ]
  },
  {
   "cell_type": "code",
   "execution_count": 152,
   "id": "d50848c1",
   "metadata": {},
   "outputs": [
    {
     "data": {
      "text/html": [
       "<div>\n",
       "<style scoped>\n",
       "    .dataframe tbody tr th:only-of-type {\n",
       "        vertical-align: middle;\n",
       "    }\n",
       "\n",
       "    .dataframe tbody tr th {\n",
       "        vertical-align: top;\n",
       "    }\n",
       "\n",
       "    .dataframe thead th {\n",
       "        text-align: right;\n",
       "    }\n",
       "</style>\n",
       "<table border=\"1\" class=\"dataframe\">\n",
       "  <thead>\n",
       "    <tr style=\"text-align: right;\">\n",
       "      <th></th>\n",
       "      <th>Number of Authors</th>\n",
       "      <th>Number of Path</th>\n",
       "      <th>% Existence</th>\n",
       "      <th>Average</th>\n",
       "    </tr>\n",
       "  </thead>\n",
       "  <tbody>\n",
       "    <tr>\n",
       "      <th>Original</th>\n",
       "      <td>148422</td>\n",
       "      <td>22017811496</td>\n",
       "      <td>0.999488</td>\n",
       "      <td>3.002370</td>\n",
       "    </tr>\n",
       "    <tr>\n",
       "      <th>remove top 1%</th>\n",
       "      <td>146938</td>\n",
       "      <td>11882782146</td>\n",
       "      <td>0.550364</td>\n",
       "      <td>3.220571</td>\n",
       "    </tr>\n",
       "  </tbody>\n",
       "</table>\n",
       "</div>"
      ],
      "text/plain": [
       "               Number of Authors  Number of Path  % Existence   Average\n",
       "Original                  148422     22017811496     0.999488  3.002370\n",
       "remove top 1%             146938     11882782146     0.550364  3.220571"
      ]
     },
     "metadata": {},
     "output_type": "display_data"
    },
    {
     "data": {
      "image/png": "[encoded data removed]",
      "text/plain": [
       "<Figure size 576x288 with 1 Axes>"
      ]
     },
     "metadata": {
      "needs_background": "light"
     },
     "output_type": "display_data"
    }
   ],
   "source": [
    "tmp = full_result.loc['PS5 - filtered':]\n",
    "tmp = tmp.rename(index = {'PS5 - filtered': 'Original', 'PS5 - remove top 1%': 'remove top 1%'})\n",
    "display(tmp)\n",
    "ax = tmp.plot.bar(xlabel = 'Remove top 1% most active user',\n",
    "                  ylabel = 'Path length average',\n",
    "                  y = 'Average',\n",
    "                  figsize = (8,4),\n",
    "                  fontsize = 14,\n",
    "                  title = 'Average path length of original VS remove top 1% most active',\n",
    "                  width = 0.4,\n",
    "                  rot = 0)\n",
    "ax.set_yticks(tmp['Average'])\n",
    "plt.show()"
   ]
  },
  {
   "cell_type": "markdown",
   "id": "a9e5a3b6",
   "metadata": {},
   "source": [
    "## Scattered"
   ]
  },
  {
   "cell_type": "code",
   "execution_count": 187,
   "id": "9d009423",
   "metadata": {},
   "outputs": [
    {
     "data": {
      "image/png": "[encoded data removed]",
      "text/plain": [
       "<Figure size 432x288 with 2 Axes>"
      ]
     },
     "metadata": {
      "needs_background": "light"
     },
     "output_type": "display_data"
    }
   ],
   "source": [
    "main_result['sample %'] = main_result.index\n",
    "\n",
    "tmp = main_result[['% Existence', 'average', 'Number of Authors']]\n",
    "\n",
    "fig, axes = plt.subplots(1,len(tmp.columns.values)-1)\n",
    "\n",
    "for i, col in enumerate(tmp.columns.values[:-1]):\n",
    "    tmp.plot(x=['Number of Authors'], y=[col], kind=\"scatter\", ax=axes[i], title = 'Number of Authors vs ' + str(col))\n",
    "\n",
    "plt.show()"
   ]
  },
  {
   "cell_type": "code",
   "execution_count": 186,
   "id": "e5c88d10",
   "metadata": {},
   "outputs": [
    {
     "data": {
      "image/png": "[encoded data removed]",
      "text/plain": [
       "<Figure size 432x288 with 2 Axes>"
      ]
     },
     "metadata": {
      "needs_background": "light"
     },
     "output_type": "display_data"
    }
   ],
   "source": [
    "tmp = main_result[['% Existence', 'average', 'sample %']]\n",
    "\n",
    "fig, axes = plt.subplots(1,len(tmp.columns.values)-1)\n",
    "\n",
    "for i, col in enumerate(tmp.columns.values[:-1]):\n",
    "    tmp.plot(x=['sample %'], y=[col], kind=\"scatter\", ax=axes[i], title = 'sample % vs ' + str(col))\n",
    "\n",
    "plt.show()"
   ]
  },
  {
   "cell_type": "code",
   "execution_count": 188,
   "id": "748261ec",
   "metadata": {},
   "outputs": [
    {
     "data": {
      "image/png": "[encoded data removed]",
      "text/plain": [
       "<Figure size 432x288 with 1 Axes>"
      ]
     },
     "metadata": {
      "needs_background": "light"
     },
     "output_type": "display_data"
    }
   ],
   "source": [
    "main_result.plot.scatter(x = 'sample %', y = 'Number of Authors', title='sample % vs Number of Authors')\n",
    "plt.show()"
   ]
  },
  {
   "cell_type": "markdown",
   "id": "7e3ad251",
   "metadata": {},
   "source": [
    "## Pie charts"
   ]
  },
  {
   "cell_type": "code",
   "execution_count": 225,
   "id": "92045c60",
   "metadata": {},
   "outputs": [
    {
     "data": {
      "image/png": "[encoded data removed]",
      "text/plain": [
       "<Figure size 720x432 with 2 Axes>"
      ]
     },
     "metadata": {},
     "output_type": "display_data"
    }
   ],
   "source": [
    "tmp = pd.DataFrame()\n",
    "tmp.at['success %', '50% of main'] = authorPathLenDiffSampleSize.loc[0.5]['% Existence']\n",
    "tmp.at['', '50% of main'] = 1- authorPathLenDiffSampleSize.loc[0.5]['% Existence']\n",
    "\n",
    "tmp.at['success %', '50% of main (remove deg <=1)'] = result.loc['0.5']['% Existence']\n",
    "tmp.at['', '50% of main (remove deg <=1)'] = 1- result.loc['0.5']['% Existence']\n",
    "\n",
    "tmp.plot.pie(subplots=True, figsize = (10,6), title = '50% of main vs 50%(remove inactive users)')\n",
    "plt.show()"
   ]
  },
  {
   "cell_type": "code",
   "execution_count": 226,
   "id": "8ac1ddc0",
   "metadata": {},
   "outputs": [
    {
     "data": {
      "image/png": "[encoded data removed]",
      "text/plain": [
       "<Figure size 720x432 with 2 Axes>"
      ]
     },
     "metadata": {},
     "output_type": "display_data"
    }
   ],
   "source": [
    "tmp = pd.DataFrame()\n",
    "tmp.at['success %', 'Original'] = full_result.loc['PS5 - filtered']['% Existence']\n",
    "tmp.at['', 'Original'] = 1- full_result.loc['PS5 - filtered']['% Existence']\n",
    "\n",
    "tmp.at['success %', 'remove top 1%'] = full_result.loc['PS5 - remove top 1%']['% Existence']\n",
    "tmp.at['', 'remove top 1%'] = 1- full_result.loc['PS5 - remove top 1%']['% Existence']\n",
    "\n",
    "tmp.plot.pie(subplots=True, figsize = (10,6), title = '(PS5) full data vs remove active users')\n",
    "plt.show()"
   ]
  },
  {
   "cell_type": "code",
   "execution_count": 227,
   "id": "645953c1",
   "metadata": {},
   "outputs": [
    {
     "data": {
      "image/png": "[encoded data removed]",
      "text/plain": [
       "<Figure size 720x432 with 2 Axes>"
      ]
     },
     "metadata": {},
     "output_type": "display_data"
    }
   ],
   "source": [
    "tmp = pd.DataFrame()\n",
    "tmp.at['success %', 'Original'] = full_result.loc['PS5 - full']['% Existence']\n",
    "tmp.at['', 'Original'] = 1- full_result.loc['PS5 - full']['% Existence']\n",
    "\n",
    "tmp.at['success %', 'remove deg <=1'] = full_result.loc['PS5 - filtered']['% Existence']\n",
    "tmp.at['', 'remove deg <=1'] = 1- full_result.loc['PS5 - filtered']['% Existence']\n",
    "\n",
    "tmp.plot.pie(subplots=True, figsize = (10,6), title = '(PS5) full data vs remove inactive users')\n",
    "plt.show()"
   ]
  },
  {
   "cell_type": "code",
   "execution_count": null,
   "id": "835bcb64",
   "metadata": {},
   "outputs": [],
   "source": []
  }
 ],
 "metadata": {
  "kernelspec": {
   "display_name": "Python 3 (ipykernel)",
   "language": "python",
   "name": "python3"
  },
  "language_info": {
   "codemirror_mode": {
    "name": "ipython",
    "version": 3
   },
   "file_extension": ".py",
   "mimetype": "text/x-python",
   "name": "python",
   "nbconvert_exporter": "python",
   "pygments_lexer": "ipython3",
   "version": "3.8.10"
  }
 },
 "nbformat": 4,
 "nbformat_minor": 5
}
